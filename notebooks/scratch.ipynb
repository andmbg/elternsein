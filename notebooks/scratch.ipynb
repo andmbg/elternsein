{
 "cells": [
  {
   "cell_type": "code",
   "execution_count": 27,
   "metadata": {},
   "outputs": [],
   "source": [
    "import pandas as pd\n",
    "import geopandas as gpd\n",
    "import numpy as np\n",
    "import plotly.express as px\n",
    "import plotly.graph_objects as go\n",
    "from plotly.subplots import make_subplots\n",
    "import matplotlib.pyplot as plt\n",
    "from matplotlib.gridspec import GridSpec\n",
    "import matplotlib\n",
    "\n",
    "from data.sources import destatis_sources, bkg_source, processed_dir"
   ]
  },
  {
   "cell_type": "markdown",
   "metadata": {},
   "source": [
    "# Elterngeld: Basisdaten von destatis\n",
    "\n",
    "Hier führen wir einige Grunddaten ein, die bei destatis verfügbar sind."
   ]
  },
  {
   "cell_type": "markdown",
   "metadata": {},
   "source": [
    "## Geburten\n",
    "\n",
    "Die Zahl der Geburten dient als Grundlage, ohne die Schwankungen beim Elterngeldbezug nicht zu verstehen sind.\n",
    "Da die Spanne zwischen Bremen und NRW sehr groß ist und wir uns mehr für Unterschiede in den relativen Geburtenraten zwischen Ländern und über die Jahre hinweg interessieren, skalieren wir die Geburtenrate auf \"Geburten je 100.000 Einwohner:innen\".\n",
    "Die Tabelle enthält auch das Geschlecht des Kindes, das ignorieren wir hier."
   ]
  },
  {
   "cell_type": "code",
   "execution_count": 28,
   "metadata": {},
   "outputs": [
    {
     "data": {
      "application/vnd.plotly.v1+json": {
       "config": {
        "plotlyServerURL": "https://plot.ly"
       },
       "data": [
        {
         "mode": "markers+lines",
         "name": "Baden-Württemberg",
         "type": "scatter",
         "x": [
          2009,
          2010,
          2011,
          2012,
          2013,
          2014,
          2015,
          2016,
          2017,
          2018,
          2019,
          2020,
          2021
         ],
         "y": [
          8.346082767849106,
          8.43370020866887,
          8.449322093698314,
          8.465896516745827,
          8.607149582580758,
          8.923689169855788,
          9.216224319640634,
          9.814467690654027,
          9.74062054216362,
          9.839529815756455,
          9.818119969435319,
          9.729224681918282,
          10.20563178572398
         ]
        },
        {
         "mode": "markers+lines",
         "name": "Bayern",
         "type": "scatter",
         "x": [
          2009,
          2010,
          2011,
          2012,
          2013,
          2014,
          2015,
          2016,
          2017,
          2018,
          2019,
          2020,
          2021
         ],
         "y": [
          8.289948523344426,
          8.394094569323636,
          8.33118225509934,
          8.549733852701502,
          8.69246898108288,
          8.977220151205904,
          9.205268900707392,
          9.719930420127957,
          9.708780442316671,
          9.759021393818832,
          9.769871960100991,
          9.79925469835542,
          10.193603409701563
         ]
        },
        {
         "mode": "markers+lines",
         "name": "Berlin",
         "type": "scatter",
         "x": [
          2009,
          2010,
          2011,
          2012,
          2013,
          2014,
          2015,
          2016,
          2017,
          2018,
          2019,
          2020,
          2021
         ],
         "y": [
          9.325306629292628,
          9.64913421320677,
          9.944371651009229,
          10.274287143186433,
          10.239553174632631,
          10.769344717882536,
          10.80388212490174,
          11.493133939236271,
          11.113893889433914,
          11.030156172064181,
          10.765253273546659,
          10.560062967919984,
          10.650794893883624
         ]
        },
        {
         "mode": "markers+lines",
         "name": "Brandenburg",
         "type": "scatter",
         "x": [
          2009,
          2010,
          2011,
          2012,
          2013,
          2014,
          2015,
          2016,
          2017,
          2018,
          2019,
          2020,
          2021
         ],
         "y": [
          7.380774628960492,
          7.571687147186903,
          7.451145044391361,
          7.545179425607805,
          7.4943052670818515,
          7.868188416646595,
          7.691484232698788,
          8.391564661627612,
          8.121675372597881,
          7.914672339890211,
          7.664480610398617,
          7.5059135045994365,
          7.498025902056372
         ]
        },
        {
         "mode": "markers+lines",
         "name": "Bremen",
         "type": "scatter",
         "x": [
          2009,
          2010,
          2011,
          2012,
          2013,
          2014,
          2015,
          2016,
          2017,
          2018,
          2019,
          2020,
          2021
         ],
         "y": [
          8.283009629508733,
          8.474268434069012,
          8.261497557430287,
          8.612131819528571,
          8.745176006364554,
          9.383762811835235,
          9.693382914686614,
          10.51339736251626,
          10.278518483712954,
          10.487769881081018,
          10.49468439611158,
          10.245100201432079,
          10.305072117765496
         ]
        },
        {
         "mode": "markers+lines",
         "name": "Hamburg",
         "type": "scatter",
         "x": [
          2009,
          2010,
          2011,
          2012,
          2013,
          2014,
          2015,
          2016,
          2017,
          2018,
          2019,
          2020,
          2021
         ],
         "y": [
          9.457092227362498,
          9.727123319570454,
          9.966901158022964,
          10.209471178684772,
          10.385709099363126,
          10.800486274322934,
          11.05959019988721,
          11.86453222921746,
          11.544403316100217,
          11.474169540278268,
          11.335750977261913,
          11.02901087084435,
          11.336967045770214
         ]
        },
        {
         "mode": "markers+lines",
         "name": "Hessen",
         "type": "scatter",
         "x": [
          2009,
          2010,
          2011,
          2012,
          2013,
          2014,
          2015,
          2016,
          2017,
          2018,
          2019,
          2020,
          2021
         ],
         "y": [
          8.370902371200296,
          8.528402983935608,
          8.588749887174535,
          8.577605414194776,
          8.632147450344682,
          8.964884159341295,
          9.211045288246506,
          9.774688528474085,
          9.768611344518298,
          9.737290108906926,
          9.551723260518314,
          9.437080357480525,
          9.776939442737008
         ]
        },
        {
         "mode": "markers+lines",
         "name": "Mecklenburg-Vorpommern",
         "type": "scatter",
         "x": [
          2009,
          2010,
          2011,
          2012,
          2013,
          2014,
          2015,
          2016,
          2017,
          2018,
          2019,
          2020,
          2021
         ],
         "y": [
          7.881464326896056,
          8.120794458107309,
          7.864837802500343,
          7.945251189288189,
          7.867184881976567,
          8.023072430271808,
          8.247527540341437,
          8.345574585546176,
          8.119201623219638,
          8.09604423253141,
          7.85380359148282,
          7.487704668687227,
          7.3518458750217235
         ]
        },
        {
         "mode": "markers+lines",
         "name": "Niedersachsen",
         "type": "scatter",
         "x": [
          2009,
          2010,
          2011,
          2012,
          2013,
          2014,
          2015,
          2016,
          2017,
          2018,
          2019,
          2020,
          2021
         ],
         "y": [
          7.848335470054478,
          7.972677949654047,
          7.882429347231175,
          7.90307745409272,
          8.071179487890406,
          8.484504210501973,
          8.475640056977777,
          9.466144202796864,
          9.170169947034797,
          9.226743475184556,
          9.168075292158434,
          9.260914801308092,
          9.522948148574486
         ]
        },
        {
         "mode": "markers+lines",
         "name": "Nordrhein-Westfalen",
         "type": "scatter",
         "x": [
          2009,
          2010,
          2011,
          2012,
          2013,
          2014,
          2015,
          2016,
          2017,
          2018,
          2019,
          2020,
          2021
         ],
         "y": [
          8.114525996903781,
          8.256191008494518,
          8.156027681602522,
          8.303080112033904,
          8.332472107670355,
          8.79357853664267,
          8.981996377826421,
          9.685468499337622,
          9.60125689099914,
          9.655571839322585,
          9.494004670695256,
          9.485779252765742,
          9.784658405873808
         ]
        },
        {
         "mode": "markers+lines",
         "name": "Rheinland-Pfalz",
         "type": "scatter",
         "x": [
          2009,
          2010,
          2011,
          2012,
          2013,
          2014,
          2015,
          2016,
          2017,
          2018,
          2019,
          2020,
          2021
         ],
         "y": [
          7.695863731799859,
          7.886116623311425,
          7.789659885018495,
          7.81123520717103,
          8.008530014525459,
          8.332622890420787,
          8.622674233117179,
          9.227130093975656,
          9.191445865027656,
          9.216263827945449,
          9.080088121286703,
          9.182140015435325,
          9.411211778443121
         ]
        },
        {
         "mode": "markers+lines",
         "name": "Saarland",
         "type": "scatter",
         "x": [
          2009,
          2010,
          2011,
          2012,
          2013,
          2014,
          2015,
          2016,
          2017,
          2018,
          2019,
          2020,
          2021
         ],
         "y": [
          6.77400900658625,
          6.944014497325483,
          7.103236442168451,
          6.917519790563489,
          6.912158656651035,
          7.409242342283135,
          7.5442171882799975,
          8.242604482411595,
          8.361606015769668,
          8.227083247098209,
          8.112377607568039,
          8.287677427943954,
          8.488845093592086
         ]
        },
        {
         "mode": "markers+lines",
         "name": "Sachsen",
         "type": "scatter",
         "x": [
          2009,
          2010,
          2011,
          2012,
          2013,
          2014,
          2015,
          2016,
          2017,
          2018,
          2019,
          2020,
          2021
         ],
         "y": [
          8.178266197011466,
          8.45672840215767,
          8.490738698953328,
          8.564013071934154,
          8.60026912911154,
          8.861300124233283,
          8.927131001840705,
          9.294957620236058,
          9.024802832817322,
          8.80101875041228,
          8.470345196466281,
          8.228613627854092,
          8.050453598588376
         ]
        },
        {
         "mode": "markers+lines",
         "name": "Sachsen-Anhalt",
         "type": "scatter",
         "x": [
          2009,
          2010,
          2011,
          2012,
          2013,
          2014,
          2015,
          2016,
          2017,
          2018,
          2019,
          2020,
          2021
         ],
         "y": [
          7.276063897286288,
          7.408974537966926,
          7.3952359869567665,
          7.47457392317317,
          7.48336991780634,
          7.633027785580985,
          7.7556146374701065,
          8.09032255756507,
          8.023549299373256,
          7.883817615283285,
          7.571594809871777,
          7.388966030841699,
          7.386874652242039
         ]
        },
        {
         "mode": "markers+lines",
         "name": "Schleswig-Holstein",
         "type": "scatter",
         "x": [
          2009,
          2010,
          2011,
          2012,
          2013,
          2014,
          2015,
          2016,
          2017,
          2018,
          2019,
          2020,
          2021
         ],
         "y": [
          7.741098513538184,
          7.966103309542283,
          7.612053959188742,
          7.840640277980183,
          7.749413609237364,
          8.051605446252452,
          8.237620132689035,
          8.820490186076949,
          8.67389364254741,
          8.71194651038833,
          8.489988714682587,
          8.377206166530682,
          8.657753836834639
         ]
        },
        {
         "mode": "markers+lines",
         "name": "Thüringen",
         "type": "scatter",
         "x": [
          2009,
          2010,
          2011,
          2012,
          2013,
          2014,
          2015,
          2016,
          2017,
          2018,
          2019,
          2020,
          2021
         ],
         "y": [
          7.491059531122076,
          7.841970447757856,
          7.825896829074768,
          7.990011334002929,
          8.064456415097832,
          8.293462551912384,
          8.261797731069132,
          8.560659979389545,
          8.42876434370504,
          8.13617370733198,
          7.80311787221955,
          7.5420813805249125,
          7.291606899073102
         ]
        }
       ],
       "layout": {
        "height": 800,
        "margin": {
         "b": 20,
         "l": 20,
         "r": 20,
         "t": 20
        },
        "template": {
         "data": {
          "bar": [
           {
            "error_x": {
             "color": "#2a3f5f"
            },
            "error_y": {
             "color": "#2a3f5f"
            },
            "marker": {
             "line": {
              "color": "#E5ECF6",
              "width": 0.5
             },
             "pattern": {
              "fillmode": "overlay",
              "size": 10,
              "solidity": 0.2
             }
            },
            "type": "bar"
           }
          ],
          "barpolar": [
           {
            "marker": {
             "line": {
              "color": "#E5ECF6",
              "width": 0.5
             },
             "pattern": {
              "fillmode": "overlay",
              "size": 10,
              "solidity": 0.2
             }
            },
            "type": "barpolar"
           }
          ],
          "carpet": [
           {
            "aaxis": {
             "endlinecolor": "#2a3f5f",
             "gridcolor": "white",
             "linecolor": "white",
             "minorgridcolor": "white",
             "startlinecolor": "#2a3f5f"
            },
            "baxis": {
             "endlinecolor": "#2a3f5f",
             "gridcolor": "white",
             "linecolor": "white",
             "minorgridcolor": "white",
             "startlinecolor": "#2a3f5f"
            },
            "type": "carpet"
           }
          ],
          "choropleth": [
           {
            "colorbar": {
             "outlinewidth": 0,
             "ticks": ""
            },
            "type": "choropleth"
           }
          ],
          "contour": [
           {
            "colorbar": {
             "outlinewidth": 0,
             "ticks": ""
            },
            "colorscale": [
             [
              0,
              "#0d0887"
             ],
             [
              0.1111111111111111,
              "#46039f"
             ],
             [
              0.2222222222222222,
              "#7201a8"
             ],
             [
              0.3333333333333333,
              "#9c179e"
             ],
             [
              0.4444444444444444,
              "#bd3786"
             ],
             [
              0.5555555555555556,
              "#d8576b"
             ],
             [
              0.6666666666666666,
              "#ed7953"
             ],
             [
              0.7777777777777778,
              "#fb9f3a"
             ],
             [
              0.8888888888888888,
              "#fdca26"
             ],
             [
              1,
              "#f0f921"
             ]
            ],
            "type": "contour"
           }
          ],
          "contourcarpet": [
           {
            "colorbar": {
             "outlinewidth": 0,
             "ticks": ""
            },
            "type": "contourcarpet"
           }
          ],
          "heatmap": [
           {
            "colorbar": {
             "outlinewidth": 0,
             "ticks": ""
            },
            "colorscale": [
             [
              0,
              "#0d0887"
             ],
             [
              0.1111111111111111,
              "#46039f"
             ],
             [
              0.2222222222222222,
              "#7201a8"
             ],
             [
              0.3333333333333333,
              "#9c179e"
             ],
             [
              0.4444444444444444,
              "#bd3786"
             ],
             [
              0.5555555555555556,
              "#d8576b"
             ],
             [
              0.6666666666666666,
              "#ed7953"
             ],
             [
              0.7777777777777778,
              "#fb9f3a"
             ],
             [
              0.8888888888888888,
              "#fdca26"
             ],
             [
              1,
              "#f0f921"
             ]
            ],
            "type": "heatmap"
           }
          ],
          "heatmapgl": [
           {
            "colorbar": {
             "outlinewidth": 0,
             "ticks": ""
            },
            "colorscale": [
             [
              0,
              "#0d0887"
             ],
             [
              0.1111111111111111,
              "#46039f"
             ],
             [
              0.2222222222222222,
              "#7201a8"
             ],
             [
              0.3333333333333333,
              "#9c179e"
             ],
             [
              0.4444444444444444,
              "#bd3786"
             ],
             [
              0.5555555555555556,
              "#d8576b"
             ],
             [
              0.6666666666666666,
              "#ed7953"
             ],
             [
              0.7777777777777778,
              "#fb9f3a"
             ],
             [
              0.8888888888888888,
              "#fdca26"
             ],
             [
              1,
              "#f0f921"
             ]
            ],
            "type": "heatmapgl"
           }
          ],
          "histogram": [
           {
            "marker": {
             "pattern": {
              "fillmode": "overlay",
              "size": 10,
              "solidity": 0.2
             }
            },
            "type": "histogram"
           }
          ],
          "histogram2d": [
           {
            "colorbar": {
             "outlinewidth": 0,
             "ticks": ""
            },
            "colorscale": [
             [
              0,
              "#0d0887"
             ],
             [
              0.1111111111111111,
              "#46039f"
             ],
             [
              0.2222222222222222,
              "#7201a8"
             ],
             [
              0.3333333333333333,
              "#9c179e"
             ],
             [
              0.4444444444444444,
              "#bd3786"
             ],
             [
              0.5555555555555556,
              "#d8576b"
             ],
             [
              0.6666666666666666,
              "#ed7953"
             ],
             [
              0.7777777777777778,
              "#fb9f3a"
             ],
             [
              0.8888888888888888,
              "#fdca26"
             ],
             [
              1,
              "#f0f921"
             ]
            ],
            "type": "histogram2d"
           }
          ],
          "histogram2dcontour": [
           {
            "colorbar": {
             "outlinewidth": 0,
             "ticks": ""
            },
            "colorscale": [
             [
              0,
              "#0d0887"
             ],
             [
              0.1111111111111111,
              "#46039f"
             ],
             [
              0.2222222222222222,
              "#7201a8"
             ],
             [
              0.3333333333333333,
              "#9c179e"
             ],
             [
              0.4444444444444444,
              "#bd3786"
             ],
             [
              0.5555555555555556,
              "#d8576b"
             ],
             [
              0.6666666666666666,
              "#ed7953"
             ],
             [
              0.7777777777777778,
              "#fb9f3a"
             ],
             [
              0.8888888888888888,
              "#fdca26"
             ],
             [
              1,
              "#f0f921"
             ]
            ],
            "type": "histogram2dcontour"
           }
          ],
          "mesh3d": [
           {
            "colorbar": {
             "outlinewidth": 0,
             "ticks": ""
            },
            "type": "mesh3d"
           }
          ],
          "parcoords": [
           {
            "line": {
             "colorbar": {
              "outlinewidth": 0,
              "ticks": ""
             }
            },
            "type": "parcoords"
           }
          ],
          "pie": [
           {
            "automargin": true,
            "type": "pie"
           }
          ],
          "scatter": [
           {
            "fillpattern": {
             "fillmode": "overlay",
             "size": 10,
             "solidity": 0.2
            },
            "type": "scatter"
           }
          ],
          "scatter3d": [
           {
            "line": {
             "colorbar": {
              "outlinewidth": 0,
              "ticks": ""
             }
            },
            "marker": {
             "colorbar": {
              "outlinewidth": 0,
              "ticks": ""
             }
            },
            "type": "scatter3d"
           }
          ],
          "scattercarpet": [
           {
            "marker": {
             "colorbar": {
              "outlinewidth": 0,
              "ticks": ""
             }
            },
            "type": "scattercarpet"
           }
          ],
          "scattergeo": [
           {
            "marker": {
             "colorbar": {
              "outlinewidth": 0,
              "ticks": ""
             }
            },
            "type": "scattergeo"
           }
          ],
          "scattergl": [
           {
            "marker": {
             "colorbar": {
              "outlinewidth": 0,
              "ticks": ""
             }
            },
            "type": "scattergl"
           }
          ],
          "scattermapbox": [
           {
            "marker": {
             "colorbar": {
              "outlinewidth": 0,
              "ticks": ""
             }
            },
            "type": "scattermapbox"
           }
          ],
          "scatterpolar": [
           {
            "marker": {
             "colorbar": {
              "outlinewidth": 0,
              "ticks": ""
             }
            },
            "type": "scatterpolar"
           }
          ],
          "scatterpolargl": [
           {
            "marker": {
             "colorbar": {
              "outlinewidth": 0,
              "ticks": ""
             }
            },
            "type": "scatterpolargl"
           }
          ],
          "scatterternary": [
           {
            "marker": {
             "colorbar": {
              "outlinewidth": 0,
              "ticks": ""
             }
            },
            "type": "scatterternary"
           }
          ],
          "surface": [
           {
            "colorbar": {
             "outlinewidth": 0,
             "ticks": ""
            },
            "colorscale": [
             [
              0,
              "#0d0887"
             ],
             [
              0.1111111111111111,
              "#46039f"
             ],
             [
              0.2222222222222222,
              "#7201a8"
             ],
             [
              0.3333333333333333,
              "#9c179e"
             ],
             [
              0.4444444444444444,
              "#bd3786"
             ],
             [
              0.5555555555555556,
              "#d8576b"
             ],
             [
              0.6666666666666666,
              "#ed7953"
             ],
             [
              0.7777777777777778,
              "#fb9f3a"
             ],
             [
              0.8888888888888888,
              "#fdca26"
             ],
             [
              1,
              "#f0f921"
             ]
            ],
            "type": "surface"
           }
          ],
          "table": [
           {
            "cells": {
             "fill": {
              "color": "#EBF0F8"
             },
             "line": {
              "color": "white"
             }
            },
            "header": {
             "fill": {
              "color": "#C8D4E3"
             },
             "line": {
              "color": "white"
             }
            },
            "type": "table"
           }
          ]
         },
         "layout": {
          "annotationdefaults": {
           "arrowcolor": "#2a3f5f",
           "arrowhead": 0,
           "arrowwidth": 1
          },
          "autotypenumbers": "strict",
          "coloraxis": {
           "colorbar": {
            "outlinewidth": 0,
            "ticks": ""
           }
          },
          "colorscale": {
           "diverging": [
            [
             0,
             "#8e0152"
            ],
            [
             0.1,
             "#c51b7d"
            ],
            [
             0.2,
             "#de77ae"
            ],
            [
             0.3,
             "#f1b6da"
            ],
            [
             0.4,
             "#fde0ef"
            ],
            [
             0.5,
             "#f7f7f7"
            ],
            [
             0.6,
             "#e6f5d0"
            ],
            [
             0.7,
             "#b8e186"
            ],
            [
             0.8,
             "#7fbc41"
            ],
            [
             0.9,
             "#4d9221"
            ],
            [
             1,
             "#276419"
            ]
           ],
           "sequential": [
            [
             0,
             "#0d0887"
            ],
            [
             0.1111111111111111,
             "#46039f"
            ],
            [
             0.2222222222222222,
             "#7201a8"
            ],
            [
             0.3333333333333333,
             "#9c179e"
            ],
            [
             0.4444444444444444,
             "#bd3786"
            ],
            [
             0.5555555555555556,
             "#d8576b"
            ],
            [
             0.6666666666666666,
             "#ed7953"
            ],
            [
             0.7777777777777778,
             "#fb9f3a"
            ],
            [
             0.8888888888888888,
             "#fdca26"
            ],
            [
             1,
             "#f0f921"
            ]
           ],
           "sequentialminus": [
            [
             0,
             "#0d0887"
            ],
            [
             0.1111111111111111,
             "#46039f"
            ],
            [
             0.2222222222222222,
             "#7201a8"
            ],
            [
             0.3333333333333333,
             "#9c179e"
            ],
            [
             0.4444444444444444,
             "#bd3786"
            ],
            [
             0.5555555555555556,
             "#d8576b"
            ],
            [
             0.6666666666666666,
             "#ed7953"
            ],
            [
             0.7777777777777778,
             "#fb9f3a"
            ],
            [
             0.8888888888888888,
             "#fdca26"
            ],
            [
             1,
             "#f0f921"
            ]
           ]
          },
          "colorway": [
           "#636efa",
           "#EF553B",
           "#00cc96",
           "#ab63fa",
           "#FFA15A",
           "#19d3f3",
           "#FF6692",
           "#B6E880",
           "#FF97FF",
           "#FECB52"
          ],
          "font": {
           "color": "#2a3f5f"
          },
          "geo": {
           "bgcolor": "white",
           "lakecolor": "white",
           "landcolor": "#E5ECF6",
           "showlakes": true,
           "showland": true,
           "subunitcolor": "white"
          },
          "hoverlabel": {
           "align": "left"
          },
          "hovermode": "closest",
          "mapbox": {
           "style": "light"
          },
          "paper_bgcolor": "white",
          "plot_bgcolor": "#E5ECF6",
          "polar": {
           "angularaxis": {
            "gridcolor": "white",
            "linecolor": "white",
            "ticks": ""
           },
           "bgcolor": "#E5ECF6",
           "radialaxis": {
            "gridcolor": "white",
            "linecolor": "white",
            "ticks": ""
           }
          },
          "scene": {
           "xaxis": {
            "backgroundcolor": "#E5ECF6",
            "gridcolor": "white",
            "gridwidth": 2,
            "linecolor": "white",
            "showbackground": true,
            "ticks": "",
            "zerolinecolor": "white"
           },
           "yaxis": {
            "backgroundcolor": "#E5ECF6",
            "gridcolor": "white",
            "gridwidth": 2,
            "linecolor": "white",
            "showbackground": true,
            "ticks": "",
            "zerolinecolor": "white"
           },
           "zaxis": {
            "backgroundcolor": "#E5ECF6",
            "gridcolor": "white",
            "gridwidth": 2,
            "linecolor": "white",
            "showbackground": true,
            "ticks": "",
            "zerolinecolor": "white"
           }
          },
          "shapedefaults": {
           "line": {
            "color": "#2a3f5f"
           }
          },
          "ternary": {
           "aaxis": {
            "gridcolor": "white",
            "linecolor": "white",
            "ticks": ""
           },
           "baxis": {
            "gridcolor": "white",
            "linecolor": "white",
            "ticks": ""
           },
           "bgcolor": "#E5ECF6",
           "caxis": {
            "gridcolor": "white",
            "linecolor": "white",
            "ticks": ""
           }
          },
          "title": {
           "x": 0.05
          },
          "xaxis": {
           "automargin": true,
           "gridcolor": "white",
           "linecolor": "white",
           "ticks": "",
           "title": {
            "standoff": 15
           },
           "zerolinecolor": "white",
           "zerolinewidth": 2
          },
          "yaxis": {
           "automargin": true,
           "gridcolor": "white",
           "linecolor": "white",
           "ticks": "",
           "title": {
            "standoff": 15
           },
           "zerolinecolor": "white",
           "zerolinewidth": 2
          }
         }
        },
        "width": 1000
       }
      }
     },
     "metadata": {},
     "output_type": "display_data"
    }
   ],
   "source": [
    "gb = pd.read_parquet(destatis_sources[\"geburten\"][\"processed_file\"])\n",
    "gb = gb.groupby([\"jahr\", \"land\"]).geburten.sum().to_frame().reset_index()\n",
    "\n",
    "ewz = pd.read_parquet(destatis_sources[\"ewz\"][\"processed_file\"])\n",
    "\n",
    "gb = pd.merge(gb, ewz, on=[\"jahr\", \"land\"])\n",
    "gb[\"geburten_pro_1000\"] = gb.geburten / gb.ewz * 1000\n",
    "\n",
    "fig = go.Figure()\n",
    "\n",
    "for land, grp in gb.groupby(\"land\"):\n",
    "    fig.add_trace(\n",
    "        go.Scatter(\n",
    "            x=grp.jahr,\n",
    "            y=grp.geburten_pro_1000,\n",
    "            mode=\"markers+lines\",\n",
    "            name=land\n",
    "        ),\n",
    "    )\n",
    "\n",
    "fig.update_layout(\n",
    "    width=1000,\n",
    "    height=800,\n",
    "    margin=dict(t=20, r=20, b=20, l=20)\n",
    ")\n",
    "\n",
    "fig.show()"
   ]
  },
  {
   "cell_type": "markdown",
   "metadata": {},
   "source": [
    "Interessant ist wie 2021/22 in den alten Bundesländern die Zahl wieder steigt, aber in den neuen sich der Abwärtstrend nicht umkehrt.\n",
    "Möglicherweise gibt es Geschlechterunterschiede in Wanderungsbewegungen?\n",
    "Die Geburtenrate pro Mutter wäre interessant."
   ]
  },
  {
   "cell_type": "markdown",
   "metadata": {},
   "source": [
    "## Empfangende von Elterngeld\n"
   ]
  },
  {
   "cell_type": "code",
   "execution_count": 29,
   "metadata": {},
   "outputs": [
    {
     "data": {
      "application/vnd.plotly.v1+json": {
       "config": {
        "plotlyServerURL": "https://plot.ly"
       },
       "data": [
        {
         "customdata": [
          "Väter in Baden-Württemberg",
          "Väter in Baden-Württemberg",
          "Väter in Baden-Württemberg",
          "Väter in Baden-Württemberg",
          "Väter in Baden-Württemberg",
          "Väter in Baden-Württemberg",
          "Väter in Baden-Württemberg",
          "Väter in Baden-Württemberg",
          "Väter in Baden-Württemberg",
          "Väter in Baden-Württemberg",
          "Väter in Baden-Württemberg",
          "Väter in Baden-Württemberg",
          "Väter in Baden-Württemberg"
         ],
         "hovertemplate": "%{customdata}: %{y:f}<extra></extra>",
         "legendgroup": "Baden-Württemberg",
         "line": {
          "color": "#7f7f7f",
          "dash": "dash"
         },
         "mode": "markers+lines",
         "name": "Baden-Württemberg",
         "showlegend": false,
         "type": "scatter",
         "visible": "legendonly",
         "x": [
          2009,
          2010,
          2011,
          2012,
          2013,
          2014,
          2015,
          2016,
          2017,
          2018,
          2019,
          2020,
          2021
         ],
         "y": [
          21064,
          23716,
          25872,
          28861,
          33269,
          37034,
          39061,
          42398,
          44699,
          46890,
          48199,
          49058,
          41281
         ]
        },
        {
         "customdata": [
          "Mütter in Baden-Württemberg",
          "Mütter in Baden-Württemberg",
          "Mütter in Baden-Württemberg",
          "Mütter in Baden-Württemberg",
          "Mütter in Baden-Württemberg",
          "Mütter in Baden-Württemberg",
          "Mütter in Baden-Württemberg",
          "Mütter in Baden-Württemberg",
          "Mütter in Baden-Württemberg",
          "Mütter in Baden-Württemberg",
          "Mütter in Baden-Württemberg",
          "Mütter in Baden-Württemberg",
          "Mütter in Baden-Württemberg"
         ],
         "hovertemplate": "%{customdata}: %{y:f}<extra></extra>",
         "legendgroup": "Baden-Württemberg",
         "line": {
          "color": "#7f7f7f",
          "dash": "solid"
         },
         "mode": "markers+lines",
         "name": "Baden-Württemberg",
         "showlegend": true,
         "type": "scatter",
         "visible": "legendonly",
         "x": [
          2009,
          2010,
          2011,
          2012,
          2013,
          2014,
          2015,
          2016,
          2017,
          2018,
          2019,
          2020,
          2021
         ],
         "y": [
          85681,
          86849,
          84848,
          86356,
          90071,
          94097,
          95487,
          100284,
          102025,
          103211,
          103164,
          103521,
          82266
         ]
        },
        {
         "customdata": [
          "Väter in Bayern",
          "Väter in Bayern",
          "Väter in Bayern",
          "Väter in Bayern",
          "Väter in Bayern",
          "Väter in Bayern",
          "Väter in Bayern",
          "Väter in Bayern",
          "Väter in Bayern",
          "Väter in Bayern",
          "Väter in Bayern",
          "Väter in Bayern",
          "Väter in Bayern"
         ],
         "hovertemplate": "%{customdata}: %{y:f}<extra></extra>",
         "legendgroup": "Bayern",
         "line": {
          "color": "#bcbd22",
          "dash": "dash"
         },
         "mode": "markers+lines",
         "name": "Bayern",
         "showlegend": false,
         "type": "scatter",
         "visible": "legendonly",
         "x": [
          2009,
          2010,
          2011,
          2012,
          2013,
          2014,
          2015,
          2016,
          2017,
          2018,
          2019,
          2020,
          2021
         ],
         "y": [
          30640,
          33750,
          36206,
          39814,
          43649,
          47567,
          50282,
          54694,
          56962,
          59385,
          61573,
          62597,
          52001
         ]
        },
        {
         "customdata": [
          "Mütter in Bayern",
          "Mütter in Bayern",
          "Mütter in Bayern",
          "Mütter in Bayern",
          "Mütter in Bayern",
          "Mütter in Bayern",
          "Mütter in Bayern",
          "Mütter in Bayern",
          "Mütter in Bayern",
          "Mütter in Bayern",
          "Mütter in Bayern",
          "Mütter in Bayern",
          "Mütter in Bayern"
         ],
         "hovertemplate": "%{customdata}: %{y:f}<extra></extra>",
         "legendgroup": "Bayern",
         "line": {
          "color": "#bcbd22",
          "dash": "solid"
         },
         "mode": "markers+lines",
         "name": "Bayern",
         "showlegend": true,
         "type": "scatter",
         "visible": "legendonly",
         "x": [
          2009,
          2010,
          2011,
          2012,
          2013,
          2014,
          2015,
          2016,
          2017,
          2018,
          2019,
          2020,
          2021
         ],
         "y": [
          99090,
          100798,
          99176,
          103188,
          107152,
          111045,
          112184,
          117617,
          119356,
          120357,
          121403,
          122668,
          96752
         ]
        },
        {
         "customdata": [
          "Väter in Berlin",
          "Väter in Berlin",
          "Väter in Berlin",
          "Väter in Berlin",
          "Väter in Berlin",
          "Väter in Berlin",
          "Väter in Berlin",
          "Väter in Berlin",
          "Väter in Berlin",
          "Väter in Berlin",
          "Väter in Berlin",
          "Väter in Berlin",
          "Väter in Berlin"
         ],
         "hovertemplate": "%{customdata}: %{y:f}<extra></extra>",
         "legendgroup": "Berlin",
         "line": {
          "color": "#aec7e8",
          "dash": "dash"
         },
         "mode": "markers+lines",
         "name": "Berlin",
         "showlegend": false,
         "type": "scatter",
         "visible": true,
         "x": [
          2009,
          2010,
          2011,
          2012,
          2013,
          2014,
          2015,
          2016,
          2017,
          2018,
          2019,
          2020,
          2021
         ],
         "y": [
          9257,
          10147,
          10343,
          11478,
          12427,
          14041,
          14412,
          16210,
          16657,
          16990,
          16968,
          16451,
          13115
         ]
        },
        {
         "customdata": [
          "Mütter in Berlin",
          "Mütter in Berlin",
          "Mütter in Berlin",
          "Mütter in Berlin",
          "Mütter in Berlin",
          "Mütter in Berlin",
          "Mütter in Berlin",
          "Mütter in Berlin",
          "Mütter in Berlin",
          "Mütter in Berlin",
          "Mütter in Berlin",
          "Mütter in Berlin",
          "Mütter in Berlin"
         ],
         "hovertemplate": "%{customdata}: %{y:f}<extra></extra>",
         "legendgroup": "Berlin",
         "line": {
          "color": "#aec7e8",
          "dash": "solid"
         },
         "mode": "markers+lines",
         "name": "Berlin",
         "showlegend": true,
         "type": "scatter",
         "visible": true,
         "x": [
          2009,
          2010,
          2011,
          2012,
          2013,
          2014,
          2015,
          2016,
          2017,
          2018,
          2019,
          2020,
          2021
         ],
         "y": [
          29542,
          30860,
          29996,
          31603,
          32065,
          34593,
          34581,
          36531,
          36759,
          36491,
          35844,
          34979,
          26895
         ]
        },
        {
         "customdata": [
          "Väter in Brandenburg",
          "Väter in Brandenburg",
          "Väter in Brandenburg",
          "Väter in Brandenburg",
          "Väter in Brandenburg",
          "Väter in Brandenburg",
          "Väter in Brandenburg",
          "Väter in Brandenburg",
          "Väter in Brandenburg",
          "Väter in Brandenburg",
          "Väter in Brandenburg",
          "Väter in Brandenburg",
          "Väter in Brandenburg"
         ],
         "hovertemplate": "%{customdata}: %{y:f}<extra></extra>",
         "legendgroup": "Brandenburg",
         "line": {
          "color": "#ffbb78",
          "dash": "dash"
         },
         "mode": "markers+lines",
         "name": "Brandenburg",
         "showlegend": false,
         "type": "scatter",
         "visible": "legendonly",
         "x": [
          2009,
          2010,
          2011,
          2012,
          2013,
          2014,
          2015,
          2016,
          2017,
          2018,
          2019,
          2020,
          2021
         ],
         "y": [
          4840,
          5127,
          5284,
          5751,
          6298,
          6940,
          7317,
          8330,
          8693,
          8959,
          8908,
          8695,
          6922
         ]
        },
        {
         "customdata": [
          "Mütter in Brandenburg",
          "Mütter in Brandenburg",
          "Mütter in Brandenburg",
          "Mütter in Brandenburg",
          "Mütter in Brandenburg",
          "Mütter in Brandenburg",
          "Mütter in Brandenburg",
          "Mütter in Brandenburg",
          "Mütter in Brandenburg",
          "Mütter in Brandenburg",
          "Mütter in Brandenburg",
          "Mütter in Brandenburg",
          "Mütter in Brandenburg"
         ],
         "hovertemplate": "%{customdata}: %{y:f}<extra></extra>",
         "legendgroup": "Brandenburg",
         "line": {
          "color": "#ffbb78",
          "dash": "solid"
         },
         "mode": "markers+lines",
         "name": "Brandenburg",
         "showlegend": true,
         "type": "scatter",
         "visible": "legendonly",
         "x": [
          2009,
          2010,
          2011,
          2012,
          2013,
          2014,
          2015,
          2016,
          2017,
          2018,
          2019,
          2020,
          2021
         ],
         "y": [
          17643,
          18057,
          17350,
          17571,
          17821,
          18509,
          18211,
          19549,
          19299,
          19451,
          18415,
          18094,
          13794
         ]
        },
        {
         "customdata": [
          "Väter in Bremen",
          "Väter in Bremen",
          "Väter in Bremen",
          "Väter in Bremen",
          "Väter in Bremen",
          "Väter in Bremen",
          "Väter in Bremen",
          "Väter in Bremen",
          "Väter in Bremen",
          "Väter in Bremen",
          "Väter in Bremen",
          "Väter in Bremen",
          "Väter in Bremen"
         ],
         "hovertemplate": "%{customdata}: %{y:f}<extra></extra>",
         "legendgroup": "Bremen",
         "line": {
          "color": "#d62728",
          "dash": "dash"
         },
         "mode": "markers+lines",
         "name": "Bremen",
         "showlegend": false,
         "type": "scatter",
         "visible": "legendonly",
         "x": [
          2009,
          2010,
          2011,
          2012,
          2013,
          2014,
          2015,
          2016,
          2017,
          2018,
          2019,
          2020,
          2021
         ],
         "y": [
          976,
          1020,
          1102,
          1218,
          1415,
          1619,
          1760,
          2005,
          2197,
          2343,
          2436,
          2193,
          1865
         ]
        },
        {
         "customdata": [
          "Mütter in Bremen",
          "Mütter in Bremen",
          "Mütter in Bremen",
          "Mütter in Bremen",
          "Mütter in Bremen",
          "Mütter in Bremen",
          "Mütter in Bremen",
          "Mütter in Bremen",
          "Mütter in Bremen",
          "Mütter in Bremen",
          "Mütter in Bremen",
          "Mütter in Bremen",
          "Mütter in Bremen"
         ],
         "hovertemplate": "%{customdata}: %{y:f}<extra></extra>",
         "legendgroup": "Bremen",
         "line": {
          "color": "#d62728",
          "dash": "solid"
         },
         "mode": "markers+lines",
         "name": "Bremen",
         "showlegend": true,
         "type": "scatter",
         "visible": "legendonly",
         "x": [
          2009,
          2010,
          2011,
          2012,
          2013,
          2014,
          2015,
          2016,
          2017,
          2018,
          2019,
          2020,
          2021
         ],
         "y": [
          5076,
          5079,
          4892,
          5154,
          5317,
          5777,
          6090,
          6212,
          6356,
          6488,
          6463,
          6264,
          4838
         ]
        },
        {
         "customdata": [
          "Väter in Hamburg",
          "Väter in Hamburg",
          "Väter in Hamburg",
          "Väter in Hamburg",
          "Väter in Hamburg",
          "Väter in Hamburg",
          "Väter in Hamburg",
          "Väter in Hamburg",
          "Väter in Hamburg",
          "Väter in Hamburg",
          "Väter in Hamburg",
          "Väter in Hamburg",
          "Väter in Hamburg"
         ],
         "hovertemplate": "%{customdata}: %{y:f}<extra></extra>",
         "legendgroup": "Hamburg",
         "line": {
          "color": "#ff7f0e",
          "dash": "dash"
         },
         "mode": "markers+lines",
         "name": "Hamburg",
         "showlegend": false,
         "type": "scatter",
         "visible": "legendonly",
         "x": [
          2009,
          2010,
          2011,
          2012,
          2013,
          2014,
          2015,
          2016,
          2017,
          2018,
          2019,
          2020,
          2021
         ],
         "y": [
          4379,
          4688,
          4991,
          5627,
          6348,
          7088,
          7446,
          8129,
          8444,
          8803,
          8912,
          8491,
          7014
         ]
        },
        {
         "customdata": [
          "Mütter in Hamburg",
          "Mütter in Hamburg",
          "Mütter in Hamburg",
          "Mütter in Hamburg",
          "Mütter in Hamburg",
          "Mütter in Hamburg",
          "Mütter in Hamburg",
          "Mütter in Hamburg",
          "Mütter in Hamburg",
          "Mütter in Hamburg",
          "Mütter in Hamburg",
          "Mütter in Hamburg",
          "Mütter in Hamburg"
         ],
         "hovertemplate": "%{customdata}: %{y:f}<extra></extra>",
         "legendgroup": "Hamburg",
         "line": {
          "color": "#ff7f0e",
          "dash": "solid"
         },
         "mode": "markers+lines",
         "name": "Hamburg",
         "showlegend": true,
         "type": "scatter",
         "visible": "legendonly",
         "x": [
          2009,
          2010,
          2011,
          2012,
          2013,
          2014,
          2015,
          2016,
          2017,
          2018,
          2019,
          2020,
          2021
         ],
         "y": [
          15768,
          16222,
          15838,
          16386,
          17142,
          18124,
          18174,
          19528,
          19530,
          19358,
          19156,
          18615,
          14720
         ]
        },
        {
         "customdata": [
          "Väter in Hessen",
          "Väter in Hessen",
          "Väter in Hessen",
          "Väter in Hessen",
          "Väter in Hessen",
          "Väter in Hessen",
          "Väter in Hessen",
          "Väter in Hessen",
          "Väter in Hessen",
          "Väter in Hessen",
          "Väter in Hessen",
          "Väter in Hessen",
          "Väter in Hessen"
         ],
         "hovertemplate": "%{customdata}: %{y:f}<extra></extra>",
         "legendgroup": "Hessen",
         "line": {
          "color": "#8c564b",
          "dash": "dash"
         },
         "mode": "markers+lines",
         "name": "Hessen",
         "showlegend": false,
         "type": "scatter",
         "visible": "legendonly",
         "x": [
          2009,
          2010,
          2011,
          2012,
          2013,
          2014,
          2015,
          2016,
          2017,
          2018,
          2019,
          2020,
          2021
         ],
         "y": [
          11274,
          12494,
          13185,
          14407,
          15637,
          17735,
          18260,
          20111,
          21192,
          21921,
          21910,
          21868,
          18186
         ]
        },
        {
         "customdata": [
          "Mütter in Hessen",
          "Mütter in Hessen",
          "Mütter in Hessen",
          "Mütter in Hessen",
          "Mütter in Hessen",
          "Mütter in Hessen",
          "Mütter in Hessen",
          "Mütter in Hessen",
          "Mütter in Hessen",
          "Mütter in Hessen",
          "Mütter in Hessen",
          "Mütter in Hessen",
          "Mütter in Hessen"
         ],
         "hovertemplate": "%{customdata}: %{y:f}<extra></extra>",
         "legendgroup": "Hessen",
         "line": {
          "color": "#8c564b",
          "dash": "solid"
         },
         "mode": "markers+lines",
         "name": "Hessen",
         "showlegend": true,
         "type": "scatter",
         "visible": "legendonly",
         "x": [
          2009,
          2010,
          2011,
          2012,
          2013,
          2014,
          2015,
          2016,
          2017,
          2018,
          2019,
          2020,
          2021
         ],
         "y": [
          48203,
          49198,
          48397,
          48693,
          50097,
          52252,
          52663,
          55179,
          55674,
          56077,
          55287,
          54732,
          43031
         ]
        },
        {
         "customdata": [
          "Väter in Mecklenburg-Vorpommern",
          "Väter in Mecklenburg-Vorpommern",
          "Väter in Mecklenburg-Vorpommern",
          "Väter in Mecklenburg-Vorpommern",
          "Väter in Mecklenburg-Vorpommern",
          "Väter in Mecklenburg-Vorpommern",
          "Väter in Mecklenburg-Vorpommern",
          "Väter in Mecklenburg-Vorpommern",
          "Väter in Mecklenburg-Vorpommern",
          "Väter in Mecklenburg-Vorpommern",
          "Väter in Mecklenburg-Vorpommern",
          "Väter in Mecklenburg-Vorpommern",
          "Väter in Mecklenburg-Vorpommern"
         ],
         "hovertemplate": "%{customdata}: %{y:f}<extra></extra>",
         "legendgroup": "Mecklenburg-Vorpommern",
         "line": {
          "color": "#98df8a",
          "dash": "dash"
         },
         "mode": "markers+lines",
         "name": "Mecklenburg-Vorpommern",
         "showlegend": false,
         "type": "scatter",
         "visible": "legendonly",
         "x": [
          2009,
          2010,
          2011,
          2012,
          2013,
          2014,
          2015,
          2016,
          2017,
          2018,
          2019,
          2020,
          2021
         ],
         "y": [
          2913,
          3049,
          2734,
          3091,
          3258,
          3532,
          3920,
          4453,
          4540,
          4747,
          4770,
          4699,
          3770
         ]
        },
        {
         "customdata": [
          "Mütter in Mecklenburg-Vorpommern",
          "Mütter in Mecklenburg-Vorpommern",
          "Mütter in Mecklenburg-Vorpommern",
          "Mütter in Mecklenburg-Vorpommern",
          "Mütter in Mecklenburg-Vorpommern",
          "Mütter in Mecklenburg-Vorpommern",
          "Mütter in Mecklenburg-Vorpommern",
          "Mütter in Mecklenburg-Vorpommern",
          "Mütter in Mecklenburg-Vorpommern",
          "Mütter in Mecklenburg-Vorpommern",
          "Mütter in Mecklenburg-Vorpommern",
          "Mütter in Mecklenburg-Vorpommern",
          "Mütter in Mecklenburg-Vorpommern"
         ],
         "hovertemplate": "%{customdata}: %{y:f}<extra></extra>",
         "legendgroup": "Mecklenburg-Vorpommern",
         "line": {
          "color": "#98df8a",
          "dash": "solid"
         },
         "mode": "markers+lines",
         "name": "Mecklenburg-Vorpommern",
         "showlegend": true,
         "type": "scatter",
         "visible": "legendonly",
         "x": [
          2009,
          2010,
          2011,
          2012,
          2013,
          2014,
          2015,
          2016,
          2017,
          2018,
          2019,
          2020,
          2021
         ],
         "y": [
          12409,
          12682,
          12007,
          12128,
          12182,
          12357,
          12418,
          12490,
          12341,
          12302,
          11991,
          11374,
          8539
         ]
        },
        {
         "customdata": [
          "Väter in Niedersachsen",
          "Väter in Niedersachsen",
          "Väter in Niedersachsen",
          "Väter in Niedersachsen",
          "Väter in Niedersachsen",
          "Väter in Niedersachsen",
          "Väter in Niedersachsen",
          "Väter in Niedersachsen",
          "Väter in Niedersachsen",
          "Väter in Niedersachsen",
          "Väter in Niedersachsen",
          "Väter in Niedersachsen",
          "Väter in Niedersachsen"
         ],
         "hovertemplate": "%{customdata}: %{y:f}<extra></extra>",
         "legendgroup": "Niedersachsen",
         "line": {
          "color": "#2ca02c",
          "dash": "dash"
         },
         "mode": "markers+lines",
         "name": "Niedersachsen",
         "showlegend": false,
         "type": "scatter",
         "visible": "legendonly",
         "x": [
          2009,
          2010,
          2011,
          2012,
          2013,
          2014,
          2015,
          2016,
          2017,
          2018,
          2019,
          2020,
          2021
         ],
         "y": [
          12851,
          13971,
          14678,
          15979,
          18159,
          21202,
          22419,
          25558,
          26809,
          28685,
          30043,
          30220,
          25428
         ]
        },
        {
         "customdata": [
          "Mütter in Niedersachsen",
          "Mütter in Niedersachsen",
          "Mütter in Niedersachsen",
          "Mütter in Niedersachsen",
          "Mütter in Niedersachsen",
          "Mütter in Niedersachsen",
          "Mütter in Niedersachsen",
          "Mütter in Niedersachsen",
          "Mütter in Niedersachsen",
          "Mütter in Niedersachsen",
          "Mütter in Niedersachsen",
          "Mütter in Niedersachsen",
          "Mütter in Niedersachsen"
         ],
         "hovertemplate": "%{customdata}: %{y:f}<extra></extra>",
         "legendgroup": "Niedersachsen",
         "line": {
          "color": "#2ca02c",
          "dash": "solid"
         },
         "mode": "markers+lines",
         "name": "Niedersachsen",
         "showlegend": true,
         "type": "scatter",
         "visible": "legendonly",
         "x": [
          2009,
          2010,
          2011,
          2012,
          2013,
          2014,
          2015,
          2016,
          2017,
          2018,
          2019,
          2020,
          2021
         ],
         "y": [
          58916,
          59928,
          57532,
          58713,
          60835,
          64480,
          63839,
          68570,
          68823,
          69680,
          69441,
          69938,
          54822
         ]
        },
        {
         "customdata": [
          "Väter in Nordrhein-Westfalen",
          "Väter in Nordrhein-Westfalen",
          "Väter in Nordrhein-Westfalen",
          "Väter in Nordrhein-Westfalen",
          "Väter in Nordrhein-Westfalen",
          "Väter in Nordrhein-Westfalen",
          "Väter in Nordrhein-Westfalen",
          "Väter in Nordrhein-Westfalen",
          "Väter in Nordrhein-Westfalen",
          "Väter in Nordrhein-Westfalen",
          "Väter in Nordrhein-Westfalen",
          "Väter in Nordrhein-Westfalen",
          "Väter in Nordrhein-Westfalen"
         ],
         "hovertemplate": "%{customdata}: %{y:f}<extra></extra>",
         "legendgroup": "Nordrhein-Westfalen",
         "line": {
          "color": "#9467bd",
          "dash": "dash"
         },
         "mode": "markers+lines",
         "name": "Nordrhein-Westfalen",
         "showlegend": false,
         "type": "scatter",
         "visible": "legendonly",
         "x": [
          2009,
          2010,
          2011,
          2012,
          2013,
          2014,
          2015,
          2016,
          2017,
          2018,
          2019,
          2020,
          2021
         ],
         "y": [
          25646,
          27580,
          28214,
          30397,
          36500,
          41515,
          44184,
          50486,
          53872,
          57523,
          58819,
          59733,
          50038
         ]
        },
        {
         "customdata": [
          "Mütter in Nordrhein-Westfalen",
          "Mütter in Nordrhein-Westfalen",
          "Mütter in Nordrhein-Westfalen",
          "Mütter in Nordrhein-Westfalen",
          "Mütter in Nordrhein-Westfalen",
          "Mütter in Nordrhein-Westfalen",
          "Mütter in Nordrhein-Westfalen",
          "Mütter in Nordrhein-Westfalen",
          "Mütter in Nordrhein-Westfalen",
          "Mütter in Nordrhein-Westfalen",
          "Mütter in Nordrhein-Westfalen",
          "Mütter in Nordrhein-Westfalen",
          "Mütter in Nordrhein-Westfalen"
         ],
         "hovertemplate": "%{customdata}: %{y:f}<extra></extra>",
         "legendgroup": "Nordrhein-Westfalen",
         "line": {
          "color": "#9467bd",
          "dash": "solid"
         },
         "mode": "markers+lines",
         "name": "Nordrhein-Westfalen",
         "showlegend": true,
         "type": "scatter",
         "visible": "legendonly",
         "x": [
          2009,
          2010,
          2011,
          2012,
          2013,
          2014,
          2015,
          2016,
          2017,
          2018,
          2019,
          2020,
          2021
         ],
         "y": [
          136298,
          138335,
          132414,
          135392,
          139406,
          147066,
          147438,
          155064,
          156397,
          158148,
          156125,
          156208,
          122089
         ]
        },
        {
         "customdata": [
          "Väter in Rheinland-Pfalz",
          "Väter in Rheinland-Pfalz",
          "Väter in Rheinland-Pfalz",
          "Väter in Rheinland-Pfalz",
          "Väter in Rheinland-Pfalz",
          "Väter in Rheinland-Pfalz",
          "Väter in Rheinland-Pfalz",
          "Väter in Rheinland-Pfalz",
          "Väter in Rheinland-Pfalz",
          "Väter in Rheinland-Pfalz",
          "Väter in Rheinland-Pfalz",
          "Väter in Rheinland-Pfalz",
          "Väter in Rheinland-Pfalz"
         ],
         "hovertemplate": "%{customdata}: %{y:f}<extra></extra>",
         "legendgroup": "Rheinland-Pfalz",
         "line": {
          "color": "#e377c2",
          "dash": "dash"
         },
         "mode": "markers+lines",
         "name": "Rheinland-Pfalz",
         "showlegend": false,
         "type": "scatter",
         "visible": "legendonly",
         "x": [
          2009,
          2010,
          2011,
          2012,
          2013,
          2014,
          2015,
          2016,
          2017,
          2018,
          2019,
          2020,
          2021
         ],
         "y": [
          5878,
          6489,
          6879,
          7326,
          8451,
          9818,
          10378,
          11611,
          12248,
          12978,
          13525,
          13687,
          11392
         ]
        },
        {
         "customdata": [
          "Mütter in Rheinland-Pfalz",
          "Mütter in Rheinland-Pfalz",
          "Mütter in Rheinland-Pfalz",
          "Mütter in Rheinland-Pfalz",
          "Mütter in Rheinland-Pfalz",
          "Mütter in Rheinland-Pfalz",
          "Mütter in Rheinland-Pfalz",
          "Mütter in Rheinland-Pfalz",
          "Mütter in Rheinland-Pfalz",
          "Mütter in Rheinland-Pfalz",
          "Mütter in Rheinland-Pfalz",
          "Mütter in Rheinland-Pfalz",
          "Mütter in Rheinland-Pfalz"
         ],
         "hovertemplate": "%{customdata}: %{y:f}<extra></extra>",
         "legendgroup": "Rheinland-Pfalz",
         "line": {
          "color": "#e377c2",
          "dash": "solid"
         },
         "mode": "markers+lines",
         "name": "Rheinland-Pfalz",
         "showlegend": true,
         "type": "scatter",
         "visible": "legendonly",
         "x": [
          2009,
          2010,
          2011,
          2012,
          2013,
          2014,
          2015,
          2016,
          2017,
          2018,
          2019,
          2020,
          2021
         ],
         "y": [
          29009,
          29791,
          29011,
          29055,
          30553,
          31893,
          32390,
          34387,
          34717,
          34889,
          34192,
          34679,
          27292
         ]
        },
        {
         "customdata": [
          "Väter in Saarland",
          "Väter in Saarland",
          "Väter in Saarland",
          "Väter in Saarland",
          "Väter in Saarland",
          "Väter in Saarland",
          "Väter in Saarland",
          "Väter in Saarland",
          "Väter in Saarland",
          "Väter in Saarland",
          "Väter in Saarland",
          "Väter in Saarland",
          "Väter in Saarland"
         ],
         "hovertemplate": "%{customdata}: %{y:f}<extra></extra>",
         "legendgroup": "Saarland",
         "line": {
          "color": "#17becf",
          "dash": "dash"
         },
         "mode": "markers+lines",
         "name": "Saarland",
         "showlegend": false,
         "type": "scatter",
         "visible": "legendonly",
         "x": [
          2009,
          2010,
          2011,
          2012,
          2013,
          2014,
          2015,
          2016,
          2017,
          2018,
          2019,
          2020,
          2021
         ],
         "y": [
          982,
          1095,
          1241,
          1251,
          1398,
          1723,
          1815,
          2247,
          2252,
          2276,
          2477,
          2653,
          2129
         ]
        },
        {
         "customdata": [
          "Mütter in Saarland",
          "Mütter in Saarland",
          "Mütter in Saarland",
          "Mütter in Saarland",
          "Mütter in Saarland",
          "Mütter in Saarland",
          "Mütter in Saarland",
          "Mütter in Saarland",
          "Mütter in Saarland",
          "Mütter in Saarland",
          "Mütter in Saarland",
          "Mütter in Saarland",
          "Mütter in Saarland"
         ],
         "hovertemplate": "%{customdata}: %{y:f}<extra></extra>",
         "legendgroup": "Saarland",
         "line": {
          "color": "#17becf",
          "dash": "solid"
         },
         "mode": "markers+lines",
         "name": "Saarland",
         "showlegend": true,
         "type": "scatter",
         "visible": "legendonly",
         "x": [
          2009,
          2010,
          2011,
          2012,
          2013,
          2014,
          2015,
          2016,
          2017,
          2018,
          2019,
          2020,
          2021
         ],
         "y": [
          6612,
          6578,
          6597,
          6536,
          6589,
          7082,
          7138,
          7734,
          7822,
          7713,
          7626,
          7697,
          6032
         ]
        },
        {
         "customdata": [
          "Väter in Sachsen",
          "Väter in Sachsen",
          "Väter in Sachsen",
          "Väter in Sachsen",
          "Väter in Sachsen",
          "Väter in Sachsen",
          "Väter in Sachsen",
          "Väter in Sachsen",
          "Väter in Sachsen",
          "Väter in Sachsen",
          "Väter in Sachsen",
          "Väter in Sachsen",
          "Väter in Sachsen"
         ],
         "hovertemplate": "%{customdata}: %{y:f}<extra></extra>",
         "legendgroup": "Sachsen",
         "line": {
          "color": "#ff9896",
          "dash": "dash"
         },
         "mode": "markers+lines",
         "name": "Sachsen",
         "showlegend": false,
         "type": "scatter",
         "visible": "legendonly",
         "x": [
          2009,
          2010,
          2011,
          2012,
          2013,
          2014,
          2015,
          2016,
          2017,
          2018,
          2019,
          2020,
          2021
         ],
         "y": [
          10237,
          11162,
          11936,
          12976,
          14168,
          15861,
          16614,
          17691,
          18427,
          18396,
          18145,
          17485,
          13421
         ]
        },
        {
         "customdata": [
          "Mütter in Sachsen",
          "Mütter in Sachsen",
          "Mütter in Sachsen",
          "Mütter in Sachsen",
          "Mütter in Sachsen",
          "Mütter in Sachsen",
          "Mütter in Sachsen",
          "Mütter in Sachsen",
          "Mütter in Sachsen",
          "Mütter in Sachsen",
          "Mütter in Sachsen",
          "Mütter in Sachsen",
          "Mütter in Sachsen"
         ],
         "hovertemplate": "%{customdata}: %{y:f}<extra></extra>",
         "legendgroup": "Sachsen",
         "line": {
          "color": "#ff9896",
          "dash": "solid"
         },
         "mode": "markers+lines",
         "name": "Sachsen",
         "showlegend": true,
         "type": "scatter",
         "visible": "legendonly",
         "x": [
          2009,
          2010,
          2011,
          2012,
          2013,
          2014,
          2015,
          2016,
          2017,
          2018,
          2019,
          2020,
          2021
         ],
         "y": [
          32875,
          33862,
          32990,
          33480,
          33951,
          35088,
          34781,
          35659,
          35190,
          34137,
          32855,
          31825,
          23674
         ]
        },
        {
         "customdata": [
          "Väter in Sachsen-Anhalt",
          "Väter in Sachsen-Anhalt",
          "Väter in Sachsen-Anhalt",
          "Väter in Sachsen-Anhalt",
          "Väter in Sachsen-Anhalt",
          "Väter in Sachsen-Anhalt",
          "Väter in Sachsen-Anhalt",
          "Väter in Sachsen-Anhalt",
          "Väter in Sachsen-Anhalt",
          "Väter in Sachsen-Anhalt",
          "Väter in Sachsen-Anhalt",
          "Väter in Sachsen-Anhalt",
          "Väter in Sachsen-Anhalt"
         ],
         "hovertemplate": "%{customdata}: %{y:f}<extra></extra>",
         "legendgroup": "Sachsen-Anhalt",
         "line": {
          "color": "#c5b0d5",
          "dash": "dash"
         },
         "mode": "markers+lines",
         "name": "Sachsen-Anhalt",
         "showlegend": false,
         "type": "scatter",
         "visible": "legendonly",
         "x": [
          2009,
          2010,
          2011,
          2012,
          2013,
          2014,
          2015,
          2016,
          2017,
          2018,
          2019,
          2020,
          2021
         ],
         "y": [
          3170,
          3278,
          3536,
          3721,
          4250,
          4723,
          5237,
          5969,
          6264,
          6396,
          6295,
          6186,
          4935
         ]
        },
        {
         "customdata": [
          "Mütter in Sachsen-Anhalt",
          "Mütter in Sachsen-Anhalt",
          "Mütter in Sachsen-Anhalt",
          "Mütter in Sachsen-Anhalt",
          "Mütter in Sachsen-Anhalt",
          "Mütter in Sachsen-Anhalt",
          "Mütter in Sachsen-Anhalt",
          "Mütter in Sachsen-Anhalt",
          "Mütter in Sachsen-Anhalt",
          "Mütter in Sachsen-Anhalt",
          "Mütter in Sachsen-Anhalt",
          "Mütter in Sachsen-Anhalt",
          "Mütter in Sachsen-Anhalt"
         ],
         "hovertemplate": "%{customdata}: %{y:f}<extra></extra>",
         "legendgroup": "Sachsen-Anhalt",
         "line": {
          "color": "#c5b0d5",
          "dash": "solid"
         },
         "mode": "markers+lines",
         "name": "Sachsen-Anhalt",
         "showlegend": true,
         "type": "scatter",
         "visible": "legendonly",
         "x": [
          2009,
          2010,
          2011,
          2012,
          2013,
          2014,
          2015,
          2016,
          2017,
          2018,
          2019,
          2020,
          2021
         ],
         "y": [
          15998,
          15945,
          15651,
          15779,
          16200,
          16502,
          16318,
          16660,
          16626,
          16148,
          15521,
          15053,
          11458
         ]
        },
        {
         "customdata": [
          "Väter in Schleswig-Holstein",
          "Väter in Schleswig-Holstein",
          "Väter in Schleswig-Holstein",
          "Väter in Schleswig-Holstein",
          "Väter in Schleswig-Holstein",
          "Väter in Schleswig-Holstein",
          "Väter in Schleswig-Holstein",
          "Väter in Schleswig-Holstein",
          "Väter in Schleswig-Holstein",
          "Väter in Schleswig-Holstein",
          "Väter in Schleswig-Holstein",
          "Väter in Schleswig-Holstein",
          "Väter in Schleswig-Holstein"
         ],
         "hovertemplate": "%{customdata}: %{y:f}<extra></extra>",
         "legendgroup": "Schleswig-Holstein",
         "line": {
          "color": "#1f77b4",
          "dash": "dash"
         },
         "mode": "markers+lines",
         "name": "Schleswig-Holstein",
         "showlegend": false,
         "type": "scatter",
         "visible": "legendonly",
         "x": [
          2009,
          2010,
          2011,
          2012,
          2013,
          2014,
          2015,
          2016,
          2017,
          2018,
          2019,
          2020,
          2021
         ],
         "y": [
          4165,
          4741,
          4864,
          5203,
          5780,
          6675,
          6852,
          7825,
          8138,
          8632,
          8736,
          8703,
          7468
         ]
        },
        {
         "customdata": [
          "Mütter in Schleswig-Holstein",
          "Mütter in Schleswig-Holstein",
          "Mütter in Schleswig-Holstein",
          "Mütter in Schleswig-Holstein",
          "Mütter in Schleswig-Holstein",
          "Mütter in Schleswig-Holstein",
          "Mütter in Schleswig-Holstein",
          "Mütter in Schleswig-Holstein",
          "Mütter in Schleswig-Holstein",
          "Mütter in Schleswig-Holstein",
          "Mütter in Schleswig-Holstein",
          "Mütter in Schleswig-Holstein",
          "Mütter in Schleswig-Holstein"
         ],
         "hovertemplate": "%{customdata}: %{y:f}<extra></extra>",
         "legendgroup": "Schleswig-Holstein",
         "line": {
          "color": "#1f77b4",
          "dash": "solid"
         },
         "mode": "markers+lines",
         "name": "Schleswig-Holstein",
         "showlegend": true,
         "type": "scatter",
         "visible": "legendonly",
         "x": [
          2009,
          2010,
          2011,
          2012,
          2013,
          2014,
          2015,
          2016,
          2017,
          2018,
          2019,
          2020,
          2021
         ],
         "y": [
          20885,
          21385,
          20034,
          20855,
          20963,
          22020,
          21878,
          22780,
          22931,
          23055,
          22558,
          22572,
          17938
         ]
        },
        {
         "customdata": [
          "Väter in Thüringen",
          "Väter in Thüringen",
          "Väter in Thüringen",
          "Väter in Thüringen",
          "Väter in Thüringen",
          "Väter in Thüringen",
          "Väter in Thüringen",
          "Väter in Thüringen",
          "Väter in Thüringen",
          "Väter in Thüringen",
          "Väter in Thüringen",
          "Väter in Thüringen",
          "Väter in Thüringen"
         ],
         "hovertemplate": "%{customdata}: %{y:f}<extra></extra>",
         "legendgroup": "Thüringen",
         "line": {
          "color": "#c49c94",
          "dash": "dash"
         },
         "mode": "markers+lines",
         "name": "Thüringen",
         "showlegend": false,
         "type": "scatter",
         "visible": "legendonly",
         "x": [
          2009,
          2010,
          2011,
          2012,
          2013,
          2014,
          2015,
          2016,
          2017,
          2018,
          2019,
          2020,
          2021
         ],
         "y": [
          4650,
          4975,
          5324,
          5829,
          6395,
          7219,
          7471,
          7972,
          8244,
          8210,
          7969,
          7626,
          5965
         ]
        },
        {
         "customdata": [
          "Mütter in Thüringen",
          "Mütter in Thüringen",
          "Mütter in Thüringen",
          "Mütter in Thüringen",
          "Mütter in Thüringen",
          "Mütter in Thüringen",
          "Mütter in Thüringen",
          "Mütter in Thüringen",
          "Mütter in Thüringen",
          "Mütter in Thüringen",
          "Mütter in Thüringen",
          "Mütter in Thüringen",
          "Mütter in Thüringen"
         ],
         "hovertemplate": "%{customdata}: %{y:f}<extra></extra>",
         "legendgroup": "Thüringen",
         "line": {
          "color": "#c49c94",
          "dash": "solid"
         },
         "mode": "markers+lines",
         "name": "Thüringen",
         "showlegend": true,
         "type": "scatter",
         "visible": "legendonly",
         "x": [
          2009,
          2010,
          2011,
          2012,
          2013,
          2014,
          2015,
          2016,
          2017,
          2018,
          2019,
          2020,
          2021
         ],
         "y": [
          16269,
          16893,
          16466,
          16778,
          17115,
          17449,
          17068,
          17441,
          17153,
          16611,
          15797,
          15267,
          11432
         ]
        }
       ],
       "layout": {
        "height": 550,
        "hovermode": "x unified",
        "margin": {
         "b": 20,
         "l": 20,
         "r": 20,
         "t": 50
        },
        "template": {
         "data": {
          "bar": [
           {
            "error_x": {
             "color": "#2a3f5f"
            },
            "error_y": {
             "color": "#2a3f5f"
            },
            "marker": {
             "line": {
              "color": "#E5ECF6",
              "width": 0.5
             },
             "pattern": {
              "fillmode": "overlay",
              "size": 10,
              "solidity": 0.2
             }
            },
            "type": "bar"
           }
          ],
          "barpolar": [
           {
            "marker": {
             "line": {
              "color": "#E5ECF6",
              "width": 0.5
             },
             "pattern": {
              "fillmode": "overlay",
              "size": 10,
              "solidity": 0.2
             }
            },
            "type": "barpolar"
           }
          ],
          "carpet": [
           {
            "aaxis": {
             "endlinecolor": "#2a3f5f",
             "gridcolor": "white",
             "linecolor": "white",
             "minorgridcolor": "white",
             "startlinecolor": "#2a3f5f"
            },
            "baxis": {
             "endlinecolor": "#2a3f5f",
             "gridcolor": "white",
             "linecolor": "white",
             "minorgridcolor": "white",
             "startlinecolor": "#2a3f5f"
            },
            "type": "carpet"
           }
          ],
          "choropleth": [
           {
            "colorbar": {
             "outlinewidth": 0,
             "ticks": ""
            },
            "type": "choropleth"
           }
          ],
          "contour": [
           {
            "colorbar": {
             "outlinewidth": 0,
             "ticks": ""
            },
            "colorscale": [
             [
              0,
              "#0d0887"
             ],
             [
              0.1111111111111111,
              "#46039f"
             ],
             [
              0.2222222222222222,
              "#7201a8"
             ],
             [
              0.3333333333333333,
              "#9c179e"
             ],
             [
              0.4444444444444444,
              "#bd3786"
             ],
             [
              0.5555555555555556,
              "#d8576b"
             ],
             [
              0.6666666666666666,
              "#ed7953"
             ],
             [
              0.7777777777777778,
              "#fb9f3a"
             ],
             [
              0.8888888888888888,
              "#fdca26"
             ],
             [
              1,
              "#f0f921"
             ]
            ],
            "type": "contour"
           }
          ],
          "contourcarpet": [
           {
            "colorbar": {
             "outlinewidth": 0,
             "ticks": ""
            },
            "type": "contourcarpet"
           }
          ],
          "heatmap": [
           {
            "colorbar": {
             "outlinewidth": 0,
             "ticks": ""
            },
            "colorscale": [
             [
              0,
              "#0d0887"
             ],
             [
              0.1111111111111111,
              "#46039f"
             ],
             [
              0.2222222222222222,
              "#7201a8"
             ],
             [
              0.3333333333333333,
              "#9c179e"
             ],
             [
              0.4444444444444444,
              "#bd3786"
             ],
             [
              0.5555555555555556,
              "#d8576b"
             ],
             [
              0.6666666666666666,
              "#ed7953"
             ],
             [
              0.7777777777777778,
              "#fb9f3a"
             ],
             [
              0.8888888888888888,
              "#fdca26"
             ],
             [
              1,
              "#f0f921"
             ]
            ],
            "type": "heatmap"
           }
          ],
          "heatmapgl": [
           {
            "colorbar": {
             "outlinewidth": 0,
             "ticks": ""
            },
            "colorscale": [
             [
              0,
              "#0d0887"
             ],
             [
              0.1111111111111111,
              "#46039f"
             ],
             [
              0.2222222222222222,
              "#7201a8"
             ],
             [
              0.3333333333333333,
              "#9c179e"
             ],
             [
              0.4444444444444444,
              "#bd3786"
             ],
             [
              0.5555555555555556,
              "#d8576b"
             ],
             [
              0.6666666666666666,
              "#ed7953"
             ],
             [
              0.7777777777777778,
              "#fb9f3a"
             ],
             [
              0.8888888888888888,
              "#fdca26"
             ],
             [
              1,
              "#f0f921"
             ]
            ],
            "type": "heatmapgl"
           }
          ],
          "histogram": [
           {
            "marker": {
             "pattern": {
              "fillmode": "overlay",
              "size": 10,
              "solidity": 0.2
             }
            },
            "type": "histogram"
           }
          ],
          "histogram2d": [
           {
            "colorbar": {
             "outlinewidth": 0,
             "ticks": ""
            },
            "colorscale": [
             [
              0,
              "#0d0887"
             ],
             [
              0.1111111111111111,
              "#46039f"
             ],
             [
              0.2222222222222222,
              "#7201a8"
             ],
             [
              0.3333333333333333,
              "#9c179e"
             ],
             [
              0.4444444444444444,
              "#bd3786"
             ],
             [
              0.5555555555555556,
              "#d8576b"
             ],
             [
              0.6666666666666666,
              "#ed7953"
             ],
             [
              0.7777777777777778,
              "#fb9f3a"
             ],
             [
              0.8888888888888888,
              "#fdca26"
             ],
             [
              1,
              "#f0f921"
             ]
            ],
            "type": "histogram2d"
           }
          ],
          "histogram2dcontour": [
           {
            "colorbar": {
             "outlinewidth": 0,
             "ticks": ""
            },
            "colorscale": [
             [
              0,
              "#0d0887"
             ],
             [
              0.1111111111111111,
              "#46039f"
             ],
             [
              0.2222222222222222,
              "#7201a8"
             ],
             [
              0.3333333333333333,
              "#9c179e"
             ],
             [
              0.4444444444444444,
              "#bd3786"
             ],
             [
              0.5555555555555556,
              "#d8576b"
             ],
             [
              0.6666666666666666,
              "#ed7953"
             ],
             [
              0.7777777777777778,
              "#fb9f3a"
             ],
             [
              0.8888888888888888,
              "#fdca26"
             ],
             [
              1,
              "#f0f921"
             ]
            ],
            "type": "histogram2dcontour"
           }
          ],
          "mesh3d": [
           {
            "colorbar": {
             "outlinewidth": 0,
             "ticks": ""
            },
            "type": "mesh3d"
           }
          ],
          "parcoords": [
           {
            "line": {
             "colorbar": {
              "outlinewidth": 0,
              "ticks": ""
             }
            },
            "type": "parcoords"
           }
          ],
          "pie": [
           {
            "automargin": true,
            "type": "pie"
           }
          ],
          "scatter": [
           {
            "fillpattern": {
             "fillmode": "overlay",
             "size": 10,
             "solidity": 0.2
            },
            "type": "scatter"
           }
          ],
          "scatter3d": [
           {
            "line": {
             "colorbar": {
              "outlinewidth": 0,
              "ticks": ""
             }
            },
            "marker": {
             "colorbar": {
              "outlinewidth": 0,
              "ticks": ""
             }
            },
            "type": "scatter3d"
           }
          ],
          "scattercarpet": [
           {
            "marker": {
             "colorbar": {
              "outlinewidth": 0,
              "ticks": ""
             }
            },
            "type": "scattercarpet"
           }
          ],
          "scattergeo": [
           {
            "marker": {
             "colorbar": {
              "outlinewidth": 0,
              "ticks": ""
             }
            },
            "type": "scattergeo"
           }
          ],
          "scattergl": [
           {
            "marker": {
             "colorbar": {
              "outlinewidth": 0,
              "ticks": ""
             }
            },
            "type": "scattergl"
           }
          ],
          "scattermapbox": [
           {
            "marker": {
             "colorbar": {
              "outlinewidth": 0,
              "ticks": ""
             }
            },
            "type": "scattermapbox"
           }
          ],
          "scatterpolar": [
           {
            "marker": {
             "colorbar": {
              "outlinewidth": 0,
              "ticks": ""
             }
            },
            "type": "scatterpolar"
           }
          ],
          "scatterpolargl": [
           {
            "marker": {
             "colorbar": {
              "outlinewidth": 0,
              "ticks": ""
             }
            },
            "type": "scatterpolargl"
           }
          ],
          "scatterternary": [
           {
            "marker": {
             "colorbar": {
              "outlinewidth": 0,
              "ticks": ""
             }
            },
            "type": "scatterternary"
           }
          ],
          "surface": [
           {
            "colorbar": {
             "outlinewidth": 0,
             "ticks": ""
            },
            "colorscale": [
             [
              0,
              "#0d0887"
             ],
             [
              0.1111111111111111,
              "#46039f"
             ],
             [
              0.2222222222222222,
              "#7201a8"
             ],
             [
              0.3333333333333333,
              "#9c179e"
             ],
             [
              0.4444444444444444,
              "#bd3786"
             ],
             [
              0.5555555555555556,
              "#d8576b"
             ],
             [
              0.6666666666666666,
              "#ed7953"
             ],
             [
              0.7777777777777778,
              "#fb9f3a"
             ],
             [
              0.8888888888888888,
              "#fdca26"
             ],
             [
              1,
              "#f0f921"
             ]
            ],
            "type": "surface"
           }
          ],
          "table": [
           {
            "cells": {
             "fill": {
              "color": "#EBF0F8"
             },
             "line": {
              "color": "white"
             }
            },
            "header": {
             "fill": {
              "color": "#C8D4E3"
             },
             "line": {
              "color": "white"
             }
            },
            "type": "table"
           }
          ]
         },
         "layout": {
          "annotationdefaults": {
           "arrowcolor": "#2a3f5f",
           "arrowhead": 0,
           "arrowwidth": 1
          },
          "autotypenumbers": "strict",
          "coloraxis": {
           "colorbar": {
            "outlinewidth": 0,
            "ticks": ""
           }
          },
          "colorscale": {
           "diverging": [
            [
             0,
             "#8e0152"
            ],
            [
             0.1,
             "#c51b7d"
            ],
            [
             0.2,
             "#de77ae"
            ],
            [
             0.3,
             "#f1b6da"
            ],
            [
             0.4,
             "#fde0ef"
            ],
            [
             0.5,
             "#f7f7f7"
            ],
            [
             0.6,
             "#e6f5d0"
            ],
            [
             0.7,
             "#b8e186"
            ],
            [
             0.8,
             "#7fbc41"
            ],
            [
             0.9,
             "#4d9221"
            ],
            [
             1,
             "#276419"
            ]
           ],
           "sequential": [
            [
             0,
             "#0d0887"
            ],
            [
             0.1111111111111111,
             "#46039f"
            ],
            [
             0.2222222222222222,
             "#7201a8"
            ],
            [
             0.3333333333333333,
             "#9c179e"
            ],
            [
             0.4444444444444444,
             "#bd3786"
            ],
            [
             0.5555555555555556,
             "#d8576b"
            ],
            [
             0.6666666666666666,
             "#ed7953"
            ],
            [
             0.7777777777777778,
             "#fb9f3a"
            ],
            [
             0.8888888888888888,
             "#fdca26"
            ],
            [
             1,
             "#f0f921"
            ]
           ],
           "sequentialminus": [
            [
             0,
             "#0d0887"
            ],
            [
             0.1111111111111111,
             "#46039f"
            ],
            [
             0.2222222222222222,
             "#7201a8"
            ],
            [
             0.3333333333333333,
             "#9c179e"
            ],
            [
             0.4444444444444444,
             "#bd3786"
            ],
            [
             0.5555555555555556,
             "#d8576b"
            ],
            [
             0.6666666666666666,
             "#ed7953"
            ],
            [
             0.7777777777777778,
             "#fb9f3a"
            ],
            [
             0.8888888888888888,
             "#fdca26"
            ],
            [
             1,
             "#f0f921"
            ]
           ]
          },
          "colorway": [
           "#636efa",
           "#EF553B",
           "#00cc96",
           "#ab63fa",
           "#FFA15A",
           "#19d3f3",
           "#FF6692",
           "#B6E880",
           "#FF97FF",
           "#FECB52"
          ],
          "font": {
           "color": "#2a3f5f"
          },
          "geo": {
           "bgcolor": "white",
           "lakecolor": "white",
           "landcolor": "#E5ECF6",
           "showlakes": true,
           "showland": true,
           "subunitcolor": "white"
          },
          "hoverlabel": {
           "align": "left"
          },
          "hovermode": "closest",
          "mapbox": {
           "style": "light"
          },
          "paper_bgcolor": "white",
          "plot_bgcolor": "#E5ECF6",
          "polar": {
           "angularaxis": {
            "gridcolor": "white",
            "linecolor": "white",
            "ticks": ""
           },
           "bgcolor": "#E5ECF6",
           "radialaxis": {
            "gridcolor": "white",
            "linecolor": "white",
            "ticks": ""
           }
          },
          "scene": {
           "xaxis": {
            "backgroundcolor": "#E5ECF6",
            "gridcolor": "white",
            "gridwidth": 2,
            "linecolor": "white",
            "showbackground": true,
            "ticks": "",
            "zerolinecolor": "white"
           },
           "yaxis": {
            "backgroundcolor": "#E5ECF6",
            "gridcolor": "white",
            "gridwidth": 2,
            "linecolor": "white",
            "showbackground": true,
            "ticks": "",
            "zerolinecolor": "white"
           },
           "zaxis": {
            "backgroundcolor": "#E5ECF6",
            "gridcolor": "white",
            "gridwidth": 2,
            "linecolor": "white",
            "showbackground": true,
            "ticks": "",
            "zerolinecolor": "white"
           }
          },
          "shapedefaults": {
           "line": {
            "color": "#2a3f5f"
           }
          },
          "ternary": {
           "aaxis": {
            "gridcolor": "white",
            "linecolor": "white",
            "ticks": ""
           },
           "baxis": {
            "gridcolor": "white",
            "linecolor": "white",
            "ticks": ""
           },
           "bgcolor": "#E5ECF6",
           "caxis": {
            "gridcolor": "white",
            "linecolor": "white",
            "ticks": ""
           }
          },
          "title": {
           "x": 0.05
          },
          "xaxis": {
           "automargin": true,
           "gridcolor": "white",
           "linecolor": "white",
           "ticks": "",
           "title": {
            "standoff": 15
           },
           "zerolinecolor": "white",
           "zerolinewidth": 2
          },
          "yaxis": {
           "automargin": true,
           "gridcolor": "white",
           "linecolor": "white",
           "ticks": "",
           "title": {
            "standoff": 15
           },
           "zerolinecolor": "white",
           "zerolinewidth": 2
          }
         }
        },
        "title": {
         "text": "Empfänger:innen von Elterngeld"
        },
        "width": 1000,
        "yaxis": {
         "range": [
          0,
          158148
         ],
         "tickformat": ".0f"
        }
       }
      }
     },
     "metadata": {},
     "output_type": "display_data"
    }
   ],
   "source": [
    "eg = pd.read_parquet(destatis_sources[\"eg_empf\"][\"processed_file\"])\n",
    "\n",
    "eg = eg.loc[eg.art.eq(\"Insgesamt\")]\n",
    "eg = eg.loc[eg.fm.ne(\"Insgesamt\")]\n",
    "\n",
    "eg = eg.groupby([\"jahr\", \"land\", \"fm\", \"art\"]).sum().drop(\"quartal\", axis=1).reset_index()\n",
    "\n",
    "eg[\"grp_display\"] = eg.apply(\n",
    "    lambda row: f\"{'Mütter' if row.fm=='weiblich' else 'Väter'} in {row.land}\",\n",
    "    axis=1\n",
    ")\n",
    "\n",
    "eg = eg.sort_values(by=[\"jahr\", \"land\", \"fm\"], ascending=[True, True, False]).reset_index(drop=True)\n",
    "land_clr = {\n",
    "    'Schleswig-Holstein': '#1f77b4',\n",
    "    'Hamburg': '#ff7f0e',\n",
    "    'Niedersachsen': '#2ca02c',\n",
    "    'Bremen': '#d62728',\n",
    "    'Nordrhein-Westfalen': '#9467bd',\n",
    "    'Hessen': '#8c564b',\n",
    "    'Rheinland-Pfalz': '#e377c2',\n",
    "    'Baden-Württemberg': '#7f7f7f',\n",
    "    'Bayern': '#bcbd22',\n",
    "    'Saarland': '#17becf',\n",
    "    'Berlin': '#aec7e8',\n",
    "    'Brandenburg': '#ffbb78',\n",
    "    'Mecklenburg-Vorpommern': '#98df8a',\n",
    "    'Sachsen': '#ff9896',\n",
    "    'Sachsen-Anhalt': '#c5b0d5',\n",
    "    'Thüringen': '#c49c94',\n",
    "}\n",
    "\n",
    "fm_line = {\n",
    "    \"weiblich\": \"solid\",\n",
    "    \"männlich\": \"dash\",\n",
    "}\n",
    "\n",
    "fig = go.Figure()\n",
    "\n",
    "for var, grp in eg.groupby([\"land\", \"fm\"]):\n",
    "    fig.add_trace(\n",
    "        go.Scatter(\n",
    "            x=grp.jahr,\n",
    "            y=grp.pers,\n",
    "            mode=\"markers+lines\",\n",
    "            line=dict(\n",
    "                dash=fm_line[var[1]],\n",
    "                color=land_clr[var[0]]\n",
    "            ),\n",
    "            name=var[0],\n",
    "            showlegend=var[1]==\"weiblich\",\n",
    "            legendgroup=var[0],\n",
    "            visible=True if var[0] == \"Berlin\" else \"legendonly\",\n",
    "            customdata=grp.grp_display.values,\n",
    "            hovertemplate=\"%{customdata}: %{y:f}<extra></extra>\"\n",
    "        )\n",
    "    )\n",
    "\n",
    "fig.update_layout(\n",
    "    hovermode=\"x unified\",\n",
    "    width=1000,\n",
    "    height=550,\n",
    "    margin=dict(t=50, r=20, b=20, l=20),\n",
    "    yaxis=dict(\n",
    "        range=[0, eg.pers.max()],\n",
    "        tickformat=\".0f\"\n",
    "    ),\n",
    "    title=\"Empfänger:innen von Elterngeld\"\n",
    ")\n",
    "\n",
    "fig.show()"
   ]
  },
  {
   "cell_type": "markdown",
   "metadata": {},
   "source": [
    "# Empfänger:innen von Elterngeld in Prozent Anteil an Geburten"
   ]
  },
  {
   "cell_type": "code",
   "execution_count": 30,
   "metadata": {},
   "outputs": [
    {
     "data": {
      "application/vnd.plotly.v1+json": {
       "config": {
        "plotlyServerURL": "https://plot.ly"
       },
       "data": [
        {
         "customdata": [
          "Väter in Baden-Württemberg",
          "Väter in Baden-Württemberg",
          "Väter in Baden-Württemberg",
          "Väter in Baden-Württemberg",
          "Väter in Baden-Württemberg",
          "Väter in Baden-Württemberg",
          "Väter in Baden-Württemberg",
          "Väter in Baden-Württemberg",
          "Väter in Baden-Württemberg",
          "Väter in Baden-Württemberg",
          "Väter in Baden-Württemberg",
          "Väter in Baden-Württemberg",
          "Väter in Baden-Württemberg"
         ],
         "hovertemplate": "%{customdata}: bei %{y:.1f}% der geborenen Kinder<extra></extra>",
         "legendgroup": "Baden-Württemberg",
         "line": {
          "color": "#7f7f7f",
          "dash": "dash"
         },
         "mode": "markers+lines",
         "name": "Baden-Württemberg",
         "showlegend": false,
         "type": "scatter",
         "visible": "legendonly",
         "x": [
          2009,
          2010,
          2011,
          2012,
          2013,
          2014,
          2015,
          2016,
          2017,
          2018,
          2019,
          2020,
          2021
         ],
         "y": [
          23.488481009835187,
          26.149181322013344,
          29.12759082670029,
          32.25521642433251,
          36.35757608873832,
          38.725531202944616,
          38.95620780101527,
          39.44477006521719,
          41.628870779976715,
          43.0503401610371,
          44.225352112676056,
          45.41398207805673,
          36.36003311783254
         ]
        },
        {
         "customdata": [
          "Mütter in Baden-Württemberg",
          "Mütter in Baden-Württemberg",
          "Mütter in Baden-Württemberg",
          "Mütter in Baden-Württemberg",
          "Mütter in Baden-Württemberg",
          "Mütter in Baden-Württemberg",
          "Mütter in Baden-Württemberg",
          "Mütter in Baden-Württemberg",
          "Mütter in Baden-Württemberg",
          "Mütter in Baden-Württemberg",
          "Mütter in Baden-Württemberg",
          "Mütter in Baden-Württemberg",
          "Mütter in Baden-Württemberg"
         ],
         "hovertemplate": "%{customdata}: bei %{y:.1f}% der geborenen Kinder<extra></extra>",
         "legendgroup": "Baden-Württemberg",
         "line": {
          "color": "#7f7f7f",
          "dash": "solid"
         },
         "mode": "markers+lines",
         "name": "Baden-Württemberg",
         "showlegend": true,
         "type": "scatter",
         "visible": "legendonly",
         "x": [
          2009,
          2010,
          2011,
          2012,
          2013,
          2014,
          2015,
          2016,
          2017,
          2018,
          2019,
          2020,
          2021
         ],
         "y": [
          95.54294252771025,
          95.7594134186008,
          95.52480776375488,
          96.5119527923377,
          98.43287252062728,
          98.39488874017064,
          95.23082906980224,
          93.29872449691591,
          95.0174621653085,
          94.75940836768608,
          94.65889801348808,
          95.83148189291268,
          72.45935138372646
         ]
        },
        {
         "customdata": [
          "Väter in Bayern",
          "Väter in Bayern",
          "Väter in Bayern",
          "Väter in Bayern",
          "Väter in Bayern",
          "Väter in Bayern",
          "Väter in Bayern",
          "Väter in Bayern",
          "Väter in Bayern",
          "Väter in Bayern",
          "Väter in Bayern",
          "Väter in Bayern",
          "Väter in Bayern"
         ],
         "hovertemplate": "%{customdata}: bei %{y:.1f}% der geborenen Kinder<extra></extra>",
         "legendgroup": "Bayern",
         "line": {
          "color": "#bcbd22",
          "dash": "dash"
         },
         "mode": "markers+lines",
         "name": "Bayern",
         "showlegend": false,
         "type": "scatter",
         "visible": "legendonly",
         "x": [
          2009,
          2010,
          2011,
          2012,
          2013,
          2014,
          2015,
          2016,
          2017,
          2018,
          2019,
          2020,
          2021
         ],
         "y": [
          29.543920547681036,
          32.066203646521174,
          34.9249527337269,
          37.195788450938444,
          39.839542907212355,
          41.7492429894238,
          42.529688398687284,
          43.5163820950623,
          45.14094161839175,
          46.53413365095286,
          48.01874800159093,
          48.61374297163803,
          38.71397622114189
         ]
        },
        {
         "customdata": [
          "Mütter in Bayern",
          "Mütter in Bayern",
          "Mütter in Bayern",
          "Mütter in Bayern",
          "Mütter in Bayern",
          "Mütter in Bayern",
          "Mütter in Bayern",
          "Mütter in Bayern",
          "Mütter in Bayern",
          "Mütter in Bayern",
          "Mütter in Bayern",
          "Mütter in Bayern",
          "Mütter in Bayern"
         ],
         "hovertemplate": "%{customdata}: bei %{y:.1f}% der geborenen Kinder<extra></extra>",
         "legendgroup": "Bayern",
         "line": {
          "color": "#bcbd22",
          "dash": "solid"
         },
         "mode": "markers+lines",
         "name": "Bayern",
         "showlegend": true,
         "type": "scatter",
         "visible": "legendonly",
         "x": [
          2009,
          2010,
          2011,
          2012,
          2013,
          2014,
          2015,
          2016,
          2017,
          2018,
          2019,
          2020,
          2021
         ],
         "y": [
          95.54527046572173,
          95.76916133813455,
          95.66693675965583,
          96.40224591036912,
          97.80033223197823,
          97.46346601132224,
          94.88784382718137,
          93.5800327801028,
          94.58660559328615,
          94.31184177532597,
          94.67818790114406,
          95.26575750986301,
          72.03043455602624
         ]
        },
        {
         "customdata": [
          "Väter in Berlin",
          "Väter in Berlin",
          "Väter in Berlin",
          "Väter in Berlin",
          "Väter in Berlin",
          "Väter in Berlin",
          "Väter in Berlin",
          "Väter in Berlin",
          "Väter in Berlin",
          "Väter in Berlin",
          "Väter in Berlin",
          "Väter in Berlin",
          "Väter in Berlin"
         ],
         "hovertemplate": "%{customdata}: bei %{y:.1f}% der geborenen Kinder<extra></extra>",
         "legendgroup": "Berlin",
         "line": {
          "color": "#aec7e8",
          "dash": "dash"
         },
         "mode": "markers+lines",
         "name": "Berlin",
         "showlegend": false,
         "type": "scatter",
         "visible": true,
         "x": [
          2009,
          2010,
          2011,
          2012,
          2013,
          2014,
          2015,
          2016,
          2017,
          2018,
          2019,
          2020,
          2021
         ],
         "y": [
          28.834413157238973,
          30.3866079717306,
          31.2713529856387,
          33.09879462483419,
          35.46720703236486,
          37.574930421751226,
          37.89639758085722,
          39.45382855473884,
          41.47659362549801,
          42.26052782130687,
          42.95369971900868,
          42.51673429302458,
          33.48396650326798
         ]
        },
        {
         "customdata": [
          "Mütter in Berlin",
          "Mütter in Berlin",
          "Mütter in Berlin",
          "Mütter in Berlin",
          "Mütter in Berlin",
          "Mütter in Berlin",
          "Mütter in Berlin",
          "Mütter in Berlin",
          "Mütter in Berlin",
          "Mütter in Berlin",
          "Mütter in Berlin",
          "Mütter in Berlin",
          "Mütter in Berlin"
         ],
         "hovertemplate": "%{customdata}: bei %{y:.1f}% der geborenen Kinder<extra></extra>",
         "legendgroup": "Berlin",
         "line": {
          "color": "#aec7e8",
          "dash": "solid"
         },
         "mode": "markers+lines",
         "name": "Berlin",
         "showlegend": true,
         "type": "scatter",
         "visible": true,
         "x": [
          2009,
          2010,
          2011,
          2012,
          2013,
          2014,
          2015,
          2016,
          2017,
          2018,
          2019,
          2020,
          2021
         ],
         "y": [
          92.01968602043358,
          92.41457790554907,
          90.69085411942555,
          91.13270661514505,
          91.51492665106456,
          92.57385998715478,
          90.93084407047068,
          88.91349851530936,
          91.53137450199203,
          90.76685819466209,
          90.73741234842923,
          90.40136458790997,
          68.66574754901961
         ]
        },
        {
         "customdata": [
          "Väter in Brandenburg",
          "Väter in Brandenburg",
          "Väter in Brandenburg",
          "Väter in Brandenburg",
          "Väter in Brandenburg",
          "Väter in Brandenburg",
          "Väter in Brandenburg",
          "Väter in Brandenburg",
          "Väter in Brandenburg",
          "Väter in Brandenburg",
          "Väter in Brandenburg",
          "Väter in Brandenburg",
          "Väter in Brandenburg"
         ],
         "hovertemplate": "%{customdata}: bei %{y:.1f}% der geborenen Kinder<extra></extra>",
         "legendgroup": "Brandenburg",
         "line": {
          "color": "#ffbb78",
          "dash": "dash"
         },
         "mode": "markers+lines",
         "name": "Brandenburg",
         "showlegend": false,
         "type": "scatter",
         "visible": "legendonly",
         "x": [
          2009,
          2010,
          2011,
          2012,
          2013,
          2014,
          2015,
          2016,
          2017,
          2018,
          2019,
          2020,
          2021
         ],
         "y": [
          26.109942277606947,
          27.049699271921497,
          28.907489468789322,
          31.116762255167192,
          34.31217651865977,
          35.886033404002276,
          38.284847216408544,
          39.79172637814082,
          42.744750946550624,
          45.06312559730396,
          46.08619173262973,
          45.767975576376465,
          36.376057596300384
         ]
        },
        {
         "customdata": [
          "Mütter in Brandenburg",
          "Mütter in Brandenburg",
          "Mütter in Brandenburg",
          "Mütter in Brandenburg",
          "Mütter in Brandenburg",
          "Mütter in Brandenburg",
          "Mütter in Brandenburg",
          "Mütter in Brandenburg",
          "Mütter in Brandenburg",
          "Mütter in Brandenburg",
          "Mütter in Brandenburg",
          "Mütter in Brandenburg",
          "Mütter in Brandenburg"
         ],
         "hovertemplate": "%{customdata}: bei %{y:.1f}% der geborenen Kinder<extra></extra>",
         "legendgroup": "Brandenburg",
         "line": {
          "color": "#ffbb78",
          "dash": "solid"
         },
         "mode": "markers+lines",
         "name": "Brandenburg",
         "showlegend": true,
         "type": "scatter",
         "visible": "legendonly",
         "x": [
          2009,
          2010,
          2011,
          2012,
          2013,
          2014,
          2015,
          2016,
          2017,
          2018,
          2019,
          2020,
          2021
         ],
         "y": [
          95.177213141285,
          95.26748971193416,
          94.91766508014662,
          95.07087977491614,
          97.09071097793517,
          95.70815450643777,
          95.2856843867727,
          93.38396866341836,
          94.89600236023013,
          97.83713092902772,
          95.2713539241554,
          95.24160437940836,
          72.48935834778496
         ]
        },
        {
         "customdata": [
          "Väter in Bremen",
          "Väter in Bremen",
          "Väter in Bremen",
          "Väter in Bremen",
          "Väter in Bremen",
          "Väter in Bremen",
          "Väter in Bremen",
          "Väter in Bremen",
          "Väter in Bremen",
          "Väter in Bremen",
          "Väter in Bremen",
          "Väter in Bremen",
          "Väter in Bremen"
         ],
         "hovertemplate": "%{customdata}: bei %{y:.1f}% der geborenen Kinder<extra></extra>",
         "legendgroup": "Bremen",
         "line": {
          "color": "#d62728",
          "dash": "dash"
         },
         "mode": "markers+lines",
         "name": "Bremen",
         "showlegend": false,
         "type": "scatter",
         "visible": "legendonly",
         "x": [
          2009,
          2010,
          2011,
          2012,
          2013,
          2014,
          2015,
          2016,
          2017,
          2018,
          2019,
          2020,
          2021
         ],
         "y": [
          17.806969531107463,
          18.21753884622254,
          20.452858203414998,
          21.599574392622806,
          24.612976169768654,
          26.06665593302206,
          27.03948379167307,
          28.0969730941704,
          31.385714285714283,
          32.70975848108335,
          34.07469576164498,
          31.47244546498278,
          26.75369387462344
         ]
        },
        {
         "customdata": [
          "Mütter in Bremen",
          "Mütter in Bremen",
          "Mütter in Bremen",
          "Mütter in Bremen",
          "Mütter in Bremen",
          "Mütter in Bremen",
          "Mütter in Bremen",
          "Mütter in Bremen",
          "Mütter in Bremen",
          "Mütter in Bremen",
          "Mütter in Bremen",
          "Mütter in Bremen",
          "Mütter in Bremen"
         ],
         "hovertemplate": "%{customdata}: bei %{y:.1f}% der geborenen Kinder<extra></extra>",
         "legendgroup": "Bremen",
         "line": {
          "color": "#d62728",
          "dash": "solid"
         },
         "mode": "markers+lines",
         "name": "Bremen",
         "showlegend": true,
         "type": "scatter",
         "visible": "legendonly",
         "x": [
          2009,
          2010,
          2011,
          2012,
          2013,
          2014,
          2015,
          2016,
          2017,
          2018,
          2019,
          2020,
          2021
         ],
         "y": [
          92.61083743842364,
          90.71262725486694,
          90.79435783221975,
          91.39918425252705,
          92.48564967820491,
          93.01239735952342,
          93.5627592564142,
          87.05156950672645,
          90.8,
          90.57657406114757,
          90.40425234298503,
          89.89667049368542,
          69.40180748816526
         ]
        },
        {
         "customdata": [
          "Väter in Hamburg",
          "Väter in Hamburg",
          "Väter in Hamburg",
          "Väter in Hamburg",
          "Väter in Hamburg",
          "Väter in Hamburg",
          "Väter in Hamburg",
          "Väter in Hamburg",
          "Väter in Hamburg",
          "Väter in Hamburg",
          "Väter in Hamburg",
          "Väter in Hamburg",
          "Väter in Hamburg"
         ],
         "hovertemplate": "%{customdata}: bei %{y:.1f}% der geborenen Kinder<extra></extra>",
         "legendgroup": "Hamburg",
         "line": {
          "color": "#ff7f0e",
          "dash": "dash"
         },
         "mode": "markers+lines",
         "name": "Hamburg",
         "showlegend": false,
         "type": "scatter",
         "visible": "legendonly",
         "x": [
          2009,
          2010,
          2011,
          2012,
          2013,
          2014,
          2015,
          2016,
          2017,
          2018,
          2019,
          2020,
          2021
         ],
         "y": [
          26.09809881399368,
          26.97818956091385,
          29.144525547445255,
          31.780187507059754,
          35.00027567955009,
          37.22884605283891,
          37.666936462970455,
          37.844506517690874,
          39.95646619031846,
          41.6690334185364,
          42.55969436485196,
          41.55939503695365,
          33.37139594633172
         ]
        },
        {
         "customdata": [
          "Mütter in Hamburg",
          "Mütter in Hamburg",
          "Mütter in Hamburg",
          "Mütter in Hamburg",
          "Mütter in Hamburg",
          "Mütter in Hamburg",
          "Mütter in Hamburg",
          "Mütter in Hamburg",
          "Mütter in Hamburg",
          "Mütter in Hamburg",
          "Mütter in Hamburg",
          "Mütter in Hamburg",
          "Mütter in Hamburg"
         ],
         "hovertemplate": "%{customdata}: bei %{y:.1f}% der geborenen Kinder<extra></extra>",
         "legendgroup": "Hamburg",
         "line": {
          "color": "#ff7f0e",
          "dash": "solid"
         },
         "mode": "markers+lines",
         "name": "Hamburg",
         "showlegend": true,
         "type": "scatter",
         "visible": "legendonly",
         "x": [
          2009,
          2010,
          2011,
          2012,
          2013,
          2014,
          2015,
          2016,
          2017,
          2018,
          2019,
          2020,
          2021
         ],
         "y": [
          93.97461112104416,
          93.35328307532946,
          92.48467153284672,
          92.54490003388682,
          94.51397695318961,
          95.19407531908189,
          91.9364629704573,
          90.91247672253259,
          92.41470685657502,
          91.63116538862066,
          91.48042024832856,
          91.11154617982477,
          70.0352079170235
         ]
        },
        {
         "customdata": [
          "Väter in Hessen",
          "Väter in Hessen",
          "Väter in Hessen",
          "Väter in Hessen",
          "Väter in Hessen",
          "Väter in Hessen",
          "Väter in Hessen",
          "Väter in Hessen",
          "Väter in Hessen",
          "Väter in Hessen",
          "Väter in Hessen",
          "Väter in Hessen",
          "Väter in Hessen"
         ],
         "hovertemplate": "%{customdata}: bei %{y:.1f}% der geborenen Kinder<extra></extra>",
         "legendgroup": "Hessen",
         "line": {
          "color": "#8c564b",
          "dash": "dash"
         },
         "mode": "markers+lines",
         "name": "Hessen",
         "showlegend": false,
         "type": "scatter",
         "visible": "legendonly",
         "x": [
          2009,
          2010,
          2011,
          2012,
          2013,
          2014,
          2015,
          2016,
          2017,
          2018,
          2019,
          2020,
          2021
         ],
         "y": [
          22.217405013400597,
          24.146727996598507,
          25.612385632976554,
          27.916755478907902,
          29.964549199961677,
          32.46325346415039,
          32.097593559387576,
          33.11488366731982,
          34.7478192431298,
          35.92899757424769,
          36.47897172921314,
          36.82163363585849,
          29.548630292789134
         ]
        },
        {
         "customdata": [
          "Mütter in Hessen",
          "Mütter in Hessen",
          "Mütter in Hessen",
          "Mütter in Hessen",
          "Mütter in Hessen",
          "Mütter in Hessen",
          "Mütter in Hessen",
          "Mütter in Hessen",
          "Mütter in Hessen",
          "Mütter in Hessen",
          "Mütter in Hessen",
          "Mütter in Hessen",
          "Mütter in Hessen"
         ],
         "hovertemplate": "%{customdata}: bei %{y:.1f}% der geborenen Kinder<extra></extra>",
         "legendgroup": "Hessen",
         "line": {
          "color": "#8c564b",
          "dash": "solid"
         },
         "mode": "markers+lines",
         "name": "Hessen",
         "showlegend": true,
         "type": "scatter",
         "visible": "legendonly",
         "x": [
          2009,
          2010,
          2011,
          2012,
          2013,
          2014,
          2015,
          2016,
          2017,
          2018,
          2019,
          2020,
          2021
         ],
         "y": [
          94.99251142992276,
          95.08329790112481,
          94.01309271741876,
          94.35347917918112,
          95.99885024432308,
          95.64532957478355,
          92.57149888379125,
          90.85804613788675,
          91.2868105201023,
          91.91142726021111,
          92.04988178881823,
          92.15848052669686,
          69.91681019075163
         ]
        },
        {
         "customdata": [
          "Väter in Mecklenburg-Vorpommern",
          "Väter in Mecklenburg-Vorpommern",
          "Väter in Mecklenburg-Vorpommern",
          "Väter in Mecklenburg-Vorpommern",
          "Väter in Mecklenburg-Vorpommern",
          "Väter in Mecklenburg-Vorpommern",
          "Väter in Mecklenburg-Vorpommern",
          "Väter in Mecklenburg-Vorpommern",
          "Väter in Mecklenburg-Vorpommern",
          "Väter in Mecklenburg-Vorpommern",
          "Väter in Mecklenburg-Vorpommern",
          "Väter in Mecklenburg-Vorpommern",
          "Väter in Mecklenburg-Vorpommern"
         ],
         "hovertemplate": "%{customdata}: bei %{y:.1f}% der geborenen Kinder<extra></extra>",
         "legendgroup": "Mecklenburg-Vorpommern",
         "line": {
          "color": "#98df8a",
          "dash": "dash"
         },
         "mode": "markers+lines",
         "name": "Mecklenburg-Vorpommern",
         "showlegend": false,
         "type": "scatter",
         "visible": "legendonly",
         "x": [
          2009,
          2010,
          2011,
          2012,
          2013,
          2014,
          2015,
          2016,
          2017,
          2018,
          2019,
          2020,
          2021
         ],
         "y": [
          22.383586906408485,
          22.861213166379247,
          21.63316980534895,
          24.309870232009438,
          25.939490445859875,
          27.529228371005456,
          29.478117010076705,
          33.12751078708526,
          34.706826695206786,
          36.42572130141191,
          37.76722090261283,
          38.960285216814526,
          31.827775432672013
         ]
        },
        {
         "customdata": [
          "Mütter in Mecklenburg-Vorpommern",
          "Mütter in Mecklenburg-Vorpommern",
          "Mütter in Mecklenburg-Vorpommern",
          "Mütter in Mecklenburg-Vorpommern",
          "Mütter in Mecklenburg-Vorpommern",
          "Mütter in Mecklenburg-Vorpommern",
          "Mütter in Mecklenburg-Vorpommern",
          "Mütter in Mecklenburg-Vorpommern",
          "Mütter in Mecklenburg-Vorpommern",
          "Mütter in Mecklenburg-Vorpommern",
          "Mütter in Mecklenburg-Vorpommern",
          "Mütter in Mecklenburg-Vorpommern",
          "Mütter in Mecklenburg-Vorpommern"
         ],
         "hovertemplate": "%{customdata}: bei %{y:.1f}% der geborenen Kinder<extra></extra>",
         "legendgroup": "Mecklenburg-Vorpommern",
         "line": {
          "color": "#98df8a",
          "dash": "solid"
         },
         "mode": "markers+lines",
         "name": "Mecklenburg-Vorpommern",
         "showlegend": true,
         "type": "scatter",
         "visible": "legendonly",
         "x": [
          2009,
          2010,
          2011,
          2012,
          2013,
          2014,
          2015,
          2016,
          2017,
          2018,
          2019,
          2020,
          2021
         ],
         "y": [
          95.35116028891963,
          95.08885056609432,
          95.00712137996518,
          95.38340542666143,
          96.99044585987261,
          96.31332813717849,
          93.38246352835013,
          92.91772057729504,
          94.34294014219097,
          94.39840392879066,
          94.94061757719714,
          94.30395489594561,
          72.08948923596455
         ]
        },
        {
         "customdata": [
          "Väter in Niedersachsen",
          "Väter in Niedersachsen",
          "Väter in Niedersachsen",
          "Väter in Niedersachsen",
          "Väter in Niedersachsen",
          "Väter in Niedersachsen",
          "Väter in Niedersachsen",
          "Väter in Niedersachsen",
          "Väter in Niedersachsen",
          "Väter in Niedersachsen",
          "Väter in Niedersachsen",
          "Väter in Niedersachsen",
          "Väter in Niedersachsen"
         ],
         "hovertemplate": "%{customdata}: bei %{y:.1f}% der geborenen Kinder<extra></extra>",
         "legendgroup": "Niedersachsen",
         "line": {
          "color": "#2ca02c",
          "dash": "dash"
         },
         "mode": "markers+lines",
         "name": "Niedersachsen",
         "showlegend": false,
         "type": "scatter",
         "visible": "legendonly",
         "x": [
          2009,
          2010,
          2011,
          2012,
          2013,
          2014,
          2015,
          2016,
          2017,
          2018,
          2019,
          2020,
          2021
         ],
         "y": [
          20.651475220158126,
          22.13052431490575,
          23.952349869451698,
          25.99141156185953,
          28.879276069912052,
          31.927837845977773,
          33.37004897072176,
          33.9799242172439,
          36.71459874007121,
          38.94666811491881,
          40.99418715716508,
          40.772271617264124,
          33.26487094621996
         ]
        },
        {
         "customdata": [
          "Mütter in Niedersachsen",
          "Mütter in Niedersachsen",
          "Mütter in Niedersachsen",
          "Mütter in Niedersachsen",
          "Mütter in Niedersachsen",
          "Mütter in Niedersachsen",
          "Mütter in Niedersachsen",
          "Mütter in Niedersachsen",
          "Mütter in Niedersachsen",
          "Mütter in Niedersachsen",
          "Mütter in Niedersachsen",
          "Mütter in Niedersachsen",
          "Mütter in Niedersachsen"
         ],
         "hovertemplate": "%{customdata}: bei %{y:.1f}% der geborenen Kinder<extra></extra>",
         "legendgroup": "Niedersachsen",
         "line": {
          "color": "#2ca02c",
          "dash": "solid"
         },
         "mode": "markers+lines",
         "name": "Niedersachsen",
         "showlegend": true,
         "type": "scatter",
         "visible": "legendonly",
         "x": [
          2009,
          2010,
          2011,
          2012,
          2013,
          2014,
          2015,
          2016,
          2017,
          2018,
          2019,
          2020,
          2021
         ],
         "y": [
          94.67763707655718,
          94.92792650087122,
          93.88381201044386,
          95.50245616318033,
          96.74931217099508,
          97.09965966930699,
          95.02255034755817,
          91.16532606527953,
          94.25225965488907,
          94.60707109107696,
          94.75343176049996,
          94.35907122330308,
          71.71805706361769
         ]
        },
        {
         "customdata": [
          "Väter in Nordrhein-Westfalen",
          "Väter in Nordrhein-Westfalen",
          "Väter in Nordrhein-Westfalen",
          "Väter in Nordrhein-Westfalen",
          "Väter in Nordrhein-Westfalen",
          "Väter in Nordrhein-Westfalen",
          "Väter in Nordrhein-Westfalen",
          "Väter in Nordrhein-Westfalen",
          "Väter in Nordrhein-Westfalen",
          "Väter in Nordrhein-Westfalen",
          "Väter in Nordrhein-Westfalen",
          "Väter in Nordrhein-Westfalen",
          "Väter in Nordrhein-Westfalen"
         ],
         "hovertemplate": "%{customdata}: bei %{y:.1f}% der geborenen Kinder<extra></extra>",
         "legendgroup": "Nordrhein-Westfalen",
         "line": {
          "color": "#9467bd",
          "dash": "dash"
         },
         "mode": "markers+lines",
         "name": "Nordrhein-Westfalen",
         "showlegend": false,
         "type": "scatter",
         "visible": "legendonly",
         "x": [
          2009,
          2010,
          2011,
          2012,
          2013,
          2014,
          2015,
          2016,
          2017,
          2018,
          2019,
          2020,
          2021
         ],
         "y": [
          17.68335987974819,
          18.71949936538318,
          19.71669566797347,
          20.85485918150321,
          24.92879925145304,
          26.76625704375185,
          27.53446169952888,
          29.13651211376202,
          31.32475476657034,
          33.221484262200406,
          34.52001572853026,
          35.12920641268422,
          28.53021335796472
         ]
        },
        {
         "customdata": [
          "Mütter in Nordrhein-Westfalen",
          "Mütter in Nordrhein-Westfalen",
          "Mütter in Nordrhein-Westfalen",
          "Mütter in Nordrhein-Westfalen",
          "Mütter in Nordrhein-Westfalen",
          "Mütter in Nordrhein-Westfalen",
          "Mütter in Nordrhein-Westfalen",
          "Mütter in Nordrhein-Westfalen",
          "Mütter in Nordrhein-Westfalen",
          "Mütter in Nordrhein-Westfalen",
          "Mütter in Nordrhein-Westfalen",
          "Mütter in Nordrhein-Westfalen",
          "Mütter in Nordrhein-Westfalen"
         ],
         "hovertemplate": "%{customdata}: bei %{y:.1f}% der geborenen Kinder<extra></extra>",
         "legendgroup": "Nordrhein-Westfalen",
         "line": {
          "color": "#9467bd",
          "dash": "solid"
         },
         "mode": "markers+lines",
         "name": "Nordrhein-Westfalen",
         "showlegend": true,
         "type": "scatter",
         "visible": "legendonly",
         "x": [
          2009,
          2010,
          2011,
          2012,
          2013,
          2014,
          2015,
          2016,
          2017,
          2018,
          2019,
          2020,
          2021
         ],
         "y": [
          93.97982472471023,
          93.89274636367956,
          92.53443468416529,
          92.89012383794724,
          95.21162160131679,
          94.818893373393,
          91.88000099708353,
          89.49063333217909,
          90.93959146174824,
          91.33583598036384,
          91.62749206237419,
          91.86652395346923,
          69.61159955754735
         ]
        },
        {
         "customdata": [
          "Väter in Rheinland-Pfalz",
          "Väter in Rheinland-Pfalz",
          "Väter in Rheinland-Pfalz",
          "Väter in Rheinland-Pfalz",
          "Väter in Rheinland-Pfalz",
          "Väter in Rheinland-Pfalz",
          "Väter in Rheinland-Pfalz",
          "Väter in Rheinland-Pfalz",
          "Väter in Rheinland-Pfalz",
          "Väter in Rheinland-Pfalz",
          "Väter in Rheinland-Pfalz",
          "Väter in Rheinland-Pfalz",
          "Väter in Rheinland-Pfalz"
         ],
         "hovertemplate": "%{customdata}: bei %{y:.1f}% der geborenen Kinder<extra></extra>",
         "legendgroup": "Rheinland-Pfalz",
         "line": {
          "color": "#e377c2",
          "dash": "dash"
         },
         "mode": "markers+lines",
         "name": "Rheinland-Pfalz",
         "showlegend": false,
         "type": "scatter",
         "visible": "legendonly",
         "x": [
          2009,
          2010,
          2011,
          2012,
          2013,
          2014,
          2015,
          2016,
          2017,
          2018,
          2019,
          2020,
          2021
         ],
         "y": [
          19.034357695670476,
          20.551719769430544,
          22.132492519545703,
          23.50412268600212,
          26.418456344368373,
          29.371466180034105,
          29.697247181365537,
          30.947811717042484,
          32.71105413561948,
          34.4728663638537,
          36.38393457617088,
          36.370642006802726,
          29.47706160892178
         ]
        },
        {
         "customdata": [
          "Mütter in Rheinland-Pfalz",
          "Mütter in Rheinland-Pfalz",
          "Mütter in Rheinland-Pfalz",
          "Mütter in Rheinland-Pfalz",
          "Mütter in Rheinland-Pfalz",
          "Mütter in Rheinland-Pfalz",
          "Mütter in Rheinland-Pfalz",
          "Mütter in Rheinland-Pfalz",
          "Mütter in Rheinland-Pfalz",
          "Mütter in Rheinland-Pfalz",
          "Mütter in Rheinland-Pfalz",
          "Mütter in Rheinland-Pfalz",
          "Mütter in Rheinland-Pfalz"
         ],
         "hovertemplate": "%{customdata}: bei %{y:.1f}% der geborenen Kinder<extra></extra>",
         "legendgroup": "Rheinland-Pfalz",
         "line": {
          "color": "#e377c2",
          "dash": "solid"
         },
         "mode": "markers+lines",
         "name": "Rheinland-Pfalz",
         "showlegend": true,
         "type": "scatter",
         "visible": "legendonly",
         "x": [
          2009,
          2010,
          2011,
          2012,
          2013,
          2014,
          2015,
          2016,
          2017,
          2018,
          2019,
          2020,
          2021
         ],
         "y": [
          93.93802014183478,
          94.35294862861848,
          93.33998262604163,
          93.21762007122462,
          95.51095689143143,
          95.41089538397104,
          92.68585818119384,
          91.6546724239032,
          92.7196004593649,
          92.67405105320478,
          91.9807387082022,
          92.15295493197279,
          70.61867674075607
         ]
        },
        {
         "customdata": [
          "Väter in Saarland",
          "Väter in Saarland",
          "Väter in Saarland",
          "Väter in Saarland",
          "Väter in Saarland",
          "Väter in Saarland",
          "Väter in Saarland",
          "Väter in Saarland",
          "Väter in Saarland",
          "Väter in Saarland",
          "Väter in Saarland",
          "Väter in Saarland",
          "Väter in Saarland"
         ],
         "hovertemplate": "%{customdata}: bei %{y:.1f}% der geborenen Kinder<extra></extra>",
         "legendgroup": "Saarland",
         "line": {
          "color": "#17becf",
          "dash": "dash"
         },
         "mode": "markers+lines",
         "name": "Saarland",
         "showlegend": false,
         "type": "scatter",
         "visible": "legendonly",
         "x": [
          2009,
          2010,
          2011,
          2012,
          2013,
          2014,
          2015,
          2016,
          2017,
          2018,
          2019,
          2020,
          2021
         ],
         "y": [
          14.176411144795727,
          15.496744975941127,
          17.50846501128668,
          18.188426868275663,
          20.414719626168225,
          23.512554585152838,
          24.164558647317268,
          27.35240413877054,
          27.090099843618432,
          27.92980733832372,
          30.939295528353732,
          32.532188841201716,
          25.530639165367553
         ]
        },
        {
         "customdata": [
          "Mütter in Saarland",
          "Mütter in Saarland",
          "Mütter in Saarland",
          "Mütter in Saarland",
          "Mütter in Saarland",
          "Mütter in Saarland",
          "Mütter in Saarland",
          "Mütter in Saarland",
          "Mütter in Saarland",
          "Mütter in Saarland",
          "Mütter in Saarland",
          "Mütter in Saarland",
          "Mütter in Saarland"
         ],
         "hovertemplate": "%{customdata}: bei %{y:.1f}% der geborenen Kinder<extra></extra>",
         "legendgroup": "Saarland",
         "line": {
          "color": "#17becf",
          "dash": "solid"
         },
         "mode": "markers+lines",
         "name": "Saarland",
         "showlegend": true,
         "type": "scatter",
         "visible": "legendonly",
         "x": [
          2009,
          2010,
          2011,
          2012,
          2013,
          2014,
          2015,
          2016,
          2017,
          2018,
          2019,
          2020,
          2021
         ],
         "y": [
          95.45257687310524,
          93.09368808378149,
          93.07279909706546,
          95.02762430939227,
          96.2178738317757,
          96.64301310043668,
          95.03395020636401,
          94.14485696895922,
          94.09358835558763,
          94.64965026383605,
          95.2535598301274,
          94.38381361128143,
          72.33481232761721
         ]
        },
        {
         "customdata": [
          "Väter in Sachsen",
          "Väter in Sachsen",
          "Väter in Sachsen",
          "Väter in Sachsen",
          "Väter in Sachsen",
          "Väter in Sachsen",
          "Väter in Sachsen",
          "Väter in Sachsen",
          "Väter in Sachsen",
          "Väter in Sachsen",
          "Väter in Sachsen",
          "Väter in Sachsen",
          "Väter in Sachsen"
         ],
         "hovertemplate": "%{customdata}: bei %{y:.1f}% der geborenen Kinder<extra></extra>",
         "legendgroup": "Sachsen",
         "line": {
          "color": "#ff9896",
          "dash": "dash"
         },
         "mode": "markers+lines",
         "name": "Sachsen",
         "showlegend": false,
         "type": "scatter",
         "visible": "legendonly",
         "x": [
          2009,
          2010,
          2011,
          2012,
          2013,
          2014,
          2015,
          2016,
          2017,
          2018,
          2019,
          2020,
          2021
         ],
         "y": [
          30.02669169624263,
          31.808725884129835,
          34.67449089271708,
          37.40990601395376,
          40.71264367816092,
          44.13802699318213,
          45.56024790215543,
          46.628887717448606,
          50.02850704531263,
          51.25661744218445,
          52.607926705517386,
          52.37695833208519,
          41.23448445372988
         ]
        },
        {
         "customdata": [
          "Mütter in Sachsen",
          "Mütter in Sachsen",
          "Mütter in Sachsen",
          "Mütter in Sachsen",
          "Mütter in Sachsen",
          "Mütter in Sachsen",
          "Mütter in Sachsen",
          "Mütter in Sachsen",
          "Mütter in Sachsen",
          "Mütter in Sachsen",
          "Mütter in Sachsen",
          "Mütter in Sachsen",
          "Mütter in Sachsen"
         ],
         "hovertemplate": "%{customdata}: bei %{y:.1f}% der geborenen Kinder<extra></extra>",
         "legendgroup": "Sachsen",
         "line": {
          "color": "#ff9896",
          "dash": "solid"
         },
         "mode": "markers+lines",
         "name": "Sachsen",
         "showlegend": true,
         "type": "scatter",
         "visible": "legendonly",
         "x": [
          2009,
          2010,
          2011,
          2012,
          2013,
          2014,
          2015,
          2016,
          2017,
          2018,
          2019,
          2020,
          2021
         ],
         "y": [
          96.42741911829408,
          96.49767746715682,
          95.83708566946518,
          96.52309289050336,
          97.5603448275862,
          97.64296646723251,
          95.37925739044589,
          93.98787559304165,
          95.53932614774794,
          95.11563109501255,
          95.25673364065989,
          95.33295389869096,
          72.7356519601819
         ]
        },
        {
         "customdata": [
          "Väter in Sachsen-Anhalt",
          "Väter in Sachsen-Anhalt",
          "Väter in Sachsen-Anhalt",
          "Väter in Sachsen-Anhalt",
          "Väter in Sachsen-Anhalt",
          "Väter in Sachsen-Anhalt",
          "Väter in Sachsen-Anhalt",
          "Väter in Sachsen-Anhalt",
          "Väter in Sachsen-Anhalt",
          "Väter in Sachsen-Anhalt",
          "Väter in Sachsen-Anhalt",
          "Väter in Sachsen-Anhalt",
          "Väter in Sachsen-Anhalt"
         ],
         "hovertemplate": "%{customdata}: bei %{y:.1f}% der geborenen Kinder<extra></extra>",
         "legendgroup": "Sachsen-Anhalt",
         "line": {
          "color": "#c5b0d5",
          "dash": "dash"
         },
         "mode": "markers+lines",
         "name": "Sachsen-Anhalt",
         "showlegend": false,
         "type": "scatter",
         "visible": "legendonly",
         "x": [
          2009,
          2010,
          2011,
          2012,
          2013,
          2014,
          2015,
          2016,
          2017,
          2018,
          2019,
          2020,
          2021
         ],
         "y": [
          18.490433971068594,
          18.947976878612714,
          21.001366039080597,
          22.033396494552346,
          25.302137286420194,
          27.678152836380686,
          30.071777203560153,
          32.99248286535486,
          35.118013118798004,
          36.73750717978174,
          37.88061138524492,
          38.39136101284677,
          30.79755366949576
         ]
        },
        {
         "customdata": [
          "Mütter in Sachsen-Anhalt",
          "Mütter in Sachsen-Anhalt",
          "Mütter in Sachsen-Anhalt",
          "Mütter in Sachsen-Anhalt",
          "Mütter in Sachsen-Anhalt",
          "Mütter in Sachsen-Anhalt",
          "Mütter in Sachsen-Anhalt",
          "Mütter in Sachsen-Anhalt",
          "Mütter in Sachsen-Anhalt",
          "Mütter in Sachsen-Anhalt",
          "Mütter in Sachsen-Anhalt",
          "Mütter in Sachsen-Anhalt",
          "Mütter in Sachsen-Anhalt"
         ],
         "hovertemplate": "%{customdata}: bei %{y:.1f}% der geborenen Kinder<extra></extra>",
         "legendgroup": "Sachsen-Anhalt",
         "line": {
          "color": "#c5b0d5",
          "dash": "solid"
         },
         "mode": "markers+lines",
         "name": "Sachsen-Anhalt",
         "showlegend": true,
         "type": "scatter",
         "visible": "legendonly",
         "x": [
          2009,
          2010,
          2011,
          2012,
          2013,
          2014,
          2015,
          2016,
          2017,
          2018,
          2019,
          2020,
          2021
         ],
         "y": [
          93.31544563695753,
          92.16763005780348,
          92.95598978440339,
          93.43320701089532,
          96.44579389176639,
          96.7065166432255,
          93.7008326155613,
          92.08489940305107,
          93.21074171665639,
          92.75129236071223,
          93.39872427488267,
          93.42146093216658,
          71.5052421367948
         ]
        },
        {
         "customdata": [
          "Väter in Schleswig-Holstein",
          "Väter in Schleswig-Holstein",
          "Väter in Schleswig-Holstein",
          "Väter in Schleswig-Holstein",
          "Väter in Schleswig-Holstein",
          "Väter in Schleswig-Holstein",
          "Väter in Schleswig-Holstein",
          "Väter in Schleswig-Holstein",
          "Väter in Schleswig-Holstein",
          "Väter in Schleswig-Holstein",
          "Väter in Schleswig-Holstein",
          "Väter in Schleswig-Holstein",
          "Väter in Schleswig-Holstein"
         ],
         "hovertemplate": "%{customdata}: bei %{y:.1f}% der geborenen Kinder<extra></extra>",
         "legendgroup": "Schleswig-Holstein",
         "line": {
          "color": "#1f77b4",
          "dash": "dash"
         },
         "mode": "markers+lines",
         "name": "Schleswig-Holstein",
         "showlegend": false,
         "type": "scatter",
         "visible": "legendonly",
         "x": [
          2009,
          2010,
          2011,
          2012,
          2013,
          2014,
          2015,
          2016,
          2017,
          2018,
          2019,
          2020,
          2021
         ],
         "y": [
          18.99831227477991,
          20.99831694569935,
          22.802494022783744,
          23.644626221313338,
          26.48703143616534,
          29.285306892466984,
          29.096776933203106,
          30.782848151062154,
          32.46628899704779,
          34.20510381993977,
          35.435849592341704,
          35.68997334426901,
          29.520120167602183
         ]
        },
        {
         "customdata": [
          "Mütter in Schleswig-Holstein",
          "Mütter in Schleswig-Holstein",
          "Mütter in Schleswig-Holstein",
          "Mütter in Schleswig-Holstein",
          "Mütter in Schleswig-Holstein",
          "Mütter in Schleswig-Holstein",
          "Mütter in Schleswig-Holstein",
          "Mütter in Schleswig-Holstein",
          "Mütter in Schleswig-Holstein",
          "Mütter in Schleswig-Holstein",
          "Mütter in Schleswig-Holstein",
          "Mütter in Schleswig-Holstein",
          "Mütter in Schleswig-Holstein"
         ],
         "hovertemplate": "%{customdata}: bei %{y:.1f}% der geborenen Kinder<extra></extra>",
         "legendgroup": "Schleswig-Holstein",
         "line": {
          "color": "#1f77b4",
          "dash": "solid"
         },
         "mode": "markers+lines",
         "name": "Schleswig-Holstein",
         "showlegend": true,
         "type": "scatter",
         "visible": "legendonly",
         "x": [
          2009,
          2010,
          2011,
          2012,
          2013,
          2014,
          2015,
          2016,
          2017,
          2018,
          2019,
          2020,
          2021
         ],
         "y": [
          95.26524654472472,
          94.7160953140225,
          93.91964746144109,
          94.77391501931379,
          96.06360553569792,
          96.60860790593603,
          92.90415728905687,
          89.61447678992918,
          91.48248623633607,
          91.35758440323347,
          91.50204843223948,
          92.56510149682182,
          70.90679105067595
         ]
        },
        {
         "customdata": [
          "Väter in Thüringen",
          "Väter in Thüringen",
          "Väter in Thüringen",
          "Väter in Thüringen",
          "Väter in Thüringen",
          "Väter in Thüringen",
          "Väter in Thüringen",
          "Väter in Thüringen",
          "Väter in Thüringen",
          "Väter in Thüringen",
          "Väter in Thüringen",
          "Väter in Thüringen",
          "Väter in Thüringen"
         ],
         "hovertemplate": "%{customdata}: bei %{y:.1f}% der geborenen Kinder<extra></extra>",
         "legendgroup": "Thüringen",
         "line": {
          "color": "#c49c94",
          "dash": "dash"
         },
         "mode": "markers+lines",
         "name": "Thüringen",
         "showlegend": false,
         "type": "scatter",
         "visible": "legendonly",
         "x": [
          2009,
          2010,
          2011,
          2012,
          2013,
          2014,
          2015,
          2016,
          2017,
          2018,
          2019,
          2020,
          2021
         ],
         "y": [
          27.589889640441438,
          28.38477777143835,
          31.183740408832662,
          33.61204013377927,
          36.69803741535637,
          40.35891988595069,
          41.65830266532843,
          43.150202976995935,
          45.46657842488418,
          47.08378734874118,
          47.87048717486634,
          47.68932524545056,
          38.791701892436755
         ]
        },
        {
         "customdata": [
          "Mütter in Thüringen",
          "Mütter in Thüringen",
          "Mütter in Thüringen",
          "Mütter in Thüringen",
          "Mütter in Thüringen",
          "Mütter in Thüringen",
          "Mütter in Thüringen",
          "Mütter in Thüringen",
          "Mütter in Thüringen",
          "Mütter in Thüringen",
          "Mütter in Thüringen",
          "Mütter in Thüringen",
          "Mütter in Thüringen"
         ],
         "hovertemplate": "%{customdata}: bei %{y:.1f}% der geborenen Kinder<extra></extra>",
         "legendgroup": "Thüringen",
         "line": {
          "color": "#c49c94",
          "dash": "solid"
         },
         "mode": "markers+lines",
         "name": "Thüringen",
         "showlegend": true,
         "type": "scatter",
         "visible": "legendonly",
         "x": [
          2009,
          2010,
          2011,
          2012,
          2013,
          2014,
          2015,
          2016,
          2017,
          2018,
          2019,
          2020,
          2021
         ],
         "y": [
          96.52901388394446,
          96.38272379756947,
          96.44467873250161,
          96.74777995617576,
          98.21531045564099,
          97.55129423603735,
          95.1711832273893,
          94.40324763193505,
          94.60070593425988,
          95.26294660778804,
          94.89397489037063,
          95.47245325495591,
          74.34480067633478
         ]
        }
       ],
       "layout": {
        "height": 800,
        "hovermode": "x unified",
        "margin": {
         "b": 20,
         "l": 20,
         "r": 20,
         "t": 20
        },
        "template": {
         "data": {
          "bar": [
           {
            "error_x": {
             "color": "#2a3f5f"
            },
            "error_y": {
             "color": "#2a3f5f"
            },
            "marker": {
             "line": {
              "color": "#E5ECF6",
              "width": 0.5
             },
             "pattern": {
              "fillmode": "overlay",
              "size": 10,
              "solidity": 0.2
             }
            },
            "type": "bar"
           }
          ],
          "barpolar": [
           {
            "marker": {
             "line": {
              "color": "#E5ECF6",
              "width": 0.5
             },
             "pattern": {
              "fillmode": "overlay",
              "size": 10,
              "solidity": 0.2
             }
            },
            "type": "barpolar"
           }
          ],
          "carpet": [
           {
            "aaxis": {
             "endlinecolor": "#2a3f5f",
             "gridcolor": "white",
             "linecolor": "white",
             "minorgridcolor": "white",
             "startlinecolor": "#2a3f5f"
            },
            "baxis": {
             "endlinecolor": "#2a3f5f",
             "gridcolor": "white",
             "linecolor": "white",
             "minorgridcolor": "white",
             "startlinecolor": "#2a3f5f"
            },
            "type": "carpet"
           }
          ],
          "choropleth": [
           {
            "colorbar": {
             "outlinewidth": 0,
             "ticks": ""
            },
            "type": "choropleth"
           }
          ],
          "contour": [
           {
            "colorbar": {
             "outlinewidth": 0,
             "ticks": ""
            },
            "colorscale": [
             [
              0,
              "#0d0887"
             ],
             [
              0.1111111111111111,
              "#46039f"
             ],
             [
              0.2222222222222222,
              "#7201a8"
             ],
             [
              0.3333333333333333,
              "#9c179e"
             ],
             [
              0.4444444444444444,
              "#bd3786"
             ],
             [
              0.5555555555555556,
              "#d8576b"
             ],
             [
              0.6666666666666666,
              "#ed7953"
             ],
             [
              0.7777777777777778,
              "#fb9f3a"
             ],
             [
              0.8888888888888888,
              "#fdca26"
             ],
             [
              1,
              "#f0f921"
             ]
            ],
            "type": "contour"
           }
          ],
          "contourcarpet": [
           {
            "colorbar": {
             "outlinewidth": 0,
             "ticks": ""
            },
            "type": "contourcarpet"
           }
          ],
          "heatmap": [
           {
            "colorbar": {
             "outlinewidth": 0,
             "ticks": ""
            },
            "colorscale": [
             [
              0,
              "#0d0887"
             ],
             [
              0.1111111111111111,
              "#46039f"
             ],
             [
              0.2222222222222222,
              "#7201a8"
             ],
             [
              0.3333333333333333,
              "#9c179e"
             ],
             [
              0.4444444444444444,
              "#bd3786"
             ],
             [
              0.5555555555555556,
              "#d8576b"
             ],
             [
              0.6666666666666666,
              "#ed7953"
             ],
             [
              0.7777777777777778,
              "#fb9f3a"
             ],
             [
              0.8888888888888888,
              "#fdca26"
             ],
             [
              1,
              "#f0f921"
             ]
            ],
            "type": "heatmap"
           }
          ],
          "heatmapgl": [
           {
            "colorbar": {
             "outlinewidth": 0,
             "ticks": ""
            },
            "colorscale": [
             [
              0,
              "#0d0887"
             ],
             [
              0.1111111111111111,
              "#46039f"
             ],
             [
              0.2222222222222222,
              "#7201a8"
             ],
             [
              0.3333333333333333,
              "#9c179e"
             ],
             [
              0.4444444444444444,
              "#bd3786"
             ],
             [
              0.5555555555555556,
              "#d8576b"
             ],
             [
              0.6666666666666666,
              "#ed7953"
             ],
             [
              0.7777777777777778,
              "#fb9f3a"
             ],
             [
              0.8888888888888888,
              "#fdca26"
             ],
             [
              1,
              "#f0f921"
             ]
            ],
            "type": "heatmapgl"
           }
          ],
          "histogram": [
           {
            "marker": {
             "pattern": {
              "fillmode": "overlay",
              "size": 10,
              "solidity": 0.2
             }
            },
            "type": "histogram"
           }
          ],
          "histogram2d": [
           {
            "colorbar": {
             "outlinewidth": 0,
             "ticks": ""
            },
            "colorscale": [
             [
              0,
              "#0d0887"
             ],
             [
              0.1111111111111111,
              "#46039f"
             ],
             [
              0.2222222222222222,
              "#7201a8"
             ],
             [
              0.3333333333333333,
              "#9c179e"
             ],
             [
              0.4444444444444444,
              "#bd3786"
             ],
             [
              0.5555555555555556,
              "#d8576b"
             ],
             [
              0.6666666666666666,
              "#ed7953"
             ],
             [
              0.7777777777777778,
              "#fb9f3a"
             ],
             [
              0.8888888888888888,
              "#fdca26"
             ],
             [
              1,
              "#f0f921"
             ]
            ],
            "type": "histogram2d"
           }
          ],
          "histogram2dcontour": [
           {
            "colorbar": {
             "outlinewidth": 0,
             "ticks": ""
            },
            "colorscale": [
             [
              0,
              "#0d0887"
             ],
             [
              0.1111111111111111,
              "#46039f"
             ],
             [
              0.2222222222222222,
              "#7201a8"
             ],
             [
              0.3333333333333333,
              "#9c179e"
             ],
             [
              0.4444444444444444,
              "#bd3786"
             ],
             [
              0.5555555555555556,
              "#d8576b"
             ],
             [
              0.6666666666666666,
              "#ed7953"
             ],
             [
              0.7777777777777778,
              "#fb9f3a"
             ],
             [
              0.8888888888888888,
              "#fdca26"
             ],
             [
              1,
              "#f0f921"
             ]
            ],
            "type": "histogram2dcontour"
           }
          ],
          "mesh3d": [
           {
            "colorbar": {
             "outlinewidth": 0,
             "ticks": ""
            },
            "type": "mesh3d"
           }
          ],
          "parcoords": [
           {
            "line": {
             "colorbar": {
              "outlinewidth": 0,
              "ticks": ""
             }
            },
            "type": "parcoords"
           }
          ],
          "pie": [
           {
            "automargin": true,
            "type": "pie"
           }
          ],
          "scatter": [
           {
            "fillpattern": {
             "fillmode": "overlay",
             "size": 10,
             "solidity": 0.2
            },
            "type": "scatter"
           }
          ],
          "scatter3d": [
           {
            "line": {
             "colorbar": {
              "outlinewidth": 0,
              "ticks": ""
             }
            },
            "marker": {
             "colorbar": {
              "outlinewidth": 0,
              "ticks": ""
             }
            },
            "type": "scatter3d"
           }
          ],
          "scattercarpet": [
           {
            "marker": {
             "colorbar": {
              "outlinewidth": 0,
              "ticks": ""
             }
            },
            "type": "scattercarpet"
           }
          ],
          "scattergeo": [
           {
            "marker": {
             "colorbar": {
              "outlinewidth": 0,
              "ticks": ""
             }
            },
            "type": "scattergeo"
           }
          ],
          "scattergl": [
           {
            "marker": {
             "colorbar": {
              "outlinewidth": 0,
              "ticks": ""
             }
            },
            "type": "scattergl"
           }
          ],
          "scattermapbox": [
           {
            "marker": {
             "colorbar": {
              "outlinewidth": 0,
              "ticks": ""
             }
            },
            "type": "scattermapbox"
           }
          ],
          "scatterpolar": [
           {
            "marker": {
             "colorbar": {
              "outlinewidth": 0,
              "ticks": ""
             }
            },
            "type": "scatterpolar"
           }
          ],
          "scatterpolargl": [
           {
            "marker": {
             "colorbar": {
              "outlinewidth": 0,
              "ticks": ""
             }
            },
            "type": "scatterpolargl"
           }
          ],
          "scatterternary": [
           {
            "marker": {
             "colorbar": {
              "outlinewidth": 0,
              "ticks": ""
             }
            },
            "type": "scatterternary"
           }
          ],
          "surface": [
           {
            "colorbar": {
             "outlinewidth": 0,
             "ticks": ""
            },
            "colorscale": [
             [
              0,
              "#0d0887"
             ],
             [
              0.1111111111111111,
              "#46039f"
             ],
             [
              0.2222222222222222,
              "#7201a8"
             ],
             [
              0.3333333333333333,
              "#9c179e"
             ],
             [
              0.4444444444444444,
              "#bd3786"
             ],
             [
              0.5555555555555556,
              "#d8576b"
             ],
             [
              0.6666666666666666,
              "#ed7953"
             ],
             [
              0.7777777777777778,
              "#fb9f3a"
             ],
             [
              0.8888888888888888,
              "#fdca26"
             ],
             [
              1,
              "#f0f921"
             ]
            ],
            "type": "surface"
           }
          ],
          "table": [
           {
            "cells": {
             "fill": {
              "color": "#EBF0F8"
             },
             "line": {
              "color": "white"
             }
            },
            "header": {
             "fill": {
              "color": "#C8D4E3"
             },
             "line": {
              "color": "white"
             }
            },
            "type": "table"
           }
          ]
         },
         "layout": {
          "annotationdefaults": {
           "arrowcolor": "#2a3f5f",
           "arrowhead": 0,
           "arrowwidth": 1
          },
          "autotypenumbers": "strict",
          "coloraxis": {
           "colorbar": {
            "outlinewidth": 0,
            "ticks": ""
           }
          },
          "colorscale": {
           "diverging": [
            [
             0,
             "#8e0152"
            ],
            [
             0.1,
             "#c51b7d"
            ],
            [
             0.2,
             "#de77ae"
            ],
            [
             0.3,
             "#f1b6da"
            ],
            [
             0.4,
             "#fde0ef"
            ],
            [
             0.5,
             "#f7f7f7"
            ],
            [
             0.6,
             "#e6f5d0"
            ],
            [
             0.7,
             "#b8e186"
            ],
            [
             0.8,
             "#7fbc41"
            ],
            [
             0.9,
             "#4d9221"
            ],
            [
             1,
             "#276419"
            ]
           ],
           "sequential": [
            [
             0,
             "#0d0887"
            ],
            [
             0.1111111111111111,
             "#46039f"
            ],
            [
             0.2222222222222222,
             "#7201a8"
            ],
            [
             0.3333333333333333,
             "#9c179e"
            ],
            [
             0.4444444444444444,
             "#bd3786"
            ],
            [
             0.5555555555555556,
             "#d8576b"
            ],
            [
             0.6666666666666666,
             "#ed7953"
            ],
            [
             0.7777777777777778,
             "#fb9f3a"
            ],
            [
             0.8888888888888888,
             "#fdca26"
            ],
            [
             1,
             "#f0f921"
            ]
           ],
           "sequentialminus": [
            [
             0,
             "#0d0887"
            ],
            [
             0.1111111111111111,
             "#46039f"
            ],
            [
             0.2222222222222222,
             "#7201a8"
            ],
            [
             0.3333333333333333,
             "#9c179e"
            ],
            [
             0.4444444444444444,
             "#bd3786"
            ],
            [
             0.5555555555555556,
             "#d8576b"
            ],
            [
             0.6666666666666666,
             "#ed7953"
            ],
            [
             0.7777777777777778,
             "#fb9f3a"
            ],
            [
             0.8888888888888888,
             "#fdca26"
            ],
            [
             1,
             "#f0f921"
            ]
           ]
          },
          "colorway": [
           "#636efa",
           "#EF553B",
           "#00cc96",
           "#ab63fa",
           "#FFA15A",
           "#19d3f3",
           "#FF6692",
           "#B6E880",
           "#FF97FF",
           "#FECB52"
          ],
          "font": {
           "color": "#2a3f5f"
          },
          "geo": {
           "bgcolor": "white",
           "lakecolor": "white",
           "landcolor": "#E5ECF6",
           "showlakes": true,
           "showland": true,
           "subunitcolor": "white"
          },
          "hoverlabel": {
           "align": "left"
          },
          "hovermode": "closest",
          "mapbox": {
           "style": "light"
          },
          "paper_bgcolor": "white",
          "plot_bgcolor": "#E5ECF6",
          "polar": {
           "angularaxis": {
            "gridcolor": "white",
            "linecolor": "white",
            "ticks": ""
           },
           "bgcolor": "#E5ECF6",
           "radialaxis": {
            "gridcolor": "white",
            "linecolor": "white",
            "ticks": ""
           }
          },
          "scene": {
           "xaxis": {
            "backgroundcolor": "#E5ECF6",
            "gridcolor": "white",
            "gridwidth": 2,
            "linecolor": "white",
            "showbackground": true,
            "ticks": "",
            "zerolinecolor": "white"
           },
           "yaxis": {
            "backgroundcolor": "#E5ECF6",
            "gridcolor": "white",
            "gridwidth": 2,
            "linecolor": "white",
            "showbackground": true,
            "ticks": "",
            "zerolinecolor": "white"
           },
           "zaxis": {
            "backgroundcolor": "#E5ECF6",
            "gridcolor": "white",
            "gridwidth": 2,
            "linecolor": "white",
            "showbackground": true,
            "ticks": "",
            "zerolinecolor": "white"
           }
          },
          "shapedefaults": {
           "line": {
            "color": "#2a3f5f"
           }
          },
          "ternary": {
           "aaxis": {
            "gridcolor": "white",
            "linecolor": "white",
            "ticks": ""
           },
           "baxis": {
            "gridcolor": "white",
            "linecolor": "white",
            "ticks": ""
           },
           "bgcolor": "#E5ECF6",
           "caxis": {
            "gridcolor": "white",
            "linecolor": "white",
            "ticks": ""
           }
          },
          "title": {
           "x": 0.05
          },
          "xaxis": {
           "automargin": true,
           "gridcolor": "white",
           "linecolor": "white",
           "ticks": "",
           "title": {
            "standoff": 15
           },
           "zerolinecolor": "white",
           "zerolinewidth": 2
          },
          "yaxis": {
           "automargin": true,
           "gridcolor": "white",
           "linecolor": "white",
           "ticks": "",
           "title": {
            "standoff": 15
           },
           "zerolinecolor": "white",
           "zerolinewidth": 2
          }
         }
        },
        "width": 1000,
        "yaxis": {
         "range": [
          0,
          98.43287252062728
         ]
        }
       }
      }
     },
     "metadata": {},
     "output_type": "display_data"
    }
   ],
   "source": [
    "egb = pd.merge(\n",
    "    eg,\n",
    "    gb[[\"jahr\", \"land\", \"geburten\"]],\n",
    "    on=[\"jahr\", \"land\"],\n",
    "    how=\"left\"\n",
    ")\n",
    "egb[\"eg_rate\"] = egb.pers / egb.geburten * 100\n",
    "\n",
    "fig = go.Figure()\n",
    "\n",
    "for var, grp in egb.groupby([\"land\", \"fm\"]):\n",
    "    fig.add_trace(\n",
    "        go.Scatter(\n",
    "            x=grp.jahr,\n",
    "            y=grp.eg_rate,\n",
    "            mode=\"markers+lines\",\n",
    "            line=dict(\n",
    "                dash=fm_line[var[1]],\n",
    "                color=land_clr[var[0]]\n",
    "            ),\n",
    "            name=var[0],\n",
    "            showlegend=var[1]==\"weiblich\",\n",
    "            legendgroup=var[0],\n",
    "            visible=True if var[0] == \"Berlin\" else \"legendonly\",\n",
    "            customdata=grp.grp_display.values,\n",
    "            hovertemplate=\"%{customdata}: bei %{y:.1f}% der geborenen Kinder<extra></extra>\"\n",
    "        )\n",
    "    )\n",
    "\n",
    "fig.update_layout(\n",
    "    hovermode=\"x unified\",\n",
    "    width=1000,\n",
    "    height=800,\n",
    "    margin=dict(t=20, r=20, b=20, l=20),\n",
    "    yaxis=dict(range=[0, egb.eg_rate.max()])\n",
    ")\n",
    "\n",
    "fig.show()"
   ]
  },
  {
   "cell_type": "markdown",
   "metadata": {},
   "source": [
    "# Dauer des Bezugs ~ Steuerkraft\n",
    "\n",
    "## Teil 1: Dauer des Bezugs als Karte\n",
    "\n",
    "Daten liegen in Langform vor. Wir formen hin zu einer Zeile pro Kreis und Jahr."
   ]
  },
  {
   "cell_type": "code",
   "execution_count": 31,
   "metadata": {},
   "outputs": [
    {
     "data": {
      "text/html": [
       "<div>\n",
       "<style scoped>\n",
       "    .dataframe tbody tr th:only-of-type {\n",
       "        vertical-align: middle;\n",
       "    }\n",
       "\n",
       "    .dataframe tbody tr th {\n",
       "        vertical-align: top;\n",
       "    }\n",
       "\n",
       "    .dataframe thead th {\n",
       "        text-align: right;\n",
       "    }\n",
       "</style>\n",
       "<table border=\"1\" class=\"dataframe\">\n",
       "  <thead>\n",
       "    <tr style=\"text-align: right;\">\n",
       "      <th></th>\n",
       "      <th>jahr</th>\n",
       "      <th>krs</th>\n",
       "      <th>fm</th>\n",
       "      <th>egplus</th>\n",
       "      <th>monate</th>\n",
       "    </tr>\n",
       "  </thead>\n",
       "  <tbody>\n",
       "    <tr>\n",
       "      <th>18</th>\n",
       "      <td>2016</td>\n",
       "      <td>Ahrweiler, Landkreis</td>\n",
       "      <td>Insgesamt</td>\n",
       "      <td>Insgesamt</td>\n",
       "      <td>12.0</td>\n",
       "    </tr>\n",
       "    <tr>\n",
       "      <th>19</th>\n",
       "      <td>2016</td>\n",
       "      <td>Ahrweiler, Landkreis</td>\n",
       "      <td>Insgesamt</td>\n",
       "      <td>Mit Elterngeld Plus</td>\n",
       "      <td>19.5</td>\n",
       "    </tr>\n",
       "    <tr>\n",
       "      <th>20</th>\n",
       "      <td>2016</td>\n",
       "      <td>Ahrweiler, Landkreis</td>\n",
       "      <td>Insgesamt</td>\n",
       "      <td>Ohne Elterngeld Plus</td>\n",
       "      <td>9.7</td>\n",
       "    </tr>\n",
       "    <tr>\n",
       "      <th>21</th>\n",
       "      <td>2016</td>\n",
       "      <td>Ahrweiler, Landkreis</td>\n",
       "      <td>männlich</td>\n",
       "      <td>Insgesamt</td>\n",
       "      <td>3.3</td>\n",
       "    </tr>\n",
       "    <tr>\n",
       "      <th>22</th>\n",
       "      <td>2016</td>\n",
       "      <td>Ahrweiler, Landkreis</td>\n",
       "      <td>männlich</td>\n",
       "      <td>Mit Elterngeld Plus</td>\n",
       "      <td>7.4</td>\n",
       "    </tr>\n",
       "    <tr>\n",
       "      <th>...</th>\n",
       "      <td>...</td>\n",
       "      <td>...</td>\n",
       "      <td>...</td>\n",
       "      <td>...</td>\n",
       "      <td>...</td>\n",
       "    </tr>\n",
       "    <tr>\n",
       "      <th>34247</th>\n",
       "      <td>2023</td>\n",
       "      <td>Zwickau, Landkreis</td>\n",
       "      <td>Insgesamt</td>\n",
       "      <td>Ohne Elterngeld Plus</td>\n",
       "      <td>8.0</td>\n",
       "    </tr>\n",
       "    <tr>\n",
       "      <th>34249</th>\n",
       "      <td>2023</td>\n",
       "      <td>Zwickau, Landkreis</td>\n",
       "      <td>männlich</td>\n",
       "      <td>Mit Elterngeld Plus</td>\n",
       "      <td>6.5</td>\n",
       "    </tr>\n",
       "    <tr>\n",
       "      <th>34251</th>\n",
       "      <td>2023</td>\n",
       "      <td>Zwickau, Landkreis</td>\n",
       "      <td>weiblich</td>\n",
       "      <td>Insgesamt</td>\n",
       "      <td>14.5</td>\n",
       "    </tr>\n",
       "    <tr>\n",
       "      <th>34252</th>\n",
       "      <td>2023</td>\n",
       "      <td>Zwickau, Landkreis</td>\n",
       "      <td>weiblich</td>\n",
       "      <td>Mit Elterngeld Plus</td>\n",
       "      <td>17.8</td>\n",
       "    </tr>\n",
       "    <tr>\n",
       "      <th>34253</th>\n",
       "      <td>2023</td>\n",
       "      <td>Zwickau, Landkreis</td>\n",
       "      <td>weiblich</td>\n",
       "      <td>Ohne Elterngeld Plus</td>\n",
       "      <td>11.7</td>\n",
       "    </tr>\n",
       "  </tbody>\n",
       "</table>\n",
       "<p>26756 rows × 5 columns</p>\n",
       "</div>"
      ],
      "text/plain": [
       "       jahr                   krs         fm                egplus  monate\n",
       "18     2016  Ahrweiler, Landkreis  Insgesamt             Insgesamt    12.0\n",
       "19     2016  Ahrweiler, Landkreis  Insgesamt   Mit Elterngeld Plus    19.5\n",
       "20     2016  Ahrweiler, Landkreis  Insgesamt  Ohne Elterngeld Plus     9.7\n",
       "21     2016  Ahrweiler, Landkreis   männlich             Insgesamt     3.3\n",
       "22     2016  Ahrweiler, Landkreis   männlich   Mit Elterngeld Plus     7.4\n",
       "...     ...                   ...        ...                   ...     ...\n",
       "34247  2023    Zwickau, Landkreis  Insgesamt  Ohne Elterngeld Plus     8.0\n",
       "34249  2023    Zwickau, Landkreis   männlich   Mit Elterngeld Plus     6.5\n",
       "34251  2023    Zwickau, Landkreis   weiblich             Insgesamt    14.5\n",
       "34252  2023    Zwickau, Landkreis   weiblich   Mit Elterngeld Plus    17.8\n",
       "34253  2023    Zwickau, Landkreis   weiblich  Ohne Elterngeld Plus    11.7\n",
       "\n",
       "[26756 rows x 5 columns]"
      ]
     },
     "execution_count": 31,
     "metadata": {},
     "output_type": "execute_result"
    }
   ],
   "source": [
    "df_dauer_krs = pd.read_parquet(destatis_sources[\"eg_dauer\"][\"processed_file\"])\n",
    "\n",
    "# viele heute eingestellte Kreise mit fehlenden Daten; entfernen:\n",
    "df_dauer_krs = df_dauer_krs.dropna(subset=\"monate\")\n",
    "\n",
    "df_dauer_krs"
   ]
  },
  {
   "cell_type": "code",
   "execution_count": 32,
   "metadata": {},
   "outputs": [
    {
     "data": {
      "text/html": [
       "<div>\n",
       "<style scoped>\n",
       "    .dataframe tbody tr th:only-of-type {\n",
       "        vertical-align: middle;\n",
       "    }\n",
       "\n",
       "    .dataframe tbody tr th {\n",
       "        vertical-align: top;\n",
       "    }\n",
       "\n",
       "    .dataframe thead tr th {\n",
       "        text-align: left;\n",
       "    }\n",
       "</style>\n",
       "<table border=\"1\" class=\"dataframe\">\n",
       "  <thead>\n",
       "    <tr>\n",
       "      <th>fm</th>\n",
       "      <th>jahr</th>\n",
       "      <th>krs</th>\n",
       "      <th colspan=\"3\" halign=\"left\">Insgesamt</th>\n",
       "      <th colspan=\"3\" halign=\"left\">männlich</th>\n",
       "      <th colspan=\"3\" halign=\"left\">weiblich</th>\n",
       "    </tr>\n",
       "    <tr>\n",
       "      <th>egplus</th>\n",
       "      <th></th>\n",
       "      <th></th>\n",
       "      <th>Insgesamt</th>\n",
       "      <th>Mit Elterngeld Plus</th>\n",
       "      <th>Ohne Elterngeld Plus</th>\n",
       "      <th>Insgesamt</th>\n",
       "      <th>Mit Elterngeld Plus</th>\n",
       "      <th>Ohne Elterngeld Plus</th>\n",
       "      <th>Insgesamt</th>\n",
       "      <th>Mit Elterngeld Plus</th>\n",
       "      <th>Ohne Elterngeld Plus</th>\n",
       "    </tr>\n",
       "  </thead>\n",
       "  <tbody>\n",
       "    <tr>\n",
       "      <th>0</th>\n",
       "      <td>2016</td>\n",
       "      <td>Ahrweiler, Landkreis</td>\n",
       "      <td>12.0</td>\n",
       "      <td>19.5</td>\n",
       "      <td>9.7</td>\n",
       "      <td>3.3</td>\n",
       "      <td>7.4</td>\n",
       "      <td>2.7</td>\n",
       "      <td>14.0</td>\n",
       "      <td>20.8</td>\n",
       "      <td>11.7</td>\n",
       "    </tr>\n",
       "    <tr>\n",
       "      <th>1</th>\n",
       "      <td>2016</td>\n",
       "      <td>Aichach-Friedberg, Landkreis</td>\n",
       "      <td>10.3</td>\n",
       "      <td>18.5</td>\n",
       "      <td>9.0</td>\n",
       "      <td>3.2</td>\n",
       "      <td>9.0</td>\n",
       "      <td>2.8</td>\n",
       "      <td>13.0</td>\n",
       "      <td>20.1</td>\n",
       "      <td>11.6</td>\n",
       "    </tr>\n",
       "    <tr>\n",
       "      <th>2</th>\n",
       "      <td>2016</td>\n",
       "      <td>Alb-Donau-Kreis</td>\n",
       "      <td>10.4</td>\n",
       "      <td>18.8</td>\n",
       "      <td>8.9</td>\n",
       "      <td>2.8</td>\n",
       "      <td>7.9</td>\n",
       "      <td>2.5</td>\n",
       "      <td>13.3</td>\n",
       "      <td>20.3</td>\n",
       "      <td>11.7</td>\n",
       "    </tr>\n",
       "    <tr>\n",
       "      <th>3</th>\n",
       "      <td>2016</td>\n",
       "      <td>Altenburger Land, Landkreis</td>\n",
       "      <td>11.9</td>\n",
       "      <td>18.6</td>\n",
       "      <td>9.3</td>\n",
       "      <td>3.2</td>\n",
       "      <td>8.0</td>\n",
       "      <td>2.9</td>\n",
       "      <td>14.3</td>\n",
       "      <td>19.1</td>\n",
       "      <td>11.8</td>\n",
       "    </tr>\n",
       "    <tr>\n",
       "      <th>4</th>\n",
       "      <td>2016</td>\n",
       "      <td>Altenkirchen (Westerwald), Landkreis</td>\n",
       "      <td>13.1</td>\n",
       "      <td>20.9</td>\n",
       "      <td>9.7</td>\n",
       "      <td>3.4</td>\n",
       "      <td>10.4</td>\n",
       "      <td>2.7</td>\n",
       "      <td>15.1</td>\n",
       "      <td>21.4</td>\n",
       "      <td>11.8</td>\n",
       "    </tr>\n",
       "    <tr>\n",
       "      <th>...</th>\n",
       "      <td>...</td>\n",
       "      <td>...</td>\n",
       "      <td>...</td>\n",
       "      <td>...</td>\n",
       "      <td>...</td>\n",
       "      <td>...</td>\n",
       "      <td>...</td>\n",
       "      <td>...</td>\n",
       "      <td>...</td>\n",
       "      <td>...</td>\n",
       "      <td>...</td>\n",
       "    </tr>\n",
       "    <tr>\n",
       "      <th>3203</th>\n",
       "      <td>2023</td>\n",
       "      <td>Würzburg, Landkreis</td>\n",
       "      <td>10.9</td>\n",
       "      <td>17.5</td>\n",
       "      <td>8.0</td>\n",
       "      <td>3.2</td>\n",
       "      <td>8.1</td>\n",
       "      <td>&lt;NA&gt;</td>\n",
       "      <td>14.5</td>\n",
       "      <td>19.2</td>\n",
       "      <td>11.7</td>\n",
       "    </tr>\n",
       "    <tr>\n",
       "      <th>3204</th>\n",
       "      <td>2023</td>\n",
       "      <td>Würzburg, kreisfreie Stadt</td>\n",
       "      <td>10.7</td>\n",
       "      <td>16.5</td>\n",
       "      <td>8.5</td>\n",
       "      <td>4.0</td>\n",
       "      <td>8.4</td>\n",
       "      <td>&lt;NA&gt;</td>\n",
       "      <td>13.7</td>\n",
       "      <td>18.6</td>\n",
       "      <td>11.4</td>\n",
       "    </tr>\n",
       "    <tr>\n",
       "      <th>3205</th>\n",
       "      <td>2023</td>\n",
       "      <td>Zollernalbkreis</td>\n",
       "      <td>12.2</td>\n",
       "      <td>18.9</td>\n",
       "      <td>8.1</td>\n",
       "      <td>&lt;NA&gt;</td>\n",
       "      <td>7.2</td>\n",
       "      <td>&lt;NA&gt;</td>\n",
       "      <td>15.7</td>\n",
       "      <td>20.1</td>\n",
       "      <td>11.6</td>\n",
       "    </tr>\n",
       "    <tr>\n",
       "      <th>3206</th>\n",
       "      <td>2023</td>\n",
       "      <td>Zweibrücken, kreisfreie Stadt</td>\n",
       "      <td>13.4</td>\n",
       "      <td>19.9</td>\n",
       "      <td>9.3</td>\n",
       "      <td>3.2</td>\n",
       "      <td>5.7</td>\n",
       "      <td>&lt;NA&gt;</td>\n",
       "      <td>15.4</td>\n",
       "      <td>20.5</td>\n",
       "      <td>11.4</td>\n",
       "    </tr>\n",
       "    <tr>\n",
       "      <th>3207</th>\n",
       "      <td>2023</td>\n",
       "      <td>Zwickau, Landkreis</td>\n",
       "      <td>11.1</td>\n",
       "      <td>16.5</td>\n",
       "      <td>8.0</td>\n",
       "      <td>&lt;NA&gt;</td>\n",
       "      <td>6.5</td>\n",
       "      <td>&lt;NA&gt;</td>\n",
       "      <td>14.5</td>\n",
       "      <td>17.8</td>\n",
       "      <td>11.7</td>\n",
       "    </tr>\n",
       "  </tbody>\n",
       "</table>\n",
       "<p>3208 rows × 11 columns</p>\n",
       "</div>"
      ],
      "text/plain": [
       "fm      jahr                                   krs Insgesamt  \\\n",
       "egplus                                             Insgesamt   \n",
       "0       2016                  Ahrweiler, Landkreis      12.0   \n",
       "1       2016          Aichach-Friedberg, Landkreis      10.3   \n",
       "2       2016                       Alb-Donau-Kreis      10.4   \n",
       "3       2016           Altenburger Land, Landkreis      11.9   \n",
       "4       2016  Altenkirchen (Westerwald), Landkreis      13.1   \n",
       "...      ...                                   ...       ...   \n",
       "3203    2023                   Würzburg, Landkreis      10.9   \n",
       "3204    2023            Würzburg, kreisfreie Stadt      10.7   \n",
       "3205    2023                       Zollernalbkreis      12.2   \n",
       "3206    2023         Zweibrücken, kreisfreie Stadt      13.4   \n",
       "3207    2023                    Zwickau, Landkreis      11.1   \n",
       "\n",
       "fm                                               männlich                      \\\n",
       "egplus Mit Elterngeld Plus Ohne Elterngeld Plus Insgesamt Mit Elterngeld Plus   \n",
       "0                     19.5                  9.7       3.3                 7.4   \n",
       "1                     18.5                  9.0       3.2                 9.0   \n",
       "2                     18.8                  8.9       2.8                 7.9   \n",
       "3                     18.6                  9.3       3.2                 8.0   \n",
       "4                     20.9                  9.7       3.4                10.4   \n",
       "...                    ...                  ...       ...                 ...   \n",
       "3203                  17.5                  8.0       3.2                 8.1   \n",
       "3204                  16.5                  8.5       4.0                 8.4   \n",
       "3205                  18.9                  8.1      <NA>                 7.2   \n",
       "3206                  19.9                  9.3       3.2                 5.7   \n",
       "3207                  16.5                  8.0      <NA>                 6.5   \n",
       "\n",
       "fm                           weiblich                                           \n",
       "egplus Ohne Elterngeld Plus Insgesamt Mit Elterngeld Plus Ohne Elterngeld Plus  \n",
       "0                       2.7      14.0                20.8                 11.7  \n",
       "1                       2.8      13.0                20.1                 11.6  \n",
       "2                       2.5      13.3                20.3                 11.7  \n",
       "3                       2.9      14.3                19.1                 11.8  \n",
       "4                       2.7      15.1                21.4                 11.8  \n",
       "...                     ...       ...                 ...                  ...  \n",
       "3203                   <NA>      14.5                19.2                 11.7  \n",
       "3204                   <NA>      13.7                18.6                 11.4  \n",
       "3205                   <NA>      15.7                20.1                 11.6  \n",
       "3206                   <NA>      15.4                20.5                 11.4  \n",
       "3207                   <NA>      14.5                17.8                 11.7  \n",
       "\n",
       "[3208 rows x 11 columns]"
      ]
     },
     "execution_count": 32,
     "metadata": {},
     "output_type": "execute_result"
    }
   ],
   "source": [
    "# Geschlecht und EG-Plus zu Spalten machen:\n",
    "dd_piv = df_dauer_krs.pivot(index=[\"jahr\", \"krs\"], columns=[\"fm\", \"egplus\"], values=\"monate\").reset_index()\n",
    "dd_piv"
   ]
  },
  {
   "cell_type": "markdown",
   "metadata": {},
   "source": [
    "Hier wird etwas klarer, was für Daten fehlen (Zahl der Kreise ist 401):"
   ]
  },
  {
   "cell_type": "code",
   "execution_count": 33,
   "metadata": {},
   "outputs": [
    {
     "data": {
      "text/html": [
       "<div>\n",
       "<style scoped>\n",
       "    .dataframe tbody tr th:only-of-type {\n",
       "        vertical-align: middle;\n",
       "    }\n",
       "\n",
       "    .dataframe tbody tr th {\n",
       "        vertical-align: top;\n",
       "    }\n",
       "\n",
       "    .dataframe thead tr th {\n",
       "        text-align: left;\n",
       "    }\n",
       "\n",
       "    .dataframe thead tr:last-of-type th {\n",
       "        text-align: right;\n",
       "    }\n",
       "</style>\n",
       "<table border=\"1\" class=\"dataframe\">\n",
       "  <thead>\n",
       "    <tr>\n",
       "      <th>fm</th>\n",
       "      <th>krs</th>\n",
       "      <th colspan=\"3\" halign=\"left\">Insgesamt</th>\n",
       "      <th colspan=\"3\" halign=\"left\">männlich</th>\n",
       "      <th colspan=\"3\" halign=\"left\">weiblich</th>\n",
       "    </tr>\n",
       "    <tr>\n",
       "      <th>egplus</th>\n",
       "      <th></th>\n",
       "      <th>Insgesamt</th>\n",
       "      <th>Mit Elterngeld Plus</th>\n",
       "      <th>Ohne Elterngeld Plus</th>\n",
       "      <th>Insgesamt</th>\n",
       "      <th>Mit Elterngeld Plus</th>\n",
       "      <th>Ohne Elterngeld Plus</th>\n",
       "      <th>Insgesamt</th>\n",
       "      <th>Mit Elterngeld Plus</th>\n",
       "      <th>Ohne Elterngeld Plus</th>\n",
       "    </tr>\n",
       "    <tr>\n",
       "      <th>jahr</th>\n",
       "      <th></th>\n",
       "      <th></th>\n",
       "      <th></th>\n",
       "      <th></th>\n",
       "      <th></th>\n",
       "      <th></th>\n",
       "      <th></th>\n",
       "      <th></th>\n",
       "      <th></th>\n",
       "      <th></th>\n",
       "    </tr>\n",
       "  </thead>\n",
       "  <tbody>\n",
       "    <tr>\n",
       "      <th>2016</th>\n",
       "      <td>0</td>\n",
       "      <td>0</td>\n",
       "      <td>0</td>\n",
       "      <td>0</td>\n",
       "      <td>0</td>\n",
       "      <td>0</td>\n",
       "      <td>0</td>\n",
       "      <td>0</td>\n",
       "      <td>0</td>\n",
       "      <td>0</td>\n",
       "    </tr>\n",
       "    <tr>\n",
       "      <th>2017</th>\n",
       "      <td>0</td>\n",
       "      <td>0</td>\n",
       "      <td>0</td>\n",
       "      <td>0</td>\n",
       "      <td>0</td>\n",
       "      <td>0</td>\n",
       "      <td>0</td>\n",
       "      <td>0</td>\n",
       "      <td>0</td>\n",
       "      <td>0</td>\n",
       "    </tr>\n",
       "    <tr>\n",
       "      <th>2018</th>\n",
       "      <td>0</td>\n",
       "      <td>0</td>\n",
       "      <td>0</td>\n",
       "      <td>0</td>\n",
       "      <td>0</td>\n",
       "      <td>0</td>\n",
       "      <td>0</td>\n",
       "      <td>0</td>\n",
       "      <td>0</td>\n",
       "      <td>0</td>\n",
       "    </tr>\n",
       "    <tr>\n",
       "      <th>2019</th>\n",
       "      <td>0</td>\n",
       "      <td>0</td>\n",
       "      <td>0</td>\n",
       "      <td>0</td>\n",
       "      <td>110</td>\n",
       "      <td>0</td>\n",
       "      <td>303</td>\n",
       "      <td>0</td>\n",
       "      <td>0</td>\n",
       "      <td>0</td>\n",
       "    </tr>\n",
       "    <tr>\n",
       "      <th>2020</th>\n",
       "      <td>0</td>\n",
       "      <td>0</td>\n",
       "      <td>0</td>\n",
       "      <td>0</td>\n",
       "      <td>105</td>\n",
       "      <td>0</td>\n",
       "      <td>321</td>\n",
       "      <td>0</td>\n",
       "      <td>0</td>\n",
       "      <td>0</td>\n",
       "    </tr>\n",
       "    <tr>\n",
       "      <th>2021</th>\n",
       "      <td>0</td>\n",
       "      <td>0</td>\n",
       "      <td>0</td>\n",
       "      <td>0</td>\n",
       "      <td>102</td>\n",
       "      <td>0</td>\n",
       "      <td>331</td>\n",
       "      <td>0</td>\n",
       "      <td>0</td>\n",
       "      <td>0</td>\n",
       "    </tr>\n",
       "    <tr>\n",
       "      <th>2022</th>\n",
       "      <td>0</td>\n",
       "      <td>0</td>\n",
       "      <td>0</td>\n",
       "      <td>0</td>\n",
       "      <td>94</td>\n",
       "      <td>0</td>\n",
       "      <td>340</td>\n",
       "      <td>0</td>\n",
       "      <td>0</td>\n",
       "      <td>0</td>\n",
       "    </tr>\n",
       "    <tr>\n",
       "      <th>2023</th>\n",
       "      <td>0</td>\n",
       "      <td>0</td>\n",
       "      <td>0</td>\n",
       "      <td>0</td>\n",
       "      <td>71</td>\n",
       "      <td>0</td>\n",
       "      <td>339</td>\n",
       "      <td>0</td>\n",
       "      <td>0</td>\n",
       "      <td>0</td>\n",
       "    </tr>\n",
       "  </tbody>\n",
       "</table>\n",
       "</div>"
      ],
      "text/plain": [
       "fm     krs Insgesamt                                           männlich  \\\n",
       "egplus     Insgesamt Mit Elterngeld Plus Ohne Elterngeld Plus Insgesamt   \n",
       "jahr                                                                      \n",
       "2016     0         0                   0                    0         0   \n",
       "2017     0         0                   0                    0         0   \n",
       "2018     0         0                   0                    0         0   \n",
       "2019     0         0                   0                    0       110   \n",
       "2020     0         0                   0                    0       105   \n",
       "2021     0         0                   0                    0       102   \n",
       "2022     0         0                   0                    0        94   \n",
       "2023     0         0                   0                    0        71   \n",
       "\n",
       "fm                                               weiblich                      \\\n",
       "egplus Mit Elterngeld Plus Ohne Elterngeld Plus Insgesamt Mit Elterngeld Plus   \n",
       "jahr                                                                            \n",
       "2016                     0                    0         0                   0   \n",
       "2017                     0                    0         0                   0   \n",
       "2018                     0                    0         0                   0   \n",
       "2019                     0                  303         0                   0   \n",
       "2020                     0                  321         0                   0   \n",
       "2021                     0                  331         0                   0   \n",
       "2022                     0                  340         0                   0   \n",
       "2023                     0                  339         0                   0   \n",
       "\n",
       "fm                           \n",
       "egplus Ohne Elterngeld Plus  \n",
       "jahr                         \n",
       "2016                      0  \n",
       "2017                      0  \n",
       "2018                      0  \n",
       "2019                      0  \n",
       "2020                      0  \n",
       "2021                      0  \n",
       "2022                      0  \n",
       "2023                      0  "
      ]
     },
     "execution_count": 33,
     "metadata": {},
     "output_type": "execute_result"
    }
   ],
   "source": [
    "dd_piv.set_index(\"jahr\").isna().groupby(\"jahr\").agg(\"sum\")"
   ]
  },
  {
   "cell_type": "markdown",
   "metadata": {},
   "source": [
    "Ab 2019 fehlen die Daten zu den Vätern in beträchtlichem Maße - ein Viertel der Gesamtwerte und 75% der Werte ohne EG-Plus.\n",
    "Scheint als wären wir da bei den Vätern auf die mit EG Plus angewiesen."
   ]
  },
  {
   "cell_type": "markdown",
   "metadata": {},
   "source": [
    "Wir matchen die EG-Daten auf Kreisebene mit Geodaten aus der VG250 des Bundesamts für Kartografie und Geodäsie. Warum? Weil wir nur so die Benennungen der Kreise im EG-Datensatz mit tatsächlichen Entitäten verbinden können, die eindeutig identifiziert sind und für die es z.B. Geometriedaten gibt. Die Benennung der Kreise im EG-Datensatz ist zudem etwas unsauber und das wollen wir korrigieren."
   ]
  },
  {
   "cell_type": "code",
   "execution_count": 34,
   "metadata": {},
   "outputs": [
    {
     "data": {
      "text/html": [
       "<div>\n",
       "<style scoped>\n",
       "    .dataframe tbody tr th:only-of-type {\n",
       "        vertical-align: middle;\n",
       "    }\n",
       "\n",
       "    .dataframe tbody tr th {\n",
       "        vertical-align: top;\n",
       "    }\n",
       "\n",
       "    .dataframe thead th {\n",
       "        text-align: right;\n",
       "    }\n",
       "</style>\n",
       "<table border=\"1\" class=\"dataframe\">\n",
       "  <thead>\n",
       "    <tr style=\"text-align: right;\">\n",
       "      <th></th>\n",
       "      <th>ags</th>\n",
       "      <th>gen</th>\n",
       "      <th>bez</th>\n",
       "      <th>ewz</th>\n",
       "      <th>geom</th>\n",
       "      <th>krs</th>\n",
       "    </tr>\n",
       "  </thead>\n",
       "  <tbody>\n",
       "    <tr>\n",
       "      <th>0</th>\n",
       "      <td>01001000</td>\n",
       "      <td>Flensburg</td>\n",
       "      <td>kreisfreie Stadt</td>\n",
       "      <td>91113</td>\n",
       "      <td>MULTIPOLYGON (((9.41266 54.82264, 9.41318 54.8...</td>\n",
       "      <td>Flensburg, kreisfreie Stadt</td>\n",
       "    </tr>\n",
       "    <tr>\n",
       "      <th>1</th>\n",
       "      <td>01002000</td>\n",
       "      <td>Kiel</td>\n",
       "      <td>kreisfreie Stadt</td>\n",
       "      <td>246243</td>\n",
       "      <td>MULTIPOLYGON (((10.16916 54.43138, 10.16957 54...</td>\n",
       "      <td>Kiel, kreisfreie Stadt</td>\n",
       "    </tr>\n",
       "    <tr>\n",
       "      <th>2</th>\n",
       "      <td>01003000</td>\n",
       "      <td>Lübeck</td>\n",
       "      <td>kreisfreie Stadt</td>\n",
       "      <td>216277</td>\n",
       "      <td>MULTIPOLYGON (((10.87684 53.98737, 10.87884 53...</td>\n",
       "      <td>Lübeck, kreisfreie Stadt</td>\n",
       "    </tr>\n",
       "    <tr>\n",
       "      <th>3</th>\n",
       "      <td>01004000</td>\n",
       "      <td>Neumünster</td>\n",
       "      <td>kreisfreie Stadt</td>\n",
       "      <td>79496</td>\n",
       "      <td>MULTIPOLYGON (((9.99545 54.14972, 9.99713 54.1...</td>\n",
       "      <td>Neumünster, kreisfreie Stadt</td>\n",
       "    </tr>\n",
       "    <tr>\n",
       "      <th>4</th>\n",
       "      <td>01051000</td>\n",
       "      <td>Dithmarschen</td>\n",
       "      <td>Kreis</td>\n",
       "      <td>133969</td>\n",
       "      <td>MULTIPOLYGON (((9.07777 54.36249, 9.07916 54.3...</td>\n",
       "      <td>Dithmarschen, Kreis</td>\n",
       "    </tr>\n",
       "    <tr>\n",
       "      <th>...</th>\n",
       "      <td>...</td>\n",
       "      <td>...</td>\n",
       "      <td>...</td>\n",
       "      <td>...</td>\n",
       "      <td>...</td>\n",
       "      <td>...</td>\n",
       "    </tr>\n",
       "    <tr>\n",
       "      <th>395</th>\n",
       "      <td>16073000</td>\n",
       "      <td>Saalfeld-Rudolstadt</td>\n",
       "      <td>Landkreis</td>\n",
       "      <td>100969</td>\n",
       "      <td>MULTIPOLYGON (((11.26298 50.83328, 11.26504 50...</td>\n",
       "      <td>Saalfeld-Rudolstadt, Landkreis</td>\n",
       "    </tr>\n",
       "    <tr>\n",
       "      <th>396</th>\n",
       "      <td>16074000</td>\n",
       "      <td>Saale-Holzland-Kreis</td>\n",
       "      <td>Landkreis</td>\n",
       "      <td>82513</td>\n",
       "      <td>MULTIPOLYGON (((11.69798 51.08352, 11.69817 51...</td>\n",
       "      <td>Saale-Holzland-Kreis, Landkreis</td>\n",
       "    </tr>\n",
       "    <tr>\n",
       "      <th>397</th>\n",
       "      <td>16075000</td>\n",
       "      <td>Saale-Orla-Kreis</td>\n",
       "      <td>Landkreis</td>\n",
       "      <td>79030</td>\n",
       "      <td>MULTIPOLYGON (((11.83003 50.78988, 11.83030 50...</td>\n",
       "      <td>Saale-Orla-Kreis, Landkreis</td>\n",
       "    </tr>\n",
       "    <tr>\n",
       "      <th>398</th>\n",
       "      <td>16076000</td>\n",
       "      <td>Greiz</td>\n",
       "      <td>Landkreis</td>\n",
       "      <td>96102</td>\n",
       "      <td>MULTIPOLYGON (((12.19167 50.96358, 12.19448 50...</td>\n",
       "      <td>Greiz, Landkreis</td>\n",
       "    </tr>\n",
       "    <tr>\n",
       "      <th>399</th>\n",
       "      <td>16077000</td>\n",
       "      <td>Altenburger Land</td>\n",
       "      <td>Landkreis</td>\n",
       "      <td>87807</td>\n",
       "      <td>MULTIPOLYGON (((12.34927 51.09665, 12.34980 51...</td>\n",
       "      <td>Altenburger Land, Landkreis</td>\n",
       "    </tr>\n",
       "  </tbody>\n",
       "</table>\n",
       "<p>400 rows × 6 columns</p>\n",
       "</div>"
      ],
      "text/plain": [
       "          ags                   gen               bez     ewz  \\\n",
       "0    01001000             Flensburg  kreisfreie Stadt   91113   \n",
       "1    01002000                  Kiel  kreisfreie Stadt  246243   \n",
       "2    01003000                Lübeck  kreisfreie Stadt  216277   \n",
       "3    01004000            Neumünster  kreisfreie Stadt   79496   \n",
       "4    01051000          Dithmarschen             Kreis  133969   \n",
       "..        ...                   ...               ...     ...   \n",
       "395  16073000   Saalfeld-Rudolstadt         Landkreis  100969   \n",
       "396  16074000  Saale-Holzland-Kreis         Landkreis   82513   \n",
       "397  16075000      Saale-Orla-Kreis         Landkreis   79030   \n",
       "398  16076000                 Greiz         Landkreis   96102   \n",
       "399  16077000      Altenburger Land         Landkreis   87807   \n",
       "\n",
       "                                                  geom  \\\n",
       "0    MULTIPOLYGON (((9.41266 54.82264, 9.41318 54.8...   \n",
       "1    MULTIPOLYGON (((10.16916 54.43138, 10.16957 54...   \n",
       "2    MULTIPOLYGON (((10.87684 53.98737, 10.87884 53...   \n",
       "3    MULTIPOLYGON (((9.99545 54.14972, 9.99713 54.1...   \n",
       "4    MULTIPOLYGON (((9.07777 54.36249, 9.07916 54.3...   \n",
       "..                                                 ...   \n",
       "395  MULTIPOLYGON (((11.26298 50.83328, 11.26504 50...   \n",
       "396  MULTIPOLYGON (((11.69798 51.08352, 11.69817 51...   \n",
       "397  MULTIPOLYGON (((11.83003 50.78988, 11.83030 50...   \n",
       "398  MULTIPOLYGON (((12.19167 50.96358, 12.19448 50...   \n",
       "399  MULTIPOLYGON (((12.34927 51.09665, 12.34980 51...   \n",
       "\n",
       "                                 krs  \n",
       "0        Flensburg, kreisfreie Stadt  \n",
       "1             Kiel, kreisfreie Stadt  \n",
       "2           Lübeck, kreisfreie Stadt  \n",
       "3       Neumünster, kreisfreie Stadt  \n",
       "4                Dithmarschen, Kreis  \n",
       "..                               ...  \n",
       "395   Saalfeld-Rudolstadt, Landkreis  \n",
       "396  Saale-Holzland-Kreis, Landkreis  \n",
       "397      Saale-Orla-Kreis, Landkreis  \n",
       "398                 Greiz, Landkreis  \n",
       "399      Altenburger Land, Landkreis  \n",
       "\n",
       "[400 rows x 6 columns]"
      ]
     },
     "execution_count": 34,
     "metadata": {},
     "output_type": "execute_result"
    }
   ],
   "source": [
    "# Geodaten laden:\n",
    "vg_krs = gpd.read_parquet(bkg_source[\"processed_file\"]).to_crs(epsg=4326)\n",
    "\n",
    "# Seegebiete ausschließen:\n",
    "vg_krs = vg_krs.loc[vg_krs.GF.ne(2)]\n",
    "\n",
    "# schönere Spaltennamen:\n",
    "columns = {\n",
    "    \"AGS_0\": \"ags\",\n",
    "    \"GEN\": \"gen\",\n",
    "    \"BEZ\": \"bez\",\n",
    "    \"EWZ\": \"ewz\",\n",
    "    \"geometry\": \"geom\",\n",
    "}\n",
    "vg_krs = vg_krs.filter(columns).rename(columns, axis=1)\n",
    "\n",
    "# Unser erster Match-Versuch nutzt die Tatsache, dass im EG-Datensatz die Kreise benannt sind nach der Form:\n",
    "# \"<NAME>, <BEZEICHNUNG>\".\n",
    "# Wir konstruieren im gdf eine neue Spalte aus \"gen\" & \"bez\", die das reproduziert.\n",
    "\n",
    "# Dafür müssen wir die Großschreibung korrigieren:\n",
    "vg_krs.loc[vg_krs.bez.eq(\"Kreisfreie Stadt\"), \"bez\"] = \"kreisfreie Stadt\"\n",
    "\n",
    "vg_krs[\"krs\"] = vg_krs.gen + \", \" + vg_krs.bez\n",
    "vg_krs"
   ]
  },
  {
   "cell_type": "markdown",
   "metadata": {},
   "source": [
    "Wir füllen `df_dauer_matched` nach und nach mit den Matches zwischen `df_dauer_krs` und der `vg_krs`.\n",
    "\n",
    "Erster Join: die `krs`-Spalte im EG-Datensatz entspricht der Form \"@gen, @bez\"; das machen wir uns zunutze:"
   ]
  },
  {
   "cell_type": "code",
   "execution_count": 35,
   "metadata": {},
   "outputs": [
    {
     "data": {
      "text/html": [
       "<div>\n",
       "<style scoped>\n",
       "    .dataframe tbody tr th:only-of-type {\n",
       "        vertical-align: middle;\n",
       "    }\n",
       "\n",
       "    .dataframe tbody tr th {\n",
       "        vertical-align: top;\n",
       "    }\n",
       "\n",
       "    .dataframe thead th {\n",
       "        text-align: right;\n",
       "    }\n",
       "</style>\n",
       "<table border=\"1\" class=\"dataframe\">\n",
       "  <thead>\n",
       "    <tr style=\"text-align: right;\">\n",
       "      <th></th>\n",
       "      <th>jahr</th>\n",
       "      <th>krs</th>\n",
       "      <th>fm</th>\n",
       "      <th>egplus</th>\n",
       "      <th>monate</th>\n",
       "    </tr>\n",
       "  </thead>\n",
       "  <tbody>\n",
       "    <tr>\n",
       "      <th>36</th>\n",
       "      <td>2016</td>\n",
       "      <td>Alb-Donau-Kreis</td>\n",
       "      <td>Insgesamt</td>\n",
       "      <td>Insgesamt</td>\n",
       "      <td>10.4</td>\n",
       "    </tr>\n",
       "    <tr>\n",
       "      <th>37</th>\n",
       "      <td>2016</td>\n",
       "      <td>Alb-Donau-Kreis</td>\n",
       "      <td>Insgesamt</td>\n",
       "      <td>Mit Elterngeld Plus</td>\n",
       "      <td>18.8</td>\n",
       "    </tr>\n",
       "    <tr>\n",
       "      <th>38</th>\n",
       "      <td>2016</td>\n",
       "      <td>Alb-Donau-Kreis</td>\n",
       "      <td>Insgesamt</td>\n",
       "      <td>Ohne Elterngeld Plus</td>\n",
       "      <td>8.9</td>\n",
       "    </tr>\n",
       "    <tr>\n",
       "      <th>39</th>\n",
       "      <td>2016</td>\n",
       "      <td>Alb-Donau-Kreis</td>\n",
       "      <td>männlich</td>\n",
       "      <td>Insgesamt</td>\n",
       "      <td>2.8</td>\n",
       "    </tr>\n",
       "    <tr>\n",
       "      <th>40</th>\n",
       "      <td>2016</td>\n",
       "      <td>Alb-Donau-Kreis</td>\n",
       "      <td>männlich</td>\n",
       "      <td>Mit Elterngeld Plus</td>\n",
       "      <td>7.9</td>\n",
       "    </tr>\n",
       "    <tr>\n",
       "      <th>...</th>\n",
       "      <td>...</td>\n",
       "      <td>...</td>\n",
       "      <td>...</td>\n",
       "      <td>...</td>\n",
       "      <td>...</td>\n",
       "    </tr>\n",
       "    <tr>\n",
       "      <th>34229</th>\n",
       "      <td>2023</td>\n",
       "      <td>Zollernalbkreis</td>\n",
       "      <td>Insgesamt</td>\n",
       "      <td>Ohne Elterngeld Plus</td>\n",
       "      <td>8.1</td>\n",
       "    </tr>\n",
       "    <tr>\n",
       "      <th>34231</th>\n",
       "      <td>2023</td>\n",
       "      <td>Zollernalbkreis</td>\n",
       "      <td>männlich</td>\n",
       "      <td>Mit Elterngeld Plus</td>\n",
       "      <td>7.2</td>\n",
       "    </tr>\n",
       "    <tr>\n",
       "      <th>34233</th>\n",
       "      <td>2023</td>\n",
       "      <td>Zollernalbkreis</td>\n",
       "      <td>weiblich</td>\n",
       "      <td>Insgesamt</td>\n",
       "      <td>15.7</td>\n",
       "    </tr>\n",
       "    <tr>\n",
       "      <th>34234</th>\n",
       "      <td>2023</td>\n",
       "      <td>Zollernalbkreis</td>\n",
       "      <td>weiblich</td>\n",
       "      <td>Mit Elterngeld Plus</td>\n",
       "      <td>20.1</td>\n",
       "    </tr>\n",
       "    <tr>\n",
       "      <th>34235</th>\n",
       "      <td>2023</td>\n",
       "      <td>Zollernalbkreis</td>\n",
       "      <td>weiblich</td>\n",
       "      <td>Ohne Elterngeld Plus</td>\n",
       "      <td>11.6</td>\n",
       "    </tr>\n",
       "  </tbody>\n",
       "</table>\n",
       "<p>6950 rows × 5 columns</p>\n",
       "</div>"
      ],
      "text/plain": [
       "       jahr              krs         fm                egplus  monate\n",
       "36     2016  Alb-Donau-Kreis  Insgesamt             Insgesamt    10.4\n",
       "37     2016  Alb-Donau-Kreis  Insgesamt   Mit Elterngeld Plus    18.8\n",
       "38     2016  Alb-Donau-Kreis  Insgesamt  Ohne Elterngeld Plus     8.9\n",
       "39     2016  Alb-Donau-Kreis   männlich             Insgesamt     2.8\n",
       "40     2016  Alb-Donau-Kreis   männlich   Mit Elterngeld Plus     7.9\n",
       "...     ...              ...        ...                   ...     ...\n",
       "34229  2023  Zollernalbkreis  Insgesamt  Ohne Elterngeld Plus     8.1\n",
       "34231  2023  Zollernalbkreis   männlich   Mit Elterngeld Plus     7.2\n",
       "34233  2023  Zollernalbkreis   weiblich             Insgesamt    15.7\n",
       "34234  2023  Zollernalbkreis   weiblich   Mit Elterngeld Plus    20.1\n",
       "34235  2023  Zollernalbkreis   weiblich  Ohne Elterngeld Plus    11.6\n",
       "\n",
       "[6950 rows x 5 columns]"
      ]
     },
     "execution_count": 35,
     "metadata": {},
     "output_type": "execute_result"
    }
   ],
   "source": [
    "df_dauer_matched = pd.merge(df_dauer_krs, vg_krs, on=\"krs\")\n",
    "\n",
    "# Nichtmatches:\n",
    "df_dauer_mismatch = df_dauer_krs.query('~krs.isin(@df_dauer_matched.krs)')\n",
    "df_dauer_mismatch"
   ]
  },
  {
   "cell_type": "markdown",
   "metadata": {},
   "source": [
    "Zweiter Join: die Bezeichnung des Kreises (Stadtkreis, Landkreis, kreisfreie Stadt, ...) ist bei einigen Orten Teil von `gen`; wir matchen die bisherigen Überbleibsel, die deswegen nicht gematcht haben und die erfolgreichen Matches wandern in df_dauer_matched:"
   ]
  },
  {
   "cell_type": "code",
   "execution_count": 36,
   "metadata": {},
   "outputs": [
    {
     "data": {
      "text/html": [
       "<div>\n",
       "<style scoped>\n",
       "    .dataframe tbody tr th:only-of-type {\n",
       "        vertical-align: middle;\n",
       "    }\n",
       "\n",
       "    .dataframe tbody tr th {\n",
       "        vertical-align: top;\n",
       "    }\n",
       "\n",
       "    .dataframe thead th {\n",
       "        text-align: right;\n",
       "    }\n",
       "</style>\n",
       "<table border=\"1\" class=\"dataframe\">\n",
       "  <thead>\n",
       "    <tr style=\"text-align: right;\">\n",
       "      <th></th>\n",
       "      <th>jahr</th>\n",
       "      <th>krs</th>\n",
       "      <th>fm</th>\n",
       "      <th>egplus</th>\n",
       "      <th>monate</th>\n",
       "    </tr>\n",
       "  </thead>\n",
       "  <tbody>\n",
       "    <tr>\n",
       "      <th>279</th>\n",
       "      <td>2016</td>\n",
       "      <td>Baden-Baden, kreisfreie Stadt</td>\n",
       "      <td>Insgesamt</td>\n",
       "      <td>Insgesamt</td>\n",
       "      <td>11.3</td>\n",
       "    </tr>\n",
       "    <tr>\n",
       "      <th>280</th>\n",
       "      <td>2016</td>\n",
       "      <td>Baden-Baden, kreisfreie Stadt</td>\n",
       "      <td>Insgesamt</td>\n",
       "      <td>Mit Elterngeld Plus</td>\n",
       "      <td>18.3</td>\n",
       "    </tr>\n",
       "    <tr>\n",
       "      <th>281</th>\n",
       "      <td>2016</td>\n",
       "      <td>Baden-Baden, kreisfreie Stadt</td>\n",
       "      <td>Insgesamt</td>\n",
       "      <td>Ohne Elterngeld Plus</td>\n",
       "      <td>9.8</td>\n",
       "    </tr>\n",
       "    <tr>\n",
       "      <th>282</th>\n",
       "      <td>2016</td>\n",
       "      <td>Baden-Baden, kreisfreie Stadt</td>\n",
       "      <td>männlich</td>\n",
       "      <td>Insgesamt</td>\n",
       "      <td>3.2</td>\n",
       "    </tr>\n",
       "    <tr>\n",
       "      <th>283</th>\n",
       "      <td>2016</td>\n",
       "      <td>Baden-Baden, kreisfreie Stadt</td>\n",
       "      <td>männlich</td>\n",
       "      <td>Mit Elterngeld Plus</td>\n",
       "      <td>6.5</td>\n",
       "    </tr>\n",
       "    <tr>\n",
       "      <th>...</th>\n",
       "      <td>...</td>\n",
       "      <td>...</td>\n",
       "      <td>...</td>\n",
       "      <td>...</td>\n",
       "      <td>...</td>\n",
       "    </tr>\n",
       "    <tr>\n",
       "      <th>34194</th>\n",
       "      <td>2023</td>\n",
       "      <td>Wunsiedel im Fichtelgebirge, Landkreis</td>\n",
       "      <td>männlich</td>\n",
       "      <td>Insgesamt</td>\n",
       "      <td>3.3</td>\n",
       "    </tr>\n",
       "    <tr>\n",
       "      <th>34195</th>\n",
       "      <td>2023</td>\n",
       "      <td>Wunsiedel im Fichtelgebirge, Landkreis</td>\n",
       "      <td>männlich</td>\n",
       "      <td>Mit Elterngeld Plus</td>\n",
       "      <td>7.0</td>\n",
       "    </tr>\n",
       "    <tr>\n",
       "      <th>34197</th>\n",
       "      <td>2023</td>\n",
       "      <td>Wunsiedel im Fichtelgebirge, Landkreis</td>\n",
       "      <td>weiblich</td>\n",
       "      <td>Insgesamt</td>\n",
       "      <td>15.0</td>\n",
       "    </tr>\n",
       "    <tr>\n",
       "      <th>34198</th>\n",
       "      <td>2023</td>\n",
       "      <td>Wunsiedel im Fichtelgebirge, Landkreis</td>\n",
       "      <td>weiblich</td>\n",
       "      <td>Mit Elterngeld Plus</td>\n",
       "      <td>19.7</td>\n",
       "    </tr>\n",
       "    <tr>\n",
       "      <th>34199</th>\n",
       "      <td>2023</td>\n",
       "      <td>Wunsiedel im Fichtelgebirge, Landkreis</td>\n",
       "      <td>weiblich</td>\n",
       "      <td>Ohne Elterngeld Plus</td>\n",
       "      <td>11.7</td>\n",
       "    </tr>\n",
       "  </tbody>\n",
       "</table>\n",
       "<p>3636 rows × 5 columns</p>\n",
       "</div>"
      ],
      "text/plain": [
       "       jahr                                     krs         fm  \\\n",
       "279    2016           Baden-Baden, kreisfreie Stadt  Insgesamt   \n",
       "280    2016           Baden-Baden, kreisfreie Stadt  Insgesamt   \n",
       "281    2016           Baden-Baden, kreisfreie Stadt  Insgesamt   \n",
       "282    2016           Baden-Baden, kreisfreie Stadt   männlich   \n",
       "283    2016           Baden-Baden, kreisfreie Stadt   männlich   \n",
       "...     ...                                     ...        ...   \n",
       "34194  2023  Wunsiedel im Fichtelgebirge, Landkreis   männlich   \n",
       "34195  2023  Wunsiedel im Fichtelgebirge, Landkreis   männlich   \n",
       "34197  2023  Wunsiedel im Fichtelgebirge, Landkreis   weiblich   \n",
       "34198  2023  Wunsiedel im Fichtelgebirge, Landkreis   weiblich   \n",
       "34199  2023  Wunsiedel im Fichtelgebirge, Landkreis   weiblich   \n",
       "\n",
       "                     egplus  monate  \n",
       "279               Insgesamt    11.3  \n",
       "280     Mit Elterngeld Plus    18.3  \n",
       "281    Ohne Elterngeld Plus     9.8  \n",
       "282               Insgesamt     3.2  \n",
       "283     Mit Elterngeld Plus     6.5  \n",
       "...                     ...     ...  \n",
       "34194             Insgesamt     3.3  \n",
       "34195   Mit Elterngeld Plus     7.0  \n",
       "34197             Insgesamt    15.0  \n",
       "34198   Mit Elterngeld Plus    19.7  \n",
       "34199  Ohne Elterngeld Plus    11.7  \n",
       "\n",
       "[3636 rows x 5 columns]"
      ]
     },
     "execution_count": 36,
     "metadata": {},
     "output_type": "execute_result"
    }
   ],
   "source": [
    "df_dauer_matched = pd.concat([\n",
    "    df_dauer_matched,\n",
    "    pd.merge(df_dauer_mismatch, vg_krs.drop(\"krs\", axis=1), left_on=\"krs\", right_on=\"gen\")\n",
    "])\n",
    "df_dauer_mismatch = df_dauer_krs.query('~krs.isin(@df_dauer_matched.krs)')\n",
    "df_dauer_mismatch"
   ]
  },
  {
   "cell_type": "markdown",
   "metadata": {},
   "source": [
    "Dritter & vierter Join: Einige Kreise, die im EG-Datensatz \"Landkreis\" oder \"kreisfreie Stadt\" heißen, heißen in der vg250 \"Kreis\" oder \"Stadtkreis\":"
   ]
  },
  {
   "cell_type": "code",
   "execution_count": 37,
   "metadata": {},
   "outputs": [
    {
     "data": {
      "text/html": [
       "<div>\n",
       "<style scoped>\n",
       "    .dataframe tbody tr th:only-of-type {\n",
       "        vertical-align: middle;\n",
       "    }\n",
       "\n",
       "    .dataframe tbody tr th {\n",
       "        vertical-align: top;\n",
       "    }\n",
       "\n",
       "    .dataframe thead th {\n",
       "        text-align: right;\n",
       "    }\n",
       "</style>\n",
       "<table border=\"1\" class=\"dataframe\">\n",
       "  <thead>\n",
       "    <tr style=\"text-align: right;\">\n",
       "      <th></th>\n",
       "      <th>jahr</th>\n",
       "      <th>krs</th>\n",
       "      <th>fm</th>\n",
       "      <th>egplus</th>\n",
       "      <th>monate</th>\n",
       "    </tr>\n",
       "  </thead>\n",
       "  <tbody>\n",
       "    <tr>\n",
       "      <th>279</th>\n",
       "      <td>2016</td>\n",
       "      <td>Baden-Baden, kreisfreie Stadt</td>\n",
       "      <td>Insgesamt</td>\n",
       "      <td>Insgesamt</td>\n",
       "      <td>11.3</td>\n",
       "    </tr>\n",
       "    <tr>\n",
       "      <th>280</th>\n",
       "      <td>2016</td>\n",
       "      <td>Baden-Baden, kreisfreie Stadt</td>\n",
       "      <td>Insgesamt</td>\n",
       "      <td>Mit Elterngeld Plus</td>\n",
       "      <td>18.3</td>\n",
       "    </tr>\n",
       "    <tr>\n",
       "      <th>281</th>\n",
       "      <td>2016</td>\n",
       "      <td>Baden-Baden, kreisfreie Stadt</td>\n",
       "      <td>Insgesamt</td>\n",
       "      <td>Ohne Elterngeld Plus</td>\n",
       "      <td>9.8</td>\n",
       "    </tr>\n",
       "    <tr>\n",
       "      <th>282</th>\n",
       "      <td>2016</td>\n",
       "      <td>Baden-Baden, kreisfreie Stadt</td>\n",
       "      <td>männlich</td>\n",
       "      <td>Insgesamt</td>\n",
       "      <td>3.2</td>\n",
       "    </tr>\n",
       "    <tr>\n",
       "      <th>283</th>\n",
       "      <td>2016</td>\n",
       "      <td>Baden-Baden, kreisfreie Stadt</td>\n",
       "      <td>männlich</td>\n",
       "      <td>Mit Elterngeld Plus</td>\n",
       "      <td>6.5</td>\n",
       "    </tr>\n",
       "    <tr>\n",
       "      <th>...</th>\n",
       "      <td>...</td>\n",
       "      <td>...</td>\n",
       "      <td>...</td>\n",
       "      <td>...</td>\n",
       "      <td>...</td>\n",
       "    </tr>\n",
       "    <tr>\n",
       "      <th>34194</th>\n",
       "      <td>2023</td>\n",
       "      <td>Wunsiedel im Fichtelgebirge, Landkreis</td>\n",
       "      <td>männlich</td>\n",
       "      <td>Insgesamt</td>\n",
       "      <td>3.3</td>\n",
       "    </tr>\n",
       "    <tr>\n",
       "      <th>34195</th>\n",
       "      <td>2023</td>\n",
       "      <td>Wunsiedel im Fichtelgebirge, Landkreis</td>\n",
       "      <td>männlich</td>\n",
       "      <td>Mit Elterngeld Plus</td>\n",
       "      <td>7.0</td>\n",
       "    </tr>\n",
       "    <tr>\n",
       "      <th>34197</th>\n",
       "      <td>2023</td>\n",
       "      <td>Wunsiedel im Fichtelgebirge, Landkreis</td>\n",
       "      <td>weiblich</td>\n",
       "      <td>Insgesamt</td>\n",
       "      <td>15.0</td>\n",
       "    </tr>\n",
       "    <tr>\n",
       "      <th>34198</th>\n",
       "      <td>2023</td>\n",
       "      <td>Wunsiedel im Fichtelgebirge, Landkreis</td>\n",
       "      <td>weiblich</td>\n",
       "      <td>Mit Elterngeld Plus</td>\n",
       "      <td>19.7</td>\n",
       "    </tr>\n",
       "    <tr>\n",
       "      <th>34199</th>\n",
       "      <td>2023</td>\n",
       "      <td>Wunsiedel im Fichtelgebirge, Landkreis</td>\n",
       "      <td>weiblich</td>\n",
       "      <td>Ohne Elterngeld Plus</td>\n",
       "      <td>11.7</td>\n",
       "    </tr>\n",
       "  </tbody>\n",
       "</table>\n",
       "<p>1319 rows × 5 columns</p>\n",
       "</div>"
      ],
      "text/plain": [
       "       jahr                                     krs         fm  \\\n",
       "279    2016           Baden-Baden, kreisfreie Stadt  Insgesamt   \n",
       "280    2016           Baden-Baden, kreisfreie Stadt  Insgesamt   \n",
       "281    2016           Baden-Baden, kreisfreie Stadt  Insgesamt   \n",
       "282    2016           Baden-Baden, kreisfreie Stadt   männlich   \n",
       "283    2016           Baden-Baden, kreisfreie Stadt   männlich   \n",
       "...     ...                                     ...        ...   \n",
       "34194  2023  Wunsiedel im Fichtelgebirge, Landkreis   männlich   \n",
       "34195  2023  Wunsiedel im Fichtelgebirge, Landkreis   männlich   \n",
       "34197  2023  Wunsiedel im Fichtelgebirge, Landkreis   weiblich   \n",
       "34198  2023  Wunsiedel im Fichtelgebirge, Landkreis   weiblich   \n",
       "34199  2023  Wunsiedel im Fichtelgebirge, Landkreis   weiblich   \n",
       "\n",
       "                     egplus  monate  \n",
       "279               Insgesamt    11.3  \n",
       "280     Mit Elterngeld Plus    18.3  \n",
       "281    Ohne Elterngeld Plus     9.8  \n",
       "282               Insgesamt     3.2  \n",
       "283     Mit Elterngeld Plus     6.5  \n",
       "...                     ...     ...  \n",
       "34194             Insgesamt     3.3  \n",
       "34195   Mit Elterngeld Plus     7.0  \n",
       "34197             Insgesamt    15.0  \n",
       "34198   Mit Elterngeld Plus    19.7  \n",
       "34199  Ohne Elterngeld Plus    11.7  \n",
       "\n",
       "[1319 rows x 5 columns]"
      ]
     },
     "execution_count": 37,
     "metadata": {},
     "output_type": "execute_result"
    }
   ],
   "source": [
    "vg_krs.krs = vg_krs.krs.str.replace(\"Kreis\", \"Landkreis\")\n",
    "df_dauer_matched = pd.concat([\n",
    "    df_dauer_matched,\n",
    "    pd.merge(df_dauer_mismatch, vg_krs, on=\"krs\")\n",
    "])\n",
    "df_dauer_mismatch = df_dauer_krs.query('~krs.isin(@df_dauer_matched.krs)')\n",
    "df_dauer_mismatch"
   ]
  },
  {
   "cell_type": "code",
   "execution_count": 38,
   "metadata": {},
   "outputs": [
    {
     "data": {
      "text/html": [
       "<div>\n",
       "<style scoped>\n",
       "    .dataframe tbody tr th:only-of-type {\n",
       "        vertical-align: middle;\n",
       "    }\n",
       "\n",
       "    .dataframe tbody tr th {\n",
       "        vertical-align: top;\n",
       "    }\n",
       "\n",
       "    .dataframe thead th {\n",
       "        text-align: right;\n",
       "    }\n",
       "</style>\n",
       "<table border=\"1\" class=\"dataframe\">\n",
       "  <thead>\n",
       "    <tr style=\"text-align: right;\">\n",
       "      <th></th>\n",
       "      <th>jahr</th>\n",
       "      <th>krs</th>\n",
       "      <th>fm</th>\n",
       "      <th>egplus</th>\n",
       "      <th>monate</th>\n",
       "    </tr>\n",
       "  </thead>\n",
       "  <tbody>\n",
       "    <tr>\n",
       "      <th>783</th>\n",
       "      <td>2016</td>\n",
       "      <td>Dillingen an der Donau, Landkreis</td>\n",
       "      <td>Insgesamt</td>\n",
       "      <td>Insgesamt</td>\n",
       "      <td>10.4</td>\n",
       "    </tr>\n",
       "    <tr>\n",
       "      <th>784</th>\n",
       "      <td>2016</td>\n",
       "      <td>Dillingen an der Donau, Landkreis</td>\n",
       "      <td>Insgesamt</td>\n",
       "      <td>Mit Elterngeld Plus</td>\n",
       "      <td>19.0</td>\n",
       "    </tr>\n",
       "    <tr>\n",
       "      <th>785</th>\n",
       "      <td>2016</td>\n",
       "      <td>Dillingen an der Donau, Landkreis</td>\n",
       "      <td>Insgesamt</td>\n",
       "      <td>Ohne Elterngeld Plus</td>\n",
       "      <td>9.2</td>\n",
       "    </tr>\n",
       "    <tr>\n",
       "      <th>786</th>\n",
       "      <td>2016</td>\n",
       "      <td>Dillingen an der Donau, Landkreis</td>\n",
       "      <td>männlich</td>\n",
       "      <td>Insgesamt</td>\n",
       "      <td>2.7</td>\n",
       "    </tr>\n",
       "    <tr>\n",
       "      <th>787</th>\n",
       "      <td>2016</td>\n",
       "      <td>Dillingen an der Donau, Landkreis</td>\n",
       "      <td>männlich</td>\n",
       "      <td>Mit Elterngeld Plus</td>\n",
       "      <td>6.4</td>\n",
       "    </tr>\n",
       "    <tr>\n",
       "      <th>...</th>\n",
       "      <td>...</td>\n",
       "      <td>...</td>\n",
       "      <td>...</td>\n",
       "      <td>...</td>\n",
       "      <td>...</td>\n",
       "    </tr>\n",
       "    <tr>\n",
       "      <th>34194</th>\n",
       "      <td>2023</td>\n",
       "      <td>Wunsiedel im Fichtelgebirge, Landkreis</td>\n",
       "      <td>männlich</td>\n",
       "      <td>Insgesamt</td>\n",
       "      <td>3.3</td>\n",
       "    </tr>\n",
       "    <tr>\n",
       "      <th>34195</th>\n",
       "      <td>2023</td>\n",
       "      <td>Wunsiedel im Fichtelgebirge, Landkreis</td>\n",
       "      <td>männlich</td>\n",
       "      <td>Mit Elterngeld Plus</td>\n",
       "      <td>7.0</td>\n",
       "    </tr>\n",
       "    <tr>\n",
       "      <th>34197</th>\n",
       "      <td>2023</td>\n",
       "      <td>Wunsiedel im Fichtelgebirge, Landkreis</td>\n",
       "      <td>weiblich</td>\n",
       "      <td>Insgesamt</td>\n",
       "      <td>15.0</td>\n",
       "    </tr>\n",
       "    <tr>\n",
       "      <th>34198</th>\n",
       "      <td>2023</td>\n",
       "      <td>Wunsiedel im Fichtelgebirge, Landkreis</td>\n",
       "      <td>weiblich</td>\n",
       "      <td>Mit Elterngeld Plus</td>\n",
       "      <td>19.7</td>\n",
       "    </tr>\n",
       "    <tr>\n",
       "      <th>34199</th>\n",
       "      <td>2023</td>\n",
       "      <td>Wunsiedel im Fichtelgebirge, Landkreis</td>\n",
       "      <td>weiblich</td>\n",
       "      <td>Ohne Elterngeld Plus</td>\n",
       "      <td>11.7</td>\n",
       "    </tr>\n",
       "  </tbody>\n",
       "</table>\n",
       "<p>712 rows × 5 columns</p>\n",
       "</div>"
      ],
      "text/plain": [
       "       jahr                                     krs         fm  \\\n",
       "783    2016       Dillingen an der Donau, Landkreis  Insgesamt   \n",
       "784    2016       Dillingen an der Donau, Landkreis  Insgesamt   \n",
       "785    2016       Dillingen an der Donau, Landkreis  Insgesamt   \n",
       "786    2016       Dillingen an der Donau, Landkreis   männlich   \n",
       "787    2016       Dillingen an der Donau, Landkreis   männlich   \n",
       "...     ...                                     ...        ...   \n",
       "34194  2023  Wunsiedel im Fichtelgebirge, Landkreis   männlich   \n",
       "34195  2023  Wunsiedel im Fichtelgebirge, Landkreis   männlich   \n",
       "34197  2023  Wunsiedel im Fichtelgebirge, Landkreis   weiblich   \n",
       "34198  2023  Wunsiedel im Fichtelgebirge, Landkreis   weiblich   \n",
       "34199  2023  Wunsiedel im Fichtelgebirge, Landkreis   weiblich   \n",
       "\n",
       "                     egplus  monate  \n",
       "783               Insgesamt    10.4  \n",
       "784     Mit Elterngeld Plus    19.0  \n",
       "785    Ohne Elterngeld Plus     9.2  \n",
       "786               Insgesamt     2.7  \n",
       "787     Mit Elterngeld Plus     6.4  \n",
       "...                     ...     ...  \n",
       "34194             Insgesamt     3.3  \n",
       "34195   Mit Elterngeld Plus     7.0  \n",
       "34197             Insgesamt    15.0  \n",
       "34198   Mit Elterngeld Plus    19.7  \n",
       "34199  Ohne Elterngeld Plus    11.7  \n",
       "\n",
       "[712 rows x 5 columns]"
      ]
     },
     "execution_count": 38,
     "metadata": {},
     "output_type": "execute_result"
    }
   ],
   "source": [
    "vg_krs.krs = vg_krs.krs.str.replace(\"Stadtkreis\", \"kreisfreie Stadt\")\n",
    "df_dauer_matched = pd.concat([\n",
    "    df_dauer_matched,\n",
    "    pd.merge(df_dauer_mismatch, vg_krs, on=\"krs\")\n",
    "])\n",
    "df_dauer_mismatch = df_dauer_krs.query('~krs.isin(@df_dauer_matched.krs)')\n",
    "df_dauer_mismatch"
   ]
  },
  {
   "cell_type": "markdown",
   "metadata": {},
   "source": [
    "Und zuletzt gibt es einfach einige Totalverluste, vor allem weil im BKG seit einiger Zeit eine neue Nomenklatur für Präpositionen im Namen gilt: abgekürzt und ohne Leerzeichen bei mehreren Wörtern. Plus, wir kürzen \"Oberpfalz\" und \"Oldenburg\" ab."
   ]
  },
  {
   "cell_type": "code",
   "execution_count": 39,
   "metadata": {},
   "outputs": [
    {
     "data": {
      "text/html": [
       "<div>\n",
       "<style scoped>\n",
       "    .dataframe tbody tr th:only-of-type {\n",
       "        vertical-align: middle;\n",
       "    }\n",
       "\n",
       "    .dataframe tbody tr th {\n",
       "        vertical-align: top;\n",
       "    }\n",
       "\n",
       "    .dataframe thead th {\n",
       "        text-align: right;\n",
       "    }\n",
       "</style>\n",
       "<table border=\"1\" class=\"dataframe\">\n",
       "  <thead>\n",
       "    <tr style=\"text-align: right;\">\n",
       "      <th></th>\n",
       "      <th>jahr</th>\n",
       "      <th>krs</th>\n",
       "      <th>fm</th>\n",
       "      <th>egplus</th>\n",
       "      <th>monate</th>\n",
       "    </tr>\n",
       "  </thead>\n",
       "  <tbody>\n",
       "    <tr>\n",
       "      <th>927</th>\n",
       "      <td>2016</td>\n",
       "      <td>Eisenach, kreisfreie Stadt (bis 30.06.2021)</td>\n",
       "      <td>Insgesamt</td>\n",
       "      <td>Insgesamt</td>\n",
       "      <td>11.5</td>\n",
       "    </tr>\n",
       "    <tr>\n",
       "      <th>928</th>\n",
       "      <td>2016</td>\n",
       "      <td>Eisenach, kreisfreie Stadt (bis 30.06.2021)</td>\n",
       "      <td>Insgesamt</td>\n",
       "      <td>Mit Elterngeld Plus</td>\n",
       "      <td>18.8</td>\n",
       "    </tr>\n",
       "    <tr>\n",
       "      <th>929</th>\n",
       "      <td>2016</td>\n",
       "      <td>Eisenach, kreisfreie Stadt (bis 30.06.2021)</td>\n",
       "      <td>Insgesamt</td>\n",
       "      <td>Ohne Elterngeld Plus</td>\n",
       "      <td>9.0</td>\n",
       "    </tr>\n",
       "    <tr>\n",
       "      <th>930</th>\n",
       "      <td>2016</td>\n",
       "      <td>Eisenach, kreisfreie Stadt (bis 30.06.2021)</td>\n",
       "      <td>männlich</td>\n",
       "      <td>Insgesamt</td>\n",
       "      <td>2.9</td>\n",
       "    </tr>\n",
       "    <tr>\n",
       "      <th>931</th>\n",
       "      <td>2016</td>\n",
       "      <td>Eisenach, kreisfreie Stadt (bis 30.06.2021)</td>\n",
       "      <td>männlich</td>\n",
       "      <td>Mit Elterngeld Plus</td>\n",
       "      <td>5.6</td>\n",
       "    </tr>\n",
       "    <tr>\n",
       "      <th>...</th>\n",
       "      <td>...</td>\n",
       "      <td>...</td>\n",
       "      <td>...</td>\n",
       "      <td>...</td>\n",
       "      <td>...</td>\n",
       "    </tr>\n",
       "    <tr>\n",
       "      <th>30917</th>\n",
       "      <td>2023</td>\n",
       "      <td>Eisenach, kreisfreie Stadt (bis 30.06.2021)</td>\n",
       "      <td>Insgesamt</td>\n",
       "      <td>Ohne Elterngeld Plus</td>\n",
       "      <td>8.7</td>\n",
       "    </tr>\n",
       "    <tr>\n",
       "      <th>30919</th>\n",
       "      <td>2023</td>\n",
       "      <td>Eisenach, kreisfreie Stadt (bis 30.06.2021)</td>\n",
       "      <td>männlich</td>\n",
       "      <td>Mit Elterngeld Plus</td>\n",
       "      <td>5.5</td>\n",
       "    </tr>\n",
       "    <tr>\n",
       "      <th>30921</th>\n",
       "      <td>2023</td>\n",
       "      <td>Eisenach, kreisfreie Stadt (bis 30.06.2021)</td>\n",
       "      <td>weiblich</td>\n",
       "      <td>Insgesamt</td>\n",
       "      <td>14.6</td>\n",
       "    </tr>\n",
       "    <tr>\n",
       "      <th>30922</th>\n",
       "      <td>2023</td>\n",
       "      <td>Eisenach, kreisfreie Stadt (bis 30.06.2021)</td>\n",
       "      <td>weiblich</td>\n",
       "      <td>Mit Elterngeld Plus</td>\n",
       "      <td>18.6</td>\n",
       "    </tr>\n",
       "    <tr>\n",
       "      <th>30923</th>\n",
       "      <td>2023</td>\n",
       "      <td>Eisenach, kreisfreie Stadt (bis 30.06.2021)</td>\n",
       "      <td>weiblich</td>\n",
       "      <td>Ohne Elterngeld Plus</td>\n",
       "      <td>11.7</td>\n",
       "    </tr>\n",
       "  </tbody>\n",
       "</table>\n",
       "<p>64 rows × 5 columns</p>\n",
       "</div>"
      ],
      "text/plain": [
       "       jahr                                          krs         fm  \\\n",
       "927    2016  Eisenach, kreisfreie Stadt (bis 30.06.2021)  Insgesamt   \n",
       "928    2016  Eisenach, kreisfreie Stadt (bis 30.06.2021)  Insgesamt   \n",
       "929    2016  Eisenach, kreisfreie Stadt (bis 30.06.2021)  Insgesamt   \n",
       "930    2016  Eisenach, kreisfreie Stadt (bis 30.06.2021)   männlich   \n",
       "931    2016  Eisenach, kreisfreie Stadt (bis 30.06.2021)   männlich   \n",
       "...     ...                                          ...        ...   \n",
       "30917  2023  Eisenach, kreisfreie Stadt (bis 30.06.2021)  Insgesamt   \n",
       "30919  2023  Eisenach, kreisfreie Stadt (bis 30.06.2021)   männlich   \n",
       "30921  2023  Eisenach, kreisfreie Stadt (bis 30.06.2021)   weiblich   \n",
       "30922  2023  Eisenach, kreisfreie Stadt (bis 30.06.2021)   weiblich   \n",
       "30923  2023  Eisenach, kreisfreie Stadt (bis 30.06.2021)   weiblich   \n",
       "\n",
       "                     egplus  monate  \n",
       "927               Insgesamt    11.5  \n",
       "928     Mit Elterngeld Plus    18.8  \n",
       "929    Ohne Elterngeld Plus     9.0  \n",
       "930               Insgesamt     2.9  \n",
       "931     Mit Elterngeld Plus     5.6  \n",
       "...                     ...     ...  \n",
       "30917  Ohne Elterngeld Plus     8.7  \n",
       "30919   Mit Elterngeld Plus     5.5  \n",
       "30921             Insgesamt    14.6  \n",
       "30922   Mit Elterngeld Plus    18.6  \n",
       "30923  Ohne Elterngeld Plus    11.7  \n",
       "\n",
       "[64 rows x 5 columns]"
      ]
     },
     "execution_count": 39,
     "metadata": {},
     "output_type": "execute_result"
    }
   ],
   "source": [
    "translatedict = {\n",
    "    \"Dillingen a.d. Donau, Landkreis\": 'Dillingen an der Donau, Landkreis',\n",
    "    \"Eisenach, kreisfreie Stadt\": 'Eisenach, kreisfreie Stadt (bis 30.06.2021)',\n",
    "    \"Mühldorf a. Inn, Landkreis\": 'Mühldorf am Inn, Landkreis',\n",
    "    \"Neumarkt i.d. OPf., Landkreis\": 'Neumarkt in der Oberpfalz, Landkreis',\n",
    "    \"Neustadt a.d. Aisch-Bad Windsheim, Landkreis\": 'Neustadt an der Aisch-Bad Windsheim, Landkreis',\n",
    "    \"Neustadt a.d. Waldnaab, Landkreis\": 'Neustadt an der Waldnaab, Landkreis',\n",
    "    \"Oldenburg (Oldb), kreisfreie Stadt\": 'Oldenburg (Oldenburg), kreisfreie Stadt',\n",
    "    \"Pfaffenhofen a.d. Ilm, Landkreis\": 'Pfaffenhofen an der Ilm, Landkreis',\n",
    "    \"St. Wendel, Landkreis\": 'Sankt Wendel, Landkreis',\n",
    "    \"Weiden i.d. OPf., kreisfreie Stadt\": 'Weiden in der Oberpfalz, kreisfreie Stadt',\n",
    "    \"Wunsiedel i. Fichtelgebirge, Landkreis\": 'Wunsiedel im Fichtelgebirge, Landkreis'\n",
    "}\n",
    "\n",
    "vg_krs.krs = vg_krs.krs.replace(translatedict)\n",
    "\n",
    "df_dauer_matched = pd.concat([\n",
    "    df_dauer_matched,\n",
    "    pd.merge(df_dauer_mismatch, vg_krs, on=\"krs\")\n",
    "])\n",
    "df_dauer_mismatch = df_dauer_krs.query('~krs.isin(@df_dauer_matched.krs)')\n",
    "df_dauer_mismatch"
   ]
  },
  {
   "cell_type": "markdown",
   "metadata": {},
   "source": [
    "Einzig übrig ist nur noch Eisenach, das 2021 aufgehört hat als Kreis zu existieren. Das müssen wir dann ignorieren."
   ]
  },
  {
   "cell_type": "code",
   "execution_count": 40,
   "metadata": {},
   "outputs": [
    {
     "data": {
      "text/html": [
       "<div>\n",
       "<style scoped>\n",
       "    .dataframe tbody tr th:only-of-type {\n",
       "        vertical-align: middle;\n",
       "    }\n",
       "\n",
       "    .dataframe tbody tr th {\n",
       "        vertical-align: top;\n",
       "    }\n",
       "\n",
       "    .dataframe thead th {\n",
       "        text-align: right;\n",
       "    }\n",
       "</style>\n",
       "<table border=\"1\" class=\"dataframe\">\n",
       "  <thead>\n",
       "    <tr style=\"text-align: right;\">\n",
       "      <th></th>\n",
       "      <th>jahr</th>\n",
       "      <th>krs</th>\n",
       "      <th>fm</th>\n",
       "      <th>egplus</th>\n",
       "      <th>monate</th>\n",
       "      <th>ags</th>\n",
       "      <th>gen</th>\n",
       "      <th>bez</th>\n",
       "      <th>ewz</th>\n",
       "      <th>geom</th>\n",
       "    </tr>\n",
       "  </thead>\n",
       "  <tbody>\n",
       "    <tr>\n",
       "      <th>0</th>\n",
       "      <td>2016</td>\n",
       "      <td>Ahrweiler, Landkreis</td>\n",
       "      <td>Insgesamt</td>\n",
       "      <td>Insgesamt</td>\n",
       "      <td>12.0</td>\n",
       "      <td>07131000</td>\n",
       "      <td>Ahrweiler</td>\n",
       "      <td>Landkreis</td>\n",
       "      <td>128146</td>\n",
       "      <td>MULTIPOLYGON (((7.20379 50.64966, 7.20462 50.6...</td>\n",
       "    </tr>\n",
       "    <tr>\n",
       "      <th>1</th>\n",
       "      <td>2016</td>\n",
       "      <td>Ahrweiler, Landkreis</td>\n",
       "      <td>Insgesamt</td>\n",
       "      <td>Mit Elterngeld Plus</td>\n",
       "      <td>19.5</td>\n",
       "      <td>07131000</td>\n",
       "      <td>Ahrweiler</td>\n",
       "      <td>Landkreis</td>\n",
       "      <td>128146</td>\n",
       "      <td>MULTIPOLYGON (((7.20379 50.64966, 7.20462 50.6...</td>\n",
       "    </tr>\n",
       "    <tr>\n",
       "      <th>2</th>\n",
       "      <td>2016</td>\n",
       "      <td>Ahrweiler, Landkreis</td>\n",
       "      <td>Insgesamt</td>\n",
       "      <td>Ohne Elterngeld Plus</td>\n",
       "      <td>9.7</td>\n",
       "      <td>07131000</td>\n",
       "      <td>Ahrweiler</td>\n",
       "      <td>Landkreis</td>\n",
       "      <td>128146</td>\n",
       "      <td>MULTIPOLYGON (((7.20379 50.64966, 7.20462 50.6...</td>\n",
       "    </tr>\n",
       "    <tr>\n",
       "      <th>3</th>\n",
       "      <td>2016</td>\n",
       "      <td>Ahrweiler, Landkreis</td>\n",
       "      <td>männlich</td>\n",
       "      <td>Insgesamt</td>\n",
       "      <td>3.3</td>\n",
       "      <td>07131000</td>\n",
       "      <td>Ahrweiler</td>\n",
       "      <td>Landkreis</td>\n",
       "      <td>128146</td>\n",
       "      <td>MULTIPOLYGON (((7.20379 50.64966, 7.20462 50.6...</td>\n",
       "    </tr>\n",
       "    <tr>\n",
       "      <th>4</th>\n",
       "      <td>2016</td>\n",
       "      <td>Ahrweiler, Landkreis</td>\n",
       "      <td>männlich</td>\n",
       "      <td>Mit Elterngeld Plus</td>\n",
       "      <td>7.4</td>\n",
       "      <td>07131000</td>\n",
       "      <td>Ahrweiler</td>\n",
       "      <td>Landkreis</td>\n",
       "      <td>128146</td>\n",
       "      <td>MULTIPOLYGON (((7.20379 50.64966, 7.20462 50.6...</td>\n",
       "    </tr>\n",
       "    <tr>\n",
       "      <th>...</th>\n",
       "      <td>...</td>\n",
       "      <td>...</td>\n",
       "      <td>...</td>\n",
       "      <td>...</td>\n",
       "      <td>...</td>\n",
       "      <td>...</td>\n",
       "      <td>...</td>\n",
       "      <td>...</td>\n",
       "      <td>...</td>\n",
       "      <td>...</td>\n",
       "    </tr>\n",
       "    <tr>\n",
       "      <th>643</th>\n",
       "      <td>2023</td>\n",
       "      <td>Wunsiedel im Fichtelgebirge, Landkreis</td>\n",
       "      <td>männlich</td>\n",
       "      <td>Insgesamt</td>\n",
       "      <td>3.3</td>\n",
       "      <td>09479000</td>\n",
       "      <td>Wunsiedel i. Fichtelgebirge</td>\n",
       "      <td>Landkreis</td>\n",
       "      <td>71482</td>\n",
       "      <td>MULTIPOLYGON (((12.08858 50.22563, 12.08998 50...</td>\n",
       "    </tr>\n",
       "    <tr>\n",
       "      <th>644</th>\n",
       "      <td>2023</td>\n",
       "      <td>Wunsiedel im Fichtelgebirge, Landkreis</td>\n",
       "      <td>männlich</td>\n",
       "      <td>Mit Elterngeld Plus</td>\n",
       "      <td>7.0</td>\n",
       "      <td>09479000</td>\n",
       "      <td>Wunsiedel i. Fichtelgebirge</td>\n",
       "      <td>Landkreis</td>\n",
       "      <td>71482</td>\n",
       "      <td>MULTIPOLYGON (((12.08858 50.22563, 12.08998 50...</td>\n",
       "    </tr>\n",
       "    <tr>\n",
       "      <th>645</th>\n",
       "      <td>2023</td>\n",
       "      <td>Wunsiedel im Fichtelgebirge, Landkreis</td>\n",
       "      <td>weiblich</td>\n",
       "      <td>Insgesamt</td>\n",
       "      <td>15.0</td>\n",
       "      <td>09479000</td>\n",
       "      <td>Wunsiedel i. Fichtelgebirge</td>\n",
       "      <td>Landkreis</td>\n",
       "      <td>71482</td>\n",
       "      <td>MULTIPOLYGON (((12.08858 50.22563, 12.08998 50...</td>\n",
       "    </tr>\n",
       "    <tr>\n",
       "      <th>646</th>\n",
       "      <td>2023</td>\n",
       "      <td>Wunsiedel im Fichtelgebirge, Landkreis</td>\n",
       "      <td>weiblich</td>\n",
       "      <td>Mit Elterngeld Plus</td>\n",
       "      <td>19.7</td>\n",
       "      <td>09479000</td>\n",
       "      <td>Wunsiedel i. Fichtelgebirge</td>\n",
       "      <td>Landkreis</td>\n",
       "      <td>71482</td>\n",
       "      <td>MULTIPOLYGON (((12.08858 50.22563, 12.08998 50...</td>\n",
       "    </tr>\n",
       "    <tr>\n",
       "      <th>647</th>\n",
       "      <td>2023</td>\n",
       "      <td>Wunsiedel im Fichtelgebirge, Landkreis</td>\n",
       "      <td>weiblich</td>\n",
       "      <td>Ohne Elterngeld Plus</td>\n",
       "      <td>11.7</td>\n",
       "      <td>09479000</td>\n",
       "      <td>Wunsiedel i. Fichtelgebirge</td>\n",
       "      <td>Landkreis</td>\n",
       "      <td>71482</td>\n",
       "      <td>MULTIPOLYGON (((12.08858 50.22563, 12.08998 50...</td>\n",
       "    </tr>\n",
       "  </tbody>\n",
       "</table>\n",
       "<p>26692 rows × 10 columns</p>\n",
       "</div>"
      ],
      "text/plain": [
       "     jahr                                     krs         fm  \\\n",
       "0    2016                    Ahrweiler, Landkreis  Insgesamt   \n",
       "1    2016                    Ahrweiler, Landkreis  Insgesamt   \n",
       "2    2016                    Ahrweiler, Landkreis  Insgesamt   \n",
       "3    2016                    Ahrweiler, Landkreis   männlich   \n",
       "4    2016                    Ahrweiler, Landkreis   männlich   \n",
       "..    ...                                     ...        ...   \n",
       "643  2023  Wunsiedel im Fichtelgebirge, Landkreis   männlich   \n",
       "644  2023  Wunsiedel im Fichtelgebirge, Landkreis   männlich   \n",
       "645  2023  Wunsiedel im Fichtelgebirge, Landkreis   weiblich   \n",
       "646  2023  Wunsiedel im Fichtelgebirge, Landkreis   weiblich   \n",
       "647  2023  Wunsiedel im Fichtelgebirge, Landkreis   weiblich   \n",
       "\n",
       "                   egplus  monate       ags                          gen  \\\n",
       "0               Insgesamt    12.0  07131000                    Ahrweiler   \n",
       "1     Mit Elterngeld Plus    19.5  07131000                    Ahrweiler   \n",
       "2    Ohne Elterngeld Plus     9.7  07131000                    Ahrweiler   \n",
       "3               Insgesamt     3.3  07131000                    Ahrweiler   \n",
       "4     Mit Elterngeld Plus     7.4  07131000                    Ahrweiler   \n",
       "..                    ...     ...       ...                          ...   \n",
       "643             Insgesamt     3.3  09479000  Wunsiedel i. Fichtelgebirge   \n",
       "644   Mit Elterngeld Plus     7.0  09479000  Wunsiedel i. Fichtelgebirge   \n",
       "645             Insgesamt    15.0  09479000  Wunsiedel i. Fichtelgebirge   \n",
       "646   Mit Elterngeld Plus    19.7  09479000  Wunsiedel i. Fichtelgebirge   \n",
       "647  Ohne Elterngeld Plus    11.7  09479000  Wunsiedel i. Fichtelgebirge   \n",
       "\n",
       "           bez     ewz                                               geom  \n",
       "0    Landkreis  128146  MULTIPOLYGON (((7.20379 50.64966, 7.20462 50.6...  \n",
       "1    Landkreis  128146  MULTIPOLYGON (((7.20379 50.64966, 7.20462 50.6...  \n",
       "2    Landkreis  128146  MULTIPOLYGON (((7.20379 50.64966, 7.20462 50.6...  \n",
       "3    Landkreis  128146  MULTIPOLYGON (((7.20379 50.64966, 7.20462 50.6...  \n",
       "4    Landkreis  128146  MULTIPOLYGON (((7.20379 50.64966, 7.20462 50.6...  \n",
       "..         ...     ...                                                ...  \n",
       "643  Landkreis   71482  MULTIPOLYGON (((12.08858 50.22563, 12.08998 50...  \n",
       "644  Landkreis   71482  MULTIPOLYGON (((12.08858 50.22563, 12.08998 50...  \n",
       "645  Landkreis   71482  MULTIPOLYGON (((12.08858 50.22563, 12.08998 50...  \n",
       "646  Landkreis   71482  MULTIPOLYGON (((12.08858 50.22563, 12.08998 50...  \n",
       "647  Landkreis   71482  MULTIPOLYGON (((12.08858 50.22563, 12.08998 50...  \n",
       "\n",
       "[26692 rows x 10 columns]"
      ]
     },
     "execution_count": 40,
     "metadata": {},
     "output_type": "execute_result"
    }
   ],
   "source": [
    "df = gpd.GeoDataFrame(df_dauer_matched, geometry=\"geom\")\n",
    "df"
   ]
  },
  {
   "cell_type": "code",
   "execution_count": 41,
   "metadata": {},
   "outputs": [
    {
     "data": {
      "image/png": "[encoded data removed]",
      "text/plain": [
       "<Figure size 2000x750 with 4 Axes>"
      ]
     },
     "metadata": {},
     "output_type": "display_data"
    }
   ],
   "source": [
    "fig, axs = plt.subplots(\n",
    "    ncols=3,\n",
    "    nrows=1,\n",
    "    sharex=True, sharey=True,\n",
    ")\n",
    "\n",
    "fig.set_size_inches(20, 7.5)\n",
    "\n",
    "z_var = \"monate\"\n",
    "xfac_var = \"fm\"\n",
    "\n",
    "\n",
    "# globales Minimum und Maximum bei der Farb-Variable:\n",
    "z_min = df[z_var].min()\n",
    "z_max = df[z_var].max()\n",
    "\n",
    "# der Teil hier ist dann als interaktiver Teil realisiert:\n",
    "df_plot = df.query(\n",
    "    'egplus == \"Mit Elterngeld Plus\"'\n",
    "    'and jahr == 2023'\n",
    ")\n",
    "\n",
    "facet_var = \"fm\"\n",
    "facets = df_plot[facet_var].unique()\n",
    "\n",
    "cols = np.array([0, 1, 2])\n",
    "subpltcoord = cols\n",
    "\n",
    "for xy, facet in zip(subpltcoord, facets):\n",
    "\n",
    "    df_facet = df_plot.loc[df_plot[facet_var].eq(facet)]\n",
    "\n",
    "    x = xy\n",
    "    df_facet.plot(\n",
    "        ax=axs[x],\n",
    "        column=z_var,\n",
    "        vmin=z_min,\n",
    "        vmax=z_max,\n",
    "    )\n",
    "\n",
    "    axs[x].set_title(facet)\n",
    "\n",
    "for ax in axs:\n",
    "    ax.axis(\"off\")\n",
    "\n",
    "cbar = plt.colorbar(axs[0].collections[0], ax=axs.ravel().tolist(), shrink=.8)\n",
    "cbar.set_label(z_var)"
   ]
  },
  {
   "cell_type": "code",
   "execution_count": 92,
   "metadata": {},
   "outputs": [
    {
     "data": {
      "text/plain": [
       "0.225"
      ]
     },
     "execution_count": 92,
     "metadata": {},
     "output_type": "execute_result"
    }
   ],
   "source": [
    "n = matplotlib.colors.Normalize(0, 4)\n",
    "n(.9)"
   ]
  },
  {
   "cell_type": "markdown",
   "metadata": {},
   "source": [
    "# Wunschliste\n",
    "\n",
    "- User können in der App entscheiden, welche Variable als Facette dargestellt wird\n",
    "- Hover\n",
    "- Zoom"
   ]
  }
 ],
 "metadata": {
  "kernelspec": {
   "display_name": "env",
   "language": "python",
   "name": "python3"
  },
  "language_info": {
   "codemirror_mode": {
    "name": "ipython",
    "version": 3
   },
   "file_extension": ".py",
   "mimetype": "text/x-python",
   "name": "python",
   "nbconvert_exporter": "python",
   "pygments_lexer": "ipython3",
   "version": "3.11.8"
  }
 },
 "nbformat": 4,
 "nbformat_minor": 2
}
